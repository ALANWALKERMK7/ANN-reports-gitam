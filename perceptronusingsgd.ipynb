{
  "nbformat": 4,
  "nbformat_minor": 0,
  "metadata": {
    "colab": {
      "provenance": []
    },
    "kernelspec": {
      "name": "python3",
      "display_name": "Python 3"
    },
    "language_info": {
      "name": "python"
    }
  },
  "cells": [
    {
      "cell_type": "code",
      "execution_count": null,
      "metadata": {
        "id": "BvuzZusDCYWV"
      },
      "outputs": [],
      "source": [
        "import pandas as pd\n",
        "import numpy as np\n",
        "\n",
        "data_url = \"http://lib.stat.cmu.edu/datasets/boston\"\n",
        "raw_df = pd.read_csv(data_url, sep=\"\\s+\", skiprows=22, header=None)\n",
        "data = np.hstack([raw_df.values[::2, :], raw_df.values[1::2, :2]])\n",
        "target = raw_df.values[1::2, 2]"
      ]
    },
    {
      "cell_type": "code",
      "source": [
        "from sklearn.datasets import fetch_california_housing\n",
        "housing = fetch_california_housing()"
      ],
      "metadata": {
        "id": "ve2lvs5UChdY"
      },
      "execution_count": null,
      "outputs": []
    },
    {
      "cell_type": "code",
      "source": [
        "from sklearn.datasets import fetch_openml\n",
        "housing = fetch_openml(name=\"house_prices\", as_frame=True)"
      ],
      "metadata": {
        "id": "FHprJWjoCmE2"
      },
      "execution_count": null,
      "outputs": []
    },
    {
      "cell_type": "markdown",
      "source": [
        "**Iris Dataset**"
      ],
      "metadata": {
        "id": "xt2twSN3qrUU"
      }
    },
    {
      "cell_type": "code",
      "source": [
        "from sklearn import datasets\n",
        "import numpy as np\n",
        "import pandas as pd\n",
        "import matplotlib.pyplot as plt\n",
        "import matplotlib.lines as mlines\n",
        "np.random.seed(10)\n",
        "iris=datasets.load_iris()\n",
        "X = iris.data[0:99,:2]\n",
        "y = iris.target[0:99]"
      ],
      "metadata": {
        "id": "NOQbMRd38QaB"
      },
      "execution_count": null,
      "outputs": []
    },
    {
      "cell_type": "code",
      "source": [
        "# Plot figure\n",
        "plt.plot(X[:50, 0], X[:50, 1], 'bo', color='blue', label='0')\n",
        "plt.plot(X[50:99, 0], X[50:99, 1], 'bo', color='orange', label='1')\n",
        "plt.xlabel('sepal length')\n",
        "plt.ylabel('sepal width')\n",
        "plt.legend()"
      ],
      "metadata": {
        "id": "9zeYWkTn7mpl",
        "colab": {
          "base_uri": "https://localhost:8080/",
          "height": 299
        },
        "outputId": "7a2af6e7-4680-40cb-e86b-3b9ec0b89376"
      },
      "execution_count": null,
      "outputs": [
        {
          "output_type": "execute_result",
          "data": {
            "text/plain": [
              "<matplotlib.legend.Legend at 0x7f66d61eb190>"
            ]
          },
          "metadata": {},
          "execution_count": 5
        },
        {
          "output_type": "display_data",
          "data": {
            "text/plain": [
              "<Figure size 432x288 with 1 Axes>"
            ],
            "image/png": "[encoded data removed]"
          },
          "metadata": {
            "needs_background": "light"
          }
        }
      ]
    },
    {
      "cell_type": "code",
      "source": [
        "y=np.array([1 if i==1 else -1 for i in y])\n"
      ],
      "metadata": {
        "id": "Uyco5Kck9WU6"
      },
      "execution_count": null,
      "outputs": []
    },
    {
      "cell_type": "code",
      "source": [
        "w=np.ones((X.shape[1],1));\n",
        "b=1;\n",
        "learning_rate=0.1;\n",
        "Round=0;\n",
        "All_Correct=False;# Start Gradient Descent\n",
        "while not All_Correct:\n",
        " misclassified_count=0\n",
        " for i in range(X.shape[0]):\n",
        "    XX=X[i,]\n",
        "    yy=y[i]\n",
        "    if yy * (np.dot(w.T,XX.T)+b)<0:\n",
        "     w+=learning_rate * np.dot(XX,yy).reshape(2,1)\n",
        "     b+=learning_rate * yy\n",
        "     misclassified_count +=1\n",
        "    \n",
        " if misclassified_count==0:\n",
        "         All_Correct=True\n",
        " else:\n",
        "         All_Correct=False\n",
        "Round += 1\n",
        "print(Round) \n",
        "print(w)\n",
        "print(b)"
      ],
      "metadata": {
        "colab": {
          "base_uri": "https://localhost:8080/"
        },
        "id": "QR5fmDpt9cDz",
        "outputId": "55f0e213-47b2-4163-b4ce-ac0f3db35dfb"
      },
      "execution_count": null,
      "outputs": [
        {
          "output_type": "stream",
          "name": "stdout",
          "text": [
            "1\n",
            "[[  7.9 ]\n",
            " [-10.07]]\n",
            "-12.399999999999972\n"
          ]
        }
      ]
    },
    {
      "cell_type": "code",
      "source": [
        "x_points = np.linspace(4,7,10)\n",
        "y_ = -(w[0]*x_points + b)/w[1]\n",
        "plt.plot(x_points, y_)\n",
        "plt.plot(X[:50, 0], X[:50, 1], 'bo', color='blue',\n",
        "label='0')\n",
        "plt.plot(X[50:99, 0], X[50:99, 1], 'bo', color='orange', label='1')\n",
        "plt.xlabel('sepal length')\n",
        "plt.ylabel('sepal width')\n",
        "plt.legend()"
      ],
      "metadata": {
        "colab": {
          "base_uri": "https://localhost:8080/",
          "height": 298
        },
        "id": "jnie1DVt-yUf",
        "outputId": "ec1ebfac-be99-4e39-fbc0-29af1d2aed0d"
      },
      "execution_count": null,
      "outputs": [
        {
          "output_type": "execute_result",
          "data": {
            "text/plain": [
              "<matplotlib.legend.Legend at 0x7f66d682d550>"
            ]
          },
          "metadata": {},
          "execution_count": 8
        },
        {
          "output_type": "display_data",
          "data": {
            "text/plain": [
              "<Figure size 432x288 with 1 Axes>"
            ],
            "image/png": "[encoded data removed]"
          },
          "metadata": {
            "needs_background": "light"
          }
        }
      ]
    },
    {
      "cell_type": "markdown",
      "source": [
        "**Boston Dataset**"
      ],
      "metadata": {
        "id": "t2y3sbURqw90"
      }
    },
    {
      "cell_type": "code",
      "source": [
        "import pandas as pd\n",
        "import numpy as np\n",
        "data_url = \"http://lib.stat.cmu.edu/datasets/boston\"\n",
        "raw_df = pd.read_csv(data_url, sep=\"\\s+\", skiprows=22, header=None)\n",
        "data = np.hstack([raw_df.values[::2, :], raw_df.values[1::2, :2]])\n",
        "target = raw_df.values[1::2, 2]"
      ],
      "metadata": {
        "id": "N0aeRV1_XOxg"
      },
      "execution_count": null,
      "outputs": []
    },
    {
      "cell_type": "code",
      "source": [
        "from sklearn import datasets\n",
        "import numpy as np\n",
        "import pandas as pd\n",
        "import matplotlib.pyplot as plt\n",
        "import matplotlib.lines as mlines\n",
        "np.random.seed(10)\n",
        "boston=datasets.load_boston()\n",
        "X = boston.data[0:99,:2]\n",
        "y = boston.target[0:99]"
      ],
      "metadata": {
        "colab": {
          "base_uri": "https://localhost:8080/"
        },
        "id": "-vvJ_la_cF3h",
        "outputId": "f56f608a-0c60-4ed9-d346-104c8310854e"
      },
      "execution_count": null,
      "outputs": [
        {
          "output_type": "stream",
          "name": "stderr",
          "text": [
            "/usr/local/lib/python3.7/dist-packages/sklearn/utils/deprecation.py:87: FutureWarning: Function load_boston is deprecated; `load_boston` is deprecated in 1.0 and will be removed in 1.2.\n",
            "\n",
            "    The Boston housing prices dataset has an ethical problem. You can refer to\n",
            "    the documentation of this function for further details.\n",
            "\n",
            "    The scikit-learn maintainers therefore strongly discourage the use of this\n",
            "    dataset unless the purpose of the code is to study and educate about\n",
            "    ethical issues in data science and machine learning.\n",
            "\n",
            "    In this special case, you can fetch the dataset from the original\n",
            "    source::\n",
            "\n",
            "        import pandas as pd\n",
            "        import numpy as np\n",
            "\n",
            "\n",
            "        data_url = \"http://lib.stat.cmu.edu/datasets/boston\"\n",
            "        raw_df = pd.read_csv(data_url, sep=\"\\s+\", skiprows=22, header=None)\n",
            "        data = np.hstack([raw_df.values[::2, :], raw_df.values[1::2, :2]])\n",
            "        target = raw_df.values[1::2, 2]\n",
            "\n",
            "    Alternative datasets include the California housing dataset (i.e.\n",
            "    :func:`~sklearn.datasets.fetch_california_housing`) and the Ames housing\n",
            "    dataset. You can load the datasets as follows::\n",
            "\n",
            "        from sklearn.datasets import fetch_california_housing\n",
            "        housing = fetch_california_housing()\n",
            "\n",
            "    for the California housing dataset and::\n",
            "\n",
            "        from sklearn.datasets import fetch_openml\n",
            "        housing = fetch_openml(name=\"house_prices\", as_frame=True)\n",
            "\n",
            "    for the Ames housing dataset.\n",
            "    \n",
            "  warnings.warn(msg, category=FutureWarning)\n"
          ]
        }
      ]
    },
    {
      "cell_type": "code",
      "source": [
        "# Plot figure\n",
        "plt.plot(X[:50, 0], X[:50, 1], 'bo', color='blue', label='0')\n",
        "plt.plot(X[50:99, 0], X[50:99, 1], 'bo', color='orange', label='1')\n",
        "plt.xlabel('sepal length')\n",
        "plt.ylabel('sepal width')\n",
        "plt.legend()"
      ],
      "metadata": {
        "colab": {
          "base_uri": "https://localhost:8080/",
          "height": 296
        },
        "id": "xpPe8fCpAheh",
        "outputId": "6329531f-b2d3-4688-8830-b318e60c5605"
      },
      "execution_count": null,
      "outputs": [
        {
          "output_type": "execute_result",
          "data": {
            "text/plain": [
              "<matplotlib.legend.Legend at 0x7f66d64ceb50>"
            ]
          },
          "metadata": {},
          "execution_count": 11
        },
        {
          "output_type": "display_data",
          "data": {
            "text/plain": [
              "<Figure size 432x288 with 1 Axes>"
            ],
            "image/png": "[encoded data removed]"
          },
          "metadata": {
            "needs_background": "light"
          }
        }
      ]
    },
    {
      "cell_type": "code",
      "source": [
        "w=np.ones((X.shape[1],1));\n",
        "b=1;\n",
        "learning_rate=0.1;\n",
        "Round=0;\n",
        "All_Correct=False;# Start Gradient Descent\n",
        "while not All_Correct:\n",
        " misclassified_count=0\n",
        " for i in range(X.shape[0]):\n",
        "    XX=X[i,]\n",
        "    yy=y[i]\n",
        "    if yy * (np.dot(w.T,XX.T)+b)<0:\n",
        "     w+=learning_rate * np.dot(XX,yy).reshape(2,1)\n",
        "     b+=learning_rate * yy\n",
        "     misclassified_count +=1\n",
        "    \n",
        " if misclassified_count==0:\n",
        "         All_Correct=True\n",
        " else:\n",
        "         All_Correct=False\n",
        "Round += 1\n",
        "print(Round) \n",
        "print(w)\n",
        "print(b)"
      ],
      "metadata": {
        "colab": {
          "base_uri": "https://localhost:8080/"
        },
        "id": "W8KO6_oDVKk7",
        "outputId": "163699a0-030e-4197-b6ee-24ccb98b4800"
      },
      "execution_count": null,
      "outputs": [
        {
          "output_type": "stream",
          "name": "stdout",
          "text": [
            "1\n",
            "[[1.]\n",
            " [1.]]\n",
            "1\n"
          ]
        }
      ]
    },
    {
      "cell_type": "code",
      "source": [
        "x_points = np.linspace(30,-25,10)\n",
        "y_ = (w[0]*x_points + b)/w[1]\n",
        "plt.plot(x_points, y_)\n",
        "plt.plot(X[:50, 0], X[:50, 1], 'bo', color='blue',\n",
        "label='0')\n",
        "plt.plot(X[50:99, 0], X[50:99, 1], 'bo', color='orange', label='1')\n",
        "plt.xlabel('sepal length')\n",
        "plt.ylabel('sepal width')\n",
        "plt.legend()"
      ],
      "metadata": {
        "colab": {
          "base_uri": "https://localhost:8080/",
          "height": 296
        },
        "id": "YNLdOFFwBJrX",
        "outputId": "e307029f-78bb-4053-c1ca-098276661c52"
      },
      "execution_count": null,
      "outputs": [
        {
          "output_type": "execute_result",
          "data": {
            "text/plain": [
              "<matplotlib.legend.Legend at 0x7f66d6394d10>"
            ]
          },
          "metadata": {},
          "execution_count": 13
        },
        {
          "output_type": "display_data",
          "data": {
            "text/plain": [
              "<Figure size 432x288 with 1 Axes>"
            ],
            "image/png": "[encoded data removed]"
          },
          "metadata": {
            "needs_background": "light"
          }
        }
      ]
    },
    {
      "cell_type": "markdown",
      "source": [
        "**Diabetes Dataset**"
      ],
      "metadata": {
        "id": "bnCnaqgcqboA"
      }
    },
    {
      "cell_type": "code",
      "source": [
        "from sklearn import datasets\n",
        "import numpy as np\n",
        "import pandas as pd\n",
        "import matplotlib.pyplot as plt\n",
        "import matplotlib.lines as mlines\n",
        "np.random.seed(10)\n",
        "diabetes=datasets.load_diabetes()\n",
        "X = diabetes.data[0:100,:2]\n",
        "y = diabetes.target[0:100]\n",
        "# Plot figure\n",
        "plt.plot(X[:50, 0], X[:50, 1], 'bo', color='blue', label='0')\n",
        "plt.plot(X[50:99, 0], X[50:99, 1], 'bo', color='orange', label='1')\n",
        "plt.xlabel('sepal length')\n",
        "plt.ylabel('sepal width')\n",
        "plt.legend()"
      ],
      "metadata": {
        "colab": {
          "base_uri": "https://localhost:8080/",
          "height": 296
        },
        "id": "RemqrcS3Bmhz",
        "outputId": "670b68c4-7f02-4404-b84e-42f3cd32e448"
      },
      "execution_count": null,
      "outputs": [
        {
          "output_type": "execute_result",
          "data": {
            "text/plain": [
              "<matplotlib.legend.Legend at 0x7f66d631ba10>"
            ]
          },
          "metadata": {},
          "execution_count": 14
        },
        {
          "output_type": "display_data",
          "data": {
            "text/plain": [
              "<Figure size 432x288 with 1 Axes>"
            ],
            "image/png": "[encoded data removed]"
          },
          "metadata": {
            "needs_background": "light"
          }
        }
      ]
    },
    {
      "cell_type": "code",
      "source": [
        "y=np.array([1 if i==1 else -1 for i in y])\n",
        "w=np.ones((X.shape[1],1));\n",
        "b=1;\n",
        "learning_rate=0.1;\n",
        "Round=0;\n",
        "All_Correct=False;# Start Gradient Descent\n",
        "while not All_Correct:\n",
        " misclassified_count=0\n",
        " for i in range(X.shape[0]):\n",
        "    XX=X[i,]\n",
        "    yy=y[i]\n",
        "    if yy * (np.dot(w.T,XX.T)+b)<0:\n",
        "     w+=learning_rate * np.dot(XX,yy).reshape(2,1)\n",
        "     b+=learning_rate * yy\n",
        "     misclassified_count +=1\n",
        "    \n",
        " if misclassified_count==0:\n",
        "         All_Correct=True\n",
        " else:\n",
        "         All_Correct=False\n",
        "Round += 1\n",
        "print(Round) \n",
        "print(w)\n",
        "print(b)"
      ],
      "metadata": {
        "colab": {
          "base_uri": "https://localhost:8080/"
        },
        "id": "XCr2XGrkCD0d",
        "outputId": "93b67029-8fc2-4649-80cb-65511f5df669"
      },
      "execution_count": null,
      "outputs": [
        {
          "output_type": "stream",
          "name": "stdout",
          "text": [
            "1\n",
            "[[0.98918128]\n",
            " [0.97731256]]\n",
            "-0.19999999999999987\n"
          ]
        }
      ]
    },
    {
      "cell_type": "code",
      "source": [
        "x_points = np.linspace(0,0,10)\n",
        "y_ = -(w[0]*x_points + b)/w[1]\n",
        "plt.plot(x_points, y_)\n",
        "plt.plot(X[:50, 0], X[:50, 1], 'bo', color='blue',\n",
        "label='0')\n",
        "plt.plot(X[50:99, 0], X[50:99, 1], 'bo', color='orange', label='1')\n",
        "plt.xlabel('sepal length')\n",
        "plt.ylabel('sepal width')\n",
        "plt.legend()"
      ],
      "metadata": {
        "colab": {
          "base_uri": "https://localhost:8080/",
          "height": 296
        },
        "id": "7DCIrLJ_COKr",
        "outputId": "44b08ab5-0836-44fa-8ecf-2d53dda2bec3"
      },
      "execution_count": null,
      "outputs": [
        {
          "output_type": "execute_result",
          "data": {
            "text/plain": [
              "<matplotlib.legend.Legend at 0x7f66d5f58c90>"
            ]
          },
          "metadata": {},
          "execution_count": 16
        },
        {
          "output_type": "display_data",
          "data": {
            "text/plain": [
              "<Figure size 432x288 with 1 Axes>"
            ],
            "image/png": "[encoded data removed]"
          },
          "metadata": {
            "needs_background": "light"
          }
        }
      ]
    },
    {
      "cell_type": "markdown",
      "source": [
        "**Digits dataset**"
      ],
      "metadata": {
        "id": "LYJSmsEqq40K"
      }
    },
    {
      "cell_type": "code",
      "source": [
        "from sklearn import datasets\n",
        "import numpy as np\n",
        "import pandas as pd\n",
        "import matplotlib.pyplot as plt\n",
        "import matplotlib.lines as mlines\n",
        "np.random.seed(10)\n",
        "digits=datasets.load_digits()\n",
        "X = digits.data[0:99,:2]\n",
        "y = digits.target[0:99]\n",
        "# Plot figure\n",
        "plt.plot(X[:50, 0], X[:50, 1], 'bo', color='blue', label='0')\n",
        "plt.plot(X[50:99, 0], X[50:99, 1], 'bo', color='orange', label='1')\n",
        "plt.xlabel('sepal length')\n",
        "plt.ylabel('sepal width')\n",
        "plt.legend()"
      ],
      "metadata": {
        "colab": {
          "base_uri": "https://localhost:8080/",
          "height": 296
        },
        "id": "7xVZ_d7mC3zg",
        "outputId": "0fcbe656-a6c7-4f8c-ffc2-7ddbb0d3293e"
      },
      "execution_count": null,
      "outputs": [
        {
          "output_type": "execute_result",
          "data": {
            "text/plain": [
              "<matplotlib.legend.Legend at 0x7f66d5b4ab10>"
            ]
          },
          "metadata": {},
          "execution_count": 17
        },
        {
          "output_type": "display_data",
          "data": {
            "text/plain": [
              "<Figure size 432x288 with 1 Axes>"
            ],
            "image/png": "[encoded data removed]"
          },
          "metadata": {
            "needs_background": "light"
          }
        }
      ]
    },
    {
      "cell_type": "code",
      "source": [
        "y=np.array([1 if i==1 else 1 for i in y])"
      ],
      "metadata": {
        "id": "Jj0lb_utEU-C"
      },
      "execution_count": null,
      "outputs": []
    },
    {
      "cell_type": "code",
      "source": [
        "w=np.ones((X.shape[1],1));\n",
        "b=1;\n",
        "learning_rate=0.1;\n",
        "Round=0;\n",
        "All_Correct=False;# Start Gradient Descent\n",
        "while not All_Correct:\n",
        " misclassified_count=0\n",
        " for i in range(X.shape[0]):\n",
        "    XX=X[i,]\n",
        "    yy=y[i]\n",
        "    if yy * (np.dot(w.T,XX.T)+b)<0:\n",
        "     w+=learning_rate * np.dot(XX,yy).reshape(2,1)\n",
        "     b+=learning_rate * yy\n",
        "     misclassified_count +=1\n",
        "    \n",
        " if misclassified_count==0:\n",
        "         All_Correct=True\n",
        " else:\n",
        "         All_Correct=False\n",
        "Round += 1\n",
        "print(Round) \n",
        "print(w)\n",
        "print(b)"
      ],
      "metadata": {
        "colab": {
          "base_uri": "https://localhost:8080/"
        },
        "id": "AuXsZkQGrN1A",
        "outputId": "7645d47b-67f1-4282-f3bb-6c5a33ff1b22"
      },
      "execution_count": null,
      "outputs": [
        {
          "output_type": "stream",
          "name": "stdout",
          "text": [
            "1\n",
            "[[1.]\n",
            " [1.]]\n",
            "1\n"
          ]
        }
      ]
    },
    {
      "cell_type": "code",
      "source": [
        "x_points = np.linspace(-5,20,5)\n",
        "y_ = (w[1]*x_points + b)/w[1]\n",
        "plt.plot(x_points, y_)\n",
        "plt.plot(X[:50, 0], X[:50, 1], 'bo', color='blue',label='0')\n",
        "plt.plot(X[50:99, 0], X[50:99, 1], 'bo', color='orange', label='1')\n",
        "plt.xlabel('sepal length')\n",
        "plt.ylabel('sepal width')\n",
        "plt.legend()"
      ],
      "metadata": {
        "colab": {
          "base_uri": "https://localhost:8080/",
          "height": 296
        },
        "id": "Da3-teMCrbiC",
        "outputId": "c803521b-396e-483a-d619-49911b360727"
      },
      "execution_count": null,
      "outputs": [
        {
          "output_type": "execute_result",
          "data": {
            "text/plain": [
              "<matplotlib.legend.Legend at 0x7f66d5e98bd0>"
            ]
          },
          "metadata": {},
          "execution_count": 20
        },
        {
          "output_type": "display_data",
          "data": {
            "text/plain": [
              "<Figure size 432x288 with 1 Axes>"
            ],
            "image/png": "[encoded data removed]"
          },
          "metadata": {
            "needs_background": "light"
          }
        }
      ]
    },
    {
      "cell_type": "markdown",
      "source": [
        "**Wine Dataset**"
      ],
      "metadata": {
        "id": "VTgaqYWbq-al"
      }
    },
    {
      "cell_type": "code",
      "source": [
        "from sklearn import datasets\n",
        "import numpy as np\n",
        "import pandas as pd\n",
        "import matplotlib.pyplot as plt\n",
        "import matplotlib.lines as mlines\n",
        "np.random.seed(20)\n",
        "wine=datasets.load_wine()\n",
        "X = wine.data[0:99,:2]\n",
        "y = wine.target[0:99]"
      ],
      "metadata": {
        "id": "tNR9kSVFK2SQ"
      },
      "execution_count": null,
      "outputs": []
    },
    {
      "cell_type": "code",
      "source": [
        "# Plot figure\n",
        "plt.plot(X[:50, 0], X[:50, 1], 'bo', color='blue', label='0')\n",
        "plt.plot(X[50:99, 0], X[50:99, 1], 'bo', color='orange', label='1')\n",
        "plt.xlabel('sepal length')\n",
        "plt.ylabel('sepal width')\n",
        "plt.legend()"
      ],
      "metadata": {
        "id": "FTIHFbLbHSpx",
        "colab": {
          "base_uri": "https://localhost:8080/",
          "height": 296
        },
        "outputId": "84a1d55a-84d3-455e-a032-173cb356323a"
      },
      "execution_count": null,
      "outputs": [
        {
          "output_type": "execute_result",
          "data": {
            "text/plain": [
              "<matplotlib.legend.Legend at 0x7f66d5e0ea90>"
            ]
          },
          "metadata": {},
          "execution_count": 22
        },
        {
          "output_type": "display_data",
          "data": {
            "text/plain": [
              "<Figure size 432x288 with 1 Axes>"
            ],
            "image/png": "[encoded data removed]"
          },
          "metadata": {
            "needs_background": "light"
          }
        }
      ]
    },
    {
      "cell_type": "code",
      "source": [
        "y=np.array([1 if i==1 else -1 for i in y])"
      ],
      "metadata": {
        "id": "_p4xcK6hrkgL"
      },
      "execution_count": null,
      "outputs": []
    },
    {
      "cell_type": "code",
      "source": [
        "w=np.ones((X.shape[1],1));\n",
        "b=1;\n",
        "learning_rate=0.1;\n",
        "Round=0;\n",
        "All_Correct=False;# Start Gradient Descent\n",
        "while not All_Correct:\n",
        "      misclassified_count=0\n",
        "for i in range(X.shape[0]):\n",
        "    XX=X[i,]\n",
        "    yy=y[i]\n",
        "if yy * (np.dot(w.T,XX.T)+b)<0:\n",
        "     w+=learning_rate * np.dot(XX,yy).reshape(2,1)\n",
        "     b+=learning_rate * yy\n",
        "     misclassified_count +=1\n",
        "    \n",
        "if misclassified_count==0:\n",
        "         All_Correct=True\n",
        "else:\n",
        "         All_Correct=False\n",
        "Round += 1\n",
        "print(Round) \n",
        "print(w)\n",
        "print(b)"
      ],
      "metadata": {
        "colab": {
          "base_uri": "https://localhost:8080/",
          "height": 235
        },
        "id": "1-QE5vPZrqIx",
        "outputId": "5fbf751d-fae4-4042-d826-015dc4c80db1"
      },
      "execution_count": null,
      "outputs": [
        {
          "output_type": "error",
          "ename": "KeyboardInterrupt",
          "evalue": "ignored",
          "traceback": [
            "\u001b[0;31m---------------------------------------------------------------------------\u001b[0m",
            "\u001b[0;31mKeyboardInterrupt\u001b[0m                         Traceback (most recent call last)",
            "\u001b[0;32m<ipython-input-24-3f85bd5e11f3>\u001b[0m in \u001b[0;36m<module>\u001b[0;34m()\u001b[0m\n\u001b[1;32m      5\u001b[0m \u001b[0mAll_Correct\u001b[0m\u001b[0;34m=\u001b[0m\u001b[0;32mFalse\u001b[0m\u001b[0;34m;\u001b[0m\u001b[0;31m# Start Gradient Descent\u001b[0m\u001b[0;34m\u001b[0m\u001b[0;34m\u001b[0m\u001b[0m\n\u001b[1;32m      6\u001b[0m \u001b[0;32mwhile\u001b[0m \u001b[0;32mnot\u001b[0m \u001b[0mAll_Correct\u001b[0m\u001b[0;34m:\u001b[0m\u001b[0;34m\u001b[0m\u001b[0;34m\u001b[0m\u001b[0m\n\u001b[0;32m----> 7\u001b[0;31m       \u001b[0mmisclassified_count\u001b[0m\u001b[0;34m=\u001b[0m\u001b[0;36m0\u001b[0m\u001b[0;34m\u001b[0m\u001b[0;34m\u001b[0m\u001b[0m\n\u001b[0m\u001b[1;32m      8\u001b[0m \u001b[0;32mfor\u001b[0m \u001b[0mi\u001b[0m \u001b[0;32min\u001b[0m \u001b[0mrange\u001b[0m\u001b[0;34m(\u001b[0m\u001b[0mX\u001b[0m\u001b[0;34m.\u001b[0m\u001b[0mshape\u001b[0m\u001b[0;34m[\u001b[0m\u001b[0;36m0\u001b[0m\u001b[0;34m]\u001b[0m\u001b[0;34m)\u001b[0m\u001b[0;34m:\u001b[0m\u001b[0;34m\u001b[0m\u001b[0;34m\u001b[0m\u001b[0m\n\u001b[1;32m      9\u001b[0m     \u001b[0mXX\u001b[0m\u001b[0;34m=\u001b[0m\u001b[0mX\u001b[0m\u001b[0;34m[\u001b[0m\u001b[0mi\u001b[0m\u001b[0;34m,\u001b[0m\u001b[0;34m]\u001b[0m\u001b[0;34m\u001b[0m\u001b[0;34m\u001b[0m\u001b[0m\n",
            "\u001b[0;31mKeyboardInterrupt\u001b[0m: "
          ]
        }
      ]
    },
    {
      "cell_type": "code",
      "source": [
        "x_points = np.linspace(12.5,-12.5,10)\n",
        "y_ = (w[0]*x_points + b)/w[1]\n",
        "plt.plot(x_points, y_)\n",
        "plt.plot(X[:50, 0], X[:50, 1], 'bo', color='blue',label='0')\n",
        "plt.plot(X[50:99, 0], X[50:99, 1], 'bo', color='orange', label='1')\n",
        "plt.xlabel('sepal length')\n",
        "plt.ylabel('sepal width')\n",
        "plt.legend()"
      ],
      "metadata": {
        "colab": {
          "base_uri": "https://localhost:8080/",
          "height": 296
        },
        "id": "tpTnzFMhr1lZ",
        "outputId": "9964ab4e-987f-4856-e760-e3ab362a1a4a"
      },
      "execution_count": null,
      "outputs": [
        {
          "output_type": "execute_result",
          "data": {
            "text/plain": [
              "<matplotlib.legend.Legend at 0x7f66d5e65dd0>"
            ]
          },
          "metadata": {},
          "execution_count": 25
        },
        {
          "output_type": "display_data",
          "data": {
            "text/plain": [
              "<Figure size 432x288 with 1 Axes>"
            ],
            "image/png": "[encoded data removed]"
          },
          "metadata": {
            "needs_background": "light"
          }
        }
      ]
    },
    {
      "cell_type": "markdown",
      "source": [
        "**Breast Cancer Dataset**"
      ],
      "metadata": {
        "id": "XAlflrGkrE9x"
      }
    },
    {
      "cell_type": "code",
      "source": [
        "from sklearn import datasets\n",
        "import numpy as np\n",
        "import pandas as pd\n",
        "import matplotlib.pyplot as plt\n",
        "import matplotlib.lines as mlines\n",
        "np.random.seed(20)\n",
        "breast_cancer=datasets.load_breast_cancer()\n",
        "X = breast_cancer.data[0:99,:2]\n",
        "y = breast_cancer.target[0:99]"
      ],
      "metadata": {
        "id": "bhKfJgQ31JOL"
      },
      "execution_count": null,
      "outputs": []
    },
    {
      "cell_type": "code",
      "source": [
        "# Plot figure\n",
        "plt.plot(X[:50, 0], X[:50, 1], 'bo', color='blue', label='0')\n",
        "plt.plot(X[50:99, 0], X[50:99, 1], 'bo', color='orange', label='1')\n",
        "plt.xlabel('sepal length')\n",
        "plt.ylabel('sepal width')\n",
        "plt.legend()"
      ],
      "metadata": {
        "colab": {
          "base_uri": "https://localhost:8080/",
          "height": 296
        },
        "id": "IEOzDTiv1Ww2",
        "outputId": "12c439c1-e113-49de-f0b0-b10383882814"
      },
      "execution_count": null,
      "outputs": [
        {
          "output_type": "execute_result",
          "data": {
            "text/plain": [
              "<matplotlib.legend.Legend at 0x7f66d5c99f90>"
            ]
          },
          "metadata": {},
          "execution_count": 27
        },
        {
          "output_type": "display_data",
          "data": {
            "text/plain": [
              "<Figure size 432x288 with 1 Axes>"
            ],
            "image/png": "[encoded data removed]"
          },
          "metadata": {
            "needs_background": "light"
          }
        }
      ]
    },
    {
      "cell_type": "code",
      "source": [
        "y=np.array([0 if i==0 else -1 for i in y])"
      ],
      "metadata": {
        "id": "uqBSkeDmr6HI"
      },
      "execution_count": null,
      "outputs": []
    },
    {
      "cell_type": "code",
      "source": [
        "w=np.ones((X.shape[1],1));\n",
        "b=1;\n",
        "learning_rate=0.1;\n",
        "Round=0;\n",
        "All_Correct=False;# Start Gradient Descent\n",
        "while not All_Correct:\n",
        " misclassified_count=0\n",
        " for i in range(X.shape[0]):\n",
        "    XX=X[i,]\n",
        "    yy=y[i]\n",
        " if yy * (np.dot(w.T,XX.T)+b)<0:\n",
        "    w+=learning_rate * np.dot(XX,yy).reshape(2,1)\n",
        "    b+=learning_rate * yy\n",
        "    misclassified_count +=1\n",
        "    \n",
        " if misclassified_count==0:\n",
        "         All_Correct=True\n",
        " else:\n",
        "         All_Correct=False\n",
        "Round += 1\n",
        "print(Round) \n",
        "print(w)\n",
        "print(b)"
      ],
      "metadata": {
        "colab": {
          "base_uri": "https://localhost:8080/"
        },
        "id": "47IVyCAor7Ym",
        "outputId": "5c3d0e86-bbe6-4ac9-86e0-0d7294fe025a"
      },
      "execution_count": null,
      "outputs": [
        {
          "output_type": "stream",
          "name": "stdout",
          "text": [
            "1\n",
            "[[-0.16 ]\n",
            " [-0.284]]\n",
            "0.9\n"
          ]
        }
      ]
    },
    {
      "cell_type": "code",
      "source": [
        "x_points = np.linspace(30,-35,10)\n",
        "y_ = (w[0]*x_points + b)/w[1]\n",
        "plt.plot(x_points, y_)\n",
        "plt.plot(X[:50, 0], X[:50, 1], 'bo', color='blue',\n",
        "label='0')\n",
        "plt.plot(X[50:99, 0], X[50:99, 1], 'bo', color='orange', label='1')\n",
        "plt.xlabel('sepal length')\n",
        "plt.ylabel('sepal width')\n",
        "plt.legend()"
      ],
      "metadata": {
        "colab": {
          "base_uri": "https://localhost:8080/",
          "height": 300
        },
        "id": "NDnJPe9Jr7Ju",
        "outputId": "91f8006d-a9c1-4839-89bd-0cb78d777dc1"
      },
      "execution_count": null,
      "outputs": [
        {
          "output_type": "execute_result",
          "data": {
            "text/plain": [
              "<matplotlib.legend.Legend at 0x7f66d61d30d0>"
            ]
          },
          "metadata": {},
          "execution_count": 30
        },
        {
          "output_type": "display_data",
          "data": {
            "text/plain": [
              "<Figure size 432x288 with 1 Axes>"
            ],
            "image/png": "[encoded data removed]"
          },
          "metadata": {
            "needs_background": "light"
          }
        }
      ]
    },
    {
      "cell_type": "markdown",
      "source": [
        "**Linnerud dataset**"
      ],
      "metadata": {
        "id": "0fMGL5fEu36v"
      }
    },
    {
      "cell_type": "code",
      "source": [
        "from sklearn import datasets\n",
        "import numpy as np\n",
        "import pandas as pd\n",
        "import matplotlib.pyplot as plt\n",
        "import matplotlib.lines as mlines\n",
        "np.random.seed(10)\n",
        "linnerud=datasets.load_linnerud()\n",
        "X = linnerud.data[0:100,:2]\n",
        "y = linnerud.target[0:100]"
      ],
      "metadata": {
        "id": "-Tyjv-a5tNF_"
      },
      "execution_count": null,
      "outputs": []
    },
    {
      "cell_type": "code",
      "source": [
        "# Plot figure\n",
        "plt.plot(X[:10, 0], X[:10, 1], 'bo', color='blue', label='0')\n",
        "plt.plot(X[10:99, 0], X[10:99, 1], 'bo', color='orange', label='1')\n",
        "plt.xlabel('sepal length')\n",
        "plt.ylabel('sepal width')\n",
        "plt.legend()"
      ],
      "metadata": {
        "colab": {
          "base_uri": "https://localhost:8080/",
          "height": 296
        },
        "id": "qQTKtzLytQ5o",
        "outputId": "f1785719-e504-46e8-8a4e-5f08f3e4d607"
      },
      "execution_count": null,
      "outputs": [
        {
          "output_type": "execute_result",
          "data": {
            "text/plain": [
              "<matplotlib.legend.Legend at 0x7f66d62ab450>"
            ]
          },
          "metadata": {},
          "execution_count": 32
        },
        {
          "output_type": "display_data",
          "data": {
            "text/plain": [
              "<Figure size 432x288 with 1 Axes>"
            ],
            "image/png": "[encoded data removed]"
          },
          "metadata": {
            "needs_background": "light"
          }
        }
      ]
    },
    {
      "cell_type": "code",
      "source": [
        "y=np.array([1])"
      ],
      "metadata": {
        "id": "z82lMrKnAlqB"
      },
      "execution_count": null,
      "outputs": []
    },
    {
      "cell_type": "code",
      "source": [
        "w=np.ones((X.shape[0],1));\n",
        "b=1;\n",
        "learning_rate=0.1;\n",
        "Round=0;\n",
        "All_Correct=False;# Start Gradient Descent\n",
        "while not All_Correct:\n",
        " misclassified_count=0\n",
        " for i in range(X.shape[1]):\n",
        "    XX=X[i,]\n",
        "    yy=y.any(y[i])\n",
        " if yy*(np.dot(w.T,XX.T)+b)<0:\n",
        "    w+=learning_rate * np.dot(XX,yy).reshape(2,1)\n",
        "    b+=learning_rate * yy\n",
        "    misclassified_count +=1\n",
        "    \n",
        " if misclassified_count==0:\n",
        "         All_Correct=True\n",
        " else:\n",
        "         All_Correct=False\n",
        "Round += 1\n",
        "print(Round) \n",
        "print(w)\n",
        "print(b)"
      ],
      "metadata": {
        "colab": {
          "base_uri": "https://localhost:8080/",
          "height": 356
        },
        "id": "jGBYWxSDtXev",
        "outputId": "f54287bd-f470-4cf6-9af9-3275dd7b36d0"
      },
      "execution_count": null,
      "outputs": [
        {
          "output_type": "error",
          "ename": "AxisError",
          "evalue": "ignored",
          "traceback": [
            "\u001b[0;31m---------------------------------------------------------------------------\u001b[0m",
            "\u001b[0;31mAxisError\u001b[0m                                 Traceback (most recent call last)",
            "\u001b[0;32m<ipython-input-34-e45e2a1e57e4>\u001b[0m in \u001b[0;36m<module>\u001b[0;34m()\u001b[0m\n\u001b[1;32m      8\u001b[0m  \u001b[0;32mfor\u001b[0m \u001b[0mi\u001b[0m \u001b[0;32min\u001b[0m \u001b[0mrange\u001b[0m\u001b[0;34m(\u001b[0m\u001b[0mX\u001b[0m\u001b[0;34m.\u001b[0m\u001b[0mshape\u001b[0m\u001b[0;34m[\u001b[0m\u001b[0;36m1\u001b[0m\u001b[0;34m]\u001b[0m\u001b[0;34m)\u001b[0m\u001b[0;34m:\u001b[0m\u001b[0;34m\u001b[0m\u001b[0;34m\u001b[0m\u001b[0m\n\u001b[1;32m      9\u001b[0m     \u001b[0mXX\u001b[0m\u001b[0;34m=\u001b[0m\u001b[0mX\u001b[0m\u001b[0;34m[\u001b[0m\u001b[0mi\u001b[0m\u001b[0;34m,\u001b[0m\u001b[0;34m]\u001b[0m\u001b[0;34m\u001b[0m\u001b[0;34m\u001b[0m\u001b[0m\n\u001b[0;32m---> 10\u001b[0;31m     \u001b[0myy\u001b[0m\u001b[0;34m=\u001b[0m\u001b[0my\u001b[0m\u001b[0;34m.\u001b[0m\u001b[0many\u001b[0m\u001b[0;34m(\u001b[0m\u001b[0my\u001b[0m\u001b[0;34m[\u001b[0m\u001b[0mi\u001b[0m\u001b[0;34m]\u001b[0m\u001b[0;34m)\u001b[0m\u001b[0;34m\u001b[0m\u001b[0;34m\u001b[0m\u001b[0m\n\u001b[0m\u001b[1;32m     11\u001b[0m  \u001b[0;32mif\u001b[0m \u001b[0myy\u001b[0m\u001b[0;34m*\u001b[0m\u001b[0;34m(\u001b[0m\u001b[0mnp\u001b[0m\u001b[0;34m.\u001b[0m\u001b[0mdot\u001b[0m\u001b[0;34m(\u001b[0m\u001b[0mw\u001b[0m\u001b[0;34m.\u001b[0m\u001b[0mT\u001b[0m\u001b[0;34m,\u001b[0m\u001b[0mXX\u001b[0m\u001b[0;34m.\u001b[0m\u001b[0mT\u001b[0m\u001b[0;34m)\u001b[0m\u001b[0;34m+\u001b[0m\u001b[0mb\u001b[0m\u001b[0;34m)\u001b[0m\u001b[0;34m<\u001b[0m\u001b[0;36m0\u001b[0m\u001b[0;34m:\u001b[0m\u001b[0;34m\u001b[0m\u001b[0;34m\u001b[0m\u001b[0m\n\u001b[1;32m     12\u001b[0m     \u001b[0mw\u001b[0m\u001b[0;34m+=\u001b[0m\u001b[0mlearning_rate\u001b[0m \u001b[0;34m*\u001b[0m \u001b[0mnp\u001b[0m\u001b[0;34m.\u001b[0m\u001b[0mdot\u001b[0m\u001b[0;34m(\u001b[0m\u001b[0mXX\u001b[0m\u001b[0;34m,\u001b[0m\u001b[0myy\u001b[0m\u001b[0;34m)\u001b[0m\u001b[0;34m.\u001b[0m\u001b[0mreshape\u001b[0m\u001b[0;34m(\u001b[0m\u001b[0;36m2\u001b[0m\u001b[0;34m,\u001b[0m\u001b[0;36m1\u001b[0m\u001b[0;34m)\u001b[0m\u001b[0;34m\u001b[0m\u001b[0;34m\u001b[0m\u001b[0m\n",
            "\u001b[0;32m/usr/local/lib/python3.7/dist-packages/numpy/core/_methods.py\u001b[0m in \u001b[0;36m_any\u001b[0;34m(a, axis, dtype, out, keepdims, where)\u001b[0m\n\u001b[1;32m     55\u001b[0m     \u001b[0;31m# Parsing keyword arguments is currently fairly slow, so avoid it for now\u001b[0m\u001b[0;34m\u001b[0m\u001b[0;34m\u001b[0m\u001b[0;34m\u001b[0m\u001b[0m\n\u001b[1;32m     56\u001b[0m     \u001b[0;32mif\u001b[0m \u001b[0mwhere\u001b[0m \u001b[0;32mis\u001b[0m \u001b[0;32mTrue\u001b[0m\u001b[0;34m:\u001b[0m\u001b[0;34m\u001b[0m\u001b[0;34m\u001b[0m\u001b[0m\n\u001b[0;32m---> 57\u001b[0;31m         \u001b[0;32mreturn\u001b[0m \u001b[0mumr_any\u001b[0m\u001b[0;34m(\u001b[0m\u001b[0ma\u001b[0m\u001b[0;34m,\u001b[0m \u001b[0maxis\u001b[0m\u001b[0;34m,\u001b[0m \u001b[0mdtype\u001b[0m\u001b[0;34m,\u001b[0m \u001b[0mout\u001b[0m\u001b[0;34m,\u001b[0m \u001b[0mkeepdims\u001b[0m\u001b[0;34m)\u001b[0m\u001b[0;34m\u001b[0m\u001b[0;34m\u001b[0m\u001b[0m\n\u001b[0m\u001b[1;32m     58\u001b[0m     \u001b[0;32mreturn\u001b[0m \u001b[0mumr_any\u001b[0m\u001b[0;34m(\u001b[0m\u001b[0ma\u001b[0m\u001b[0;34m,\u001b[0m \u001b[0maxis\u001b[0m\u001b[0;34m,\u001b[0m \u001b[0mdtype\u001b[0m\u001b[0;34m,\u001b[0m \u001b[0mout\u001b[0m\u001b[0;34m,\u001b[0m \u001b[0mkeepdims\u001b[0m\u001b[0;34m,\u001b[0m \u001b[0mwhere\u001b[0m\u001b[0;34m=\u001b[0m\u001b[0mwhere\u001b[0m\u001b[0;34m)\u001b[0m\u001b[0;34m\u001b[0m\u001b[0;34m\u001b[0m\u001b[0m\n\u001b[1;32m     59\u001b[0m \u001b[0;34m\u001b[0m\u001b[0m\n",
            "\u001b[0;31mAxisError\u001b[0m: axis 1 is out of bounds for array of dimension 1"
          ]
        }
      ]
    },
    {
      "cell_type": "code",
      "source": [
        "x_points = np.linspace(30,-20,10)\n",
        "y_ = (w[0]*x_points + b)/w[1]\n",
        "plt.plot(x_points, y_)\n",
        "plt.plot(X[:50, 0], X[:50, 1], 'bo', color='blue',\n",
        "label='0')\n",
        "plt.plot(X[50:99, 0], X[50:99, 1], 'bo', color='orange', label='1')\n",
        "plt.xlabel('sepal length')\n",
        "plt.ylabel('sepal width')\n",
        "plt.legend()"
      ],
      "metadata": {
        "colab": {
          "base_uri": "https://localhost:8080/",
          "height": 296
        },
        "id": "4v3A-dhttb_o",
        "outputId": "bc765659-8770-4db4-bd44-8f10206830ba"
      },
      "execution_count": null,
      "outputs": [
        {
          "output_type": "execute_result",
          "data": {
            "text/plain": [
              "<matplotlib.legend.Legend at 0x7f66d5b07c10>"
            ]
          },
          "metadata": {},
          "execution_count": 35
        },
        {
          "output_type": "display_data",
          "data": {
            "text/plain": [
              "<Figure size 432x288 with 1 Axes>"
            ],
            "image/png": "[encoded data removed]"
          },
          "metadata": {
            "needs_background": "light"
          }
        }
      ]
    },
    {
      "cell_type": "markdown",
      "source": [
        "**observation:**\n",
        "\n",
        "\n",
        "\n",
        "![image.png](data:image/png;base64,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)\n"
      ],
      "metadata": {
        "id": "SUrKQAsvYWFM"
      }
    },
    {
      "cell_type": "markdown",
      "source": [
        "**Result:Hence,I trained the system to do perceptron learning using SGD by using Toy Datasets.**"
      ],
      "metadata": {
        "id": "TEYeEK9R0ls5"
      }
    }
  ]
}