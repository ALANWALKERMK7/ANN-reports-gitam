{
  "nbformat": 4,
  "nbformat_minor": 0,
  "metadata": {
    "colab": {
      "provenance": [],
      "toc_visible": true
    },
    "kernelspec": {
      "name": "python3",
      "display_name": "Python 3"
    },
    "language_info": {
      "name": "python"
    },
    "widgets": {
      "application/vnd.jupyter.widget-state+json": {
        "fea1523f6352402f965372b877bc9896": {
          "model_module": "@jupyter-widgets/controls",
          "model_name": "HBoxModel",
          "model_module_version": "1.5.0",
          "state": {
            "_dom_classes": [],
            "_model_module": "@jupyter-widgets/controls",
            "_model_module_version": "1.5.0",
            "_model_name": "HBoxModel",
            "_view_count": null,
            "_view_module": "@jupyter-widgets/controls",
            "_view_module_version": "1.5.0",
            "_view_name": "HBoxView",
            "box_style": "",
            "children": [
              "IPY_MODEL_64737ccbe7194f4cb25b4a3ba5f8f031",
              "IPY_MODEL_9a39c6e78f454ebab8eb927c51e735c6",
              "IPY_MODEL_b9b53c54d5e441bc92f2f750177eaaf3"
            ],
            "layout": "IPY_MODEL_518dd969a7b44802b762567bb1b49621"
          }
        },
        "64737ccbe7194f4cb25b4a3ba5f8f031": {
          "model_module": "@jupyter-widgets/controls",
          "model_name": "HTMLModel",
          "model_module_version": "1.5.0",
          "state": {
            "_dom_classes": [],
            "_model_module": "@jupyter-widgets/controls",
            "_model_module_version": "1.5.0",
            "_model_name": "HTMLModel",
            "_view_count": null,
            "_view_module": "@jupyter-widgets/controls",
            "_view_module_version": "1.5.0",
            "_view_name": "HTMLView",
            "description": "",
            "description_tooltip": null,
            "layout": "IPY_MODEL_08f7b707005b4b8fb0b232833c39db96",
            "placeholder": "​",
            "style": "IPY_MODEL_0a3325aac3f84495ba1021cdc7324237",
            "value": "Dl Completed...: 100%"
          }
        },
        "9a39c6e78f454ebab8eb927c51e735c6": {
          "model_module": "@jupyter-widgets/controls",
          "model_name": "FloatProgressModel",
          "model_module_version": "1.5.0",
          "state": {
            "_dom_classes": [],
            "_model_module": "@jupyter-widgets/controls",
            "_model_module_version": "1.5.0",
            "_model_name": "FloatProgressModel",
            "_view_count": null,
            "_view_module": "@jupyter-widgets/controls",
            "_view_module_version": "1.5.0",
            "_view_name": "ProgressView",
            "bar_style": "success",
            "description": "",
            "description_tooltip": null,
            "layout": "IPY_MODEL_208459aece4e453f8239f6b7403556bb",
            "max": 4,
            "min": 0,
            "orientation": "horizontal",
            "style": "IPY_MODEL_dde8c33687e94bd5879225a25d80f374",
            "value": 4
          }
        },
        "b9b53c54d5e441bc92f2f750177eaaf3": {
          "model_module": "@jupyter-widgets/controls",
          "model_name": "HTMLModel",
          "model_module_version": "1.5.0",
          "state": {
            "_dom_classes": [],
            "_model_module": "@jupyter-widgets/controls",
            "_model_module_version": "1.5.0",
            "_model_name": "HTMLModel",
            "_view_count": null,
            "_view_module": "@jupyter-widgets/controls",
            "_view_module_version": "1.5.0",
            "_view_name": "HTMLView",
            "description": "",
            "description_tooltip": null,
            "layout": "IPY_MODEL_3c76c8af433f44c5a43c62886eecf7b3",
            "placeholder": "​",
            "style": "IPY_MODEL_341d31b920d2465bb6a19a4331eba9bf",
            "value": " 4/4 [00:00&lt;00:00, 11.42 file/s]"
          }
        },
        "518dd969a7b44802b762567bb1b49621": {
          "model_module": "@jupyter-widgets/base",
          "model_name": "LayoutModel",
          "model_module_version": "1.2.0",
          "state": {
            "_model_module": "@jupyter-widgets/base",
            "_model_module_version": "1.2.0",
            "_model_name": "LayoutModel",
            "_view_count": null,
            "_view_module": "@jupyter-widgets/base",
            "_view_module_version": "1.2.0",
            "_view_name": "LayoutView",
            "align_content": null,
            "align_items": null,
            "align_self": null,
            "border": null,
            "bottom": null,
            "display": null,
            "flex": null,
            "flex_flow": null,
            "grid_area": null,
            "grid_auto_columns": null,
            "grid_auto_flow": null,
            "grid_auto_rows": null,
            "grid_column": null,
            "grid_gap": null,
            "grid_row": null,
            "grid_template_areas": null,
            "grid_template_columns": null,
            "grid_template_rows": null,
            "height": null,
            "justify_content": null,
            "justify_items": null,
            "left": null,
            "margin": null,
            "max_height": null,
            "max_width": null,
            "min_height": null,
            "min_width": null,
            "object_fit": null,
            "object_position": null,
            "order": null,
            "overflow": null,
            "overflow_x": null,
            "overflow_y": null,
            "padding": null,
            "right": null,
            "top": null,
            "visibility": null,
            "width": null
          }
        },
        "08f7b707005b4b8fb0b232833c39db96": {
          "model_module": "@jupyter-widgets/base",
          "model_name": "LayoutModel",
          "model_module_version": "1.2.0",
          "state": {
            "_model_module": "@jupyter-widgets/base",
            "_model_module_version": "1.2.0",
            "_model_name": "LayoutModel",
            "_view_count": null,
            "_view_module": "@jupyter-widgets/base",
            "_view_module_version": "1.2.0",
            "_view_name": "LayoutView",
            "align_content": null,
            "align_items": null,
            "align_self": null,
            "border": null,
            "bottom": null,
            "display": null,
            "flex": null,
            "flex_flow": null,
            "grid_area": null,
            "grid_auto_columns": null,
            "grid_auto_flow": null,
            "grid_auto_rows": null,
            "grid_column": null,
            "grid_gap": null,
            "grid_row": null,
            "grid_template_areas": null,
            "grid_template_columns": null,
            "grid_template_rows": null,
            "height": null,
            "justify_content": null,
            "justify_items": null,
            "left": null,
            "margin": null,
            "max_height": null,
            "max_width": null,
            "min_height": null,
            "min_width": null,
            "object_fit": null,
            "object_position": null,
            "order": null,
            "overflow": null,
            "overflow_x": null,
            "overflow_y": null,
            "padding": null,
            "right": null,
            "top": null,
            "visibility": null,
            "width": null
          }
        },
        "0a3325aac3f84495ba1021cdc7324237": {
          "model_module": "@jupyter-widgets/controls",
          "model_name": "DescriptionStyleModel",
          "model_module_version": "1.5.0",
          "state": {
            "_model_module": "@jupyter-widgets/controls",
            "_model_module_version": "1.5.0",
            "_model_name": "DescriptionStyleModel",
            "_view_count": null,
            "_view_module": "@jupyter-widgets/base",
            "_view_module_version": "1.2.0",
            "_view_name": "StyleView",
            "description_width": ""
          }
        },
        "208459aece4e453f8239f6b7403556bb": {
          "model_module": "@jupyter-widgets/base",
          "model_name": "LayoutModel",
          "model_module_version": "1.2.0",
          "state": {
            "_model_module": "@jupyter-widgets/base",
            "_model_module_version": "1.2.0",
            "_model_name": "LayoutModel",
            "_view_count": null,
            "_view_module": "@jupyter-widgets/base",
            "_view_module_version": "1.2.0",
            "_view_name": "LayoutView",
            "align_content": null,
            "align_items": null,
            "align_self": null,
            "border": null,
            "bottom": null,
            "display": null,
            "flex": null,
            "flex_flow": null,
            "grid_area": null,
            "grid_auto_columns": null,
            "grid_auto_flow": null,
            "grid_auto_rows": null,
            "grid_column": null,
            "grid_gap": null,
            "grid_row": null,
            "grid_template_areas": null,
            "grid_template_columns": null,
            "grid_template_rows": null,
            "height": null,
            "justify_content": null,
            "justify_items": null,
            "left": null,
            "margin": null,
            "max_height": null,
            "max_width": null,
            "min_height": null,
            "min_width": null,
            "object_fit": null,
            "object_position": null,
            "order": null,
            "overflow": null,
            "overflow_x": null,
            "overflow_y": null,
            "padding": null,
            "right": null,
            "top": null,
            "visibility": null,
            "width": null
          }
        },
        "dde8c33687e94bd5879225a25d80f374": {
          "model_module": "@jupyter-widgets/controls",
          "model_name": "ProgressStyleModel",
          "model_module_version": "1.5.0",
          "state": {
            "_model_module": "@jupyter-widgets/controls",
            "_model_module_version": "1.5.0",
            "_model_name": "ProgressStyleModel",
            "_view_count": null,
            "_view_module": "@jupyter-widgets/base",
            "_view_module_version": "1.2.0",
            "_view_name": "StyleView",
            "bar_color": null,
            "description_width": ""
          }
        },
        "3c76c8af433f44c5a43c62886eecf7b3": {
          "model_module": "@jupyter-widgets/base",
          "model_name": "LayoutModel",
          "model_module_version": "1.2.0",
          "state": {
            "_model_module": "@jupyter-widgets/base",
            "_model_module_version": "1.2.0",
            "_model_name": "LayoutModel",
            "_view_count": null,
            "_view_module": "@jupyter-widgets/base",
            "_view_module_version": "1.2.0",
            "_view_name": "LayoutView",
            "align_content": null,
            "align_items": null,
            "align_self": null,
            "border": null,
            "bottom": null,
            "display": null,
            "flex": null,
            "flex_flow": null,
            "grid_area": null,
            "grid_auto_columns": null,
            "grid_auto_flow": null,
            "grid_auto_rows": null,
            "grid_column": null,
            "grid_gap": null,
            "grid_row": null,
            "grid_template_areas": null,
            "grid_template_columns": null,
            "grid_template_rows": null,
            "height": null,
            "justify_content": null,
            "justify_items": null,
            "left": null,
            "margin": null,
            "max_height": null,
            "max_width": null,
            "min_height": null,
            "min_width": null,
            "object_fit": null,
            "object_position": null,
            "order": null,
            "overflow": null,
            "overflow_x": null,
            "overflow_y": null,
            "padding": null,
            "right": null,
            "top": null,
            "visibility": null,
            "width": null
          }
        },
        "341d31b920d2465bb6a19a4331eba9bf": {
          "model_module": "@jupyter-widgets/controls",
          "model_name": "DescriptionStyleModel",
          "model_module_version": "1.5.0",
          "state": {
            "_model_module": "@jupyter-widgets/controls",
            "_model_module_version": "1.5.0",
            "_model_name": "DescriptionStyleModel",
            "_view_count": null,
            "_view_module": "@jupyter-widgets/base",
            "_view_module_version": "1.2.0",
            "_view_name": "StyleView",
            "description_width": ""
          }
        }
      }
    }
  },
  "cells": [
    {
      "cell_type": "markdown",
      "source": [
        "**19EID331P** \n",
        "\n",
        "Artificial Neural Networks Lab\n",
        "\n",
        "Name : M.Murali Krishna\n",
        "\n",
        "Regd.no:322010404039\n",
        "\n",
        "Section:ECE AIML"
      ],
      "metadata": {
        "id": "CQ6yAIHonAF4"
      }
    },
    {
      "cell_type": "code",
      "source": [
        "import tensorflow as tf\n",
        "import numpy as np\n",
        "import tensorflow_datasets as tfds\n",
        "from tensorflow import keras\n",
        "import matplotlib.pyplot as plt"
      ],
      "metadata": {
        "id": "l4osrHQ7iTyl"
      },
      "execution_count": null,
      "outputs": []
    },
    {
      "cell_type": "code",
      "source": [
        "[ds_raw_train, ds_raw_test], info = tfds.load('mnist', split=['train[:10%]','test[:10%]'], as_supervised=True, with_info=True)"
      ],
      "metadata": {
        "colab": {
          "base_uri": "https://localhost:8080/",
          "height": 104,
          "referenced_widgets": [
            "fea1523f6352402f965372b877bc9896",
            "64737ccbe7194f4cb25b4a3ba5f8f031",
            "9a39c6e78f454ebab8eb927c51e735c6",
            "b9b53c54d5e441bc92f2f750177eaaf3",
            "518dd969a7b44802b762567bb1b49621",
            "08f7b707005b4b8fb0b232833c39db96",
            "0a3325aac3f84495ba1021cdc7324237",
            "208459aece4e453f8239f6b7403556bb",
            "dde8c33687e94bd5879225a25d80f374",
            "3c76c8af433f44c5a43c62886eecf7b3",
            "341d31b920d2465bb6a19a4331eba9bf"
          ]
        },
        "id": "8m63vOHKilJz",
        "outputId": "58bd8f49-99fb-4475-cac5-3a69354407ec"
      },
      "execution_count": null,
      "outputs": [
        {
          "output_type": "stream",
          "name": "stdout",
          "text": [
            "\u001b[1mDownloading and preparing dataset 11.06 MiB (download: 11.06 MiB, generated: 21.00 MiB, total: 32.06 MiB) to ~/tensorflow_datasets/mnist/3.0.1...\u001b[0m\n"
          ]
        },
        {
          "output_type": "display_data",
          "data": {
            "text/plain": [
              "Dl Completed...:   0%|          | 0/4 [00:00<?, ? file/s]"
            ],
            "application/vnd.jupyter.widget-view+json": {
              "version_major": 2,
              "version_minor": 0,
              "model_id": "fea1523f6352402f965372b877bc9896"
            }
          },
          "metadata": {}
        },
        {
          "output_type": "stream",
          "name": "stdout",
          "text": [
            "\u001b[1mDataset mnist downloaded and prepared to ~/tensorflow_datasets/mnist/3.0.1. Subsequent calls will reuse this data.\u001b[0m\n"
          ]
        }
      ]
    },
    {
      "cell_type": "code",
      "source": [
        "print(\"Number of samples in train : \", ds_raw_train.cardinality().numpy(),\n",
        "      \" in test : \",ds_raw_test.cardinality().numpy())"
      ],
      "metadata": {
        "colab": {
          "base_uri": "https://localhost:8080/"
        },
        "id": "prfPM0jIjSTB",
        "outputId": "f55b0942-2b7d-46cb-8b63-5d96dccc24a0"
      },
      "execution_count": null,
      "outputs": [
        {
          "output_type": "stream",
          "name": "stdout",
          "text": [
            "Number of samples in train :  6000  in test :  1000\n"
          ]
        }
      ]
    },
    {
      "cell_type": "code",
      "source": [
        "print(\"Number of classes/labels: \",info.features[\"label\"].num_classes)\n",
        "print(\"Names of classes/labels: \",info.features[\"label\"].names)\n",
        "labels= info.features[\"label\"].names"
      ],
      "metadata": {
        "colab": {
          "base_uri": "https://localhost:8080/"
        },
        "id": "X4_UhmWXjWKu",
        "outputId": "d8aedd51-b0e0-452b-ec80-fef28e95db28"
      },
      "execution_count": null,
      "outputs": [
        {
          "output_type": "stream",
          "name": "stdout",
          "text": [
            "Number of classes/labels:  10\n",
            "Names of classes/labels:  ['0', '1', '2', '3', '4', '5', '6', '7', '8', '9']\n"
          ]
        }
      ]
    },
    {
      "cell_type": "code",
      "source": [
        "def show_samples(dataset):\n",
        "  fig=plt.figure(figsize=(16, 16))\n",
        "  columns = 3\n",
        "  rows = 3\n",
        "  \n",
        "  print(columns*rows,\"samples from the dataset\")\n",
        "  i=1\n",
        "  for a,b in dataset.take(columns*rows): \n",
        "    fig.add_subplot(rows, columns, i)\n",
        "    plt.imshow(np.squeeze(a))\n",
        "    #plt.imshow(a.numpy())\n",
        "    plt.title(\"image shape:\"+ str(a.shape)+\" (\"+str(b.numpy()) +\")\" )\n",
        "    i=i+1\n",
        "  plt.show()\n",
        "show_samples(ds_raw_test)"
      ],
      "metadata": {
        "colab": {
          "base_uri": "https://localhost:8080/",
          "height": 951
        },
        "id": "PWA-P69OjcVE",
        "outputId": "4bcbfd27-93b1-49b2-c7ff-85e629b01dcf"
      },
      "execution_count": null,
      "outputs": [
        {
          "output_type": "stream",
          "name": "stdout",
          "text": [
            "9 samples from the dataset\n"
          ]
        },
        {
          "output_type": "display_data",
          "data": {
            "text/plain": [
              "<Figure size 1152x1152 with 9 Axes>"
            ],
            "image/png": "[encoded data removed]"
          },
          "metadata": {
            "needs_background": "light"
          }
        }
      ]
    },
    {
      "cell_type": "code",
      "source": [
        "#VGG16 expects min 32 x 32 \n",
        "def resize_scale_image(image, label):\n",
        "  image = tf.image.resize(image, [32, 32])\n",
        "  image = image/255.0\n",
        "  image = tf.image.grayscale_to_rgb(image)\n",
        "  return image, label\n",
        "ds_train_resize_scale=ds_raw_train.map(resize_scale_image)\n",
        "ds_test_resize_scale=ds_raw_test.map(resize_scale_image)\n",
        "show_samples(ds_test_resize_scale)"
      ],
      "metadata": {
        "colab": {
          "base_uri": "https://localhost:8080/",
          "height": 951
        },
        "id": "_s20gUecjpiR",
        "outputId": "5a183ea3-c6d6-439a-998a-d5e7b10c011d"
      },
      "execution_count": null,
      "outputs": [
        {
          "output_type": "stream",
          "name": "stdout",
          "text": [
            "9 samples from the dataset\n"
          ]
        },
        {
          "output_type": "display_data",
          "data": {
            "text/plain": [
              "<Figure size 1152x1152 with 9 Axes>"
            ],
            "image/png": "[encoded data removed]"
          },
          "metadata": {
            "needs_background": "light"
          }
        }
      ]
    },
    {
      "cell_type": "code",
      "source": [
        "batch_size = 64 \n",
        "ds_train_resize_scale_batched=ds_train_resize_scale.batch(batch_size, drop_remainder=True ).cache().prefetch(tf.data.experimental.AUTOTUNE)\n",
        "ds_test_resize_scale_batched=ds_test_resize_scale.batch(batch_size, drop_remainder=True ).cache().prefetch(tf.data.experimental.AUTOTUNE)\n",
        "print(\"Number of batches in train: \", ds_train_resize_scale_batched.cardinality().numpy())\n",
        "print(\"Number of batches in test: \", ds_test_resize_scale_batched.cardinality().numpy())"
      ],
      "metadata": {
        "colab": {
          "base_uri": "https://localhost:8080/"
        },
        "id": "dpUeuq_4jwgn",
        "outputId": "5cb74c3f-59de-4508-ae3f-8a3736cdd7c4"
      },
      "execution_count": null,
      "outputs": [
        {
          "output_type": "stream",
          "name": "stdout",
          "text": [
            "Number of batches in train:  93\n",
            "Number of batches in test:  15\n"
          ]
        }
      ]
    },
    {
      "cell_type": "code",
      "source": [
        "base_model = keras.applications.VGG16(\n",
        "    weights='imagenet',  # Load weights pre-trained on ImageNet.\n",
        "    input_shape=(32, 32, 3), # VGG16 expects min 32 x 32\n",
        "    include_top=False)  # Do not include the ImageNet classifier at the top.\n",
        "base_model.trainable = False"
      ],
      "metadata": {
        "colab": {
          "base_uri": "https://localhost:8080/"
        },
        "id": "jhuWdwtTj1QW",
        "outputId": "f645488c-1a11-4687-a5c2-a7550f55aa63"
      },
      "execution_count": null,
      "outputs": [
        {
          "output_type": "stream",
          "name": "stdout",
          "text": [
            "Downloading data from https://storage.googleapis.com/tensorflow/keras-applications/vgg16/vgg16_weights_tf_dim_ordering_tf_kernels_notop.h5\n",
            "58892288/58889256 [==============================] - 1s 0us/step\n",
            "58900480/58889256 [==============================] - 1s 0us/step\n"
          ]
        }
      ]
    },
    {
      "cell_type": "code",
      "source": [
        "number_of_classes = 10\n",
        "inputs = keras.Input(shape=(32, 32, 3))\n",
        "x = base_model(inputs, training=False)\n",
        "x = keras.layers.GlobalAveragePooling2D()(x)\n",
        "initializer = tf.keras.initializers.GlorotUniform(seed=42)\n",
        "activation =  None  # tf.keras.activations.sigmoid or softmax\n",
        "outputs = keras.layers.Dense(number_of_classes,\n",
        "                             kernel_initializer=initializer,\n",
        "                             activation=activation)(x) \n",
        "model = keras.Model(inputs, outputs)"
      ],
      "metadata": {
        "id": "I5V65ikrj5oV"
      },
      "execution_count": null,
      "outputs": []
    },
    {
      "cell_type": "code",
      "source": [
        "model.compile(optimizer=keras.optimizers.Adam(),\n",
        "              loss=keras.losses.SparseCategoricalCrossentropy(from_logits=True), # default from_logits=False\n",
        "              metrics=[keras.metrics.SparseCategoricalAccuracy()])"
      ],
      "metadata": {
        "id": "PPzUzq8ykW_k"
      },
      "execution_count": null,
      "outputs": []
    },
    {
      "cell_type": "code",
      "source": [
        "model.fit(ds_train_resize_scale_batched, validation_data=ds_test_resize_scale_batched, epochs=10)"
      ],
      "metadata": {
        "colab": {
          "base_uri": "https://localhost:8080/"
        },
        "id": "BWxj68_YkZod",
        "outputId": "2f6dab42-bab1-4fef-e065-a5a962b9ff26"
      },
      "execution_count": null,
      "outputs": [
        {
          "output_type": "stream",
          "name": "stdout",
          "text": [
            "Epoch 1/10\n",
            "93/93 [==============================] - 76s 801ms/step - loss: 1.7646 - sparse_categorical_accuracy: 0.5378 - val_loss: 1.3250 - val_sparse_categorical_accuracy: 0.7323\n",
            "Epoch 2/10\n",
            "93/93 [==============================] - 72s 771ms/step - loss: 1.1498 - sparse_categorical_accuracy: 0.7468 - val_loss: 0.9808 - val_sparse_categorical_accuracy: 0.7865\n",
            "Epoch 3/10\n",
            "93/93 [==============================] - 73s 791ms/step - loss: 0.9008 - sparse_categorical_accuracy: 0.7925 - val_loss: 0.8086 - val_sparse_categorical_accuracy: 0.8271\n",
            "Epoch 4/10\n",
            "93/93 [==============================] - 91s 977ms/step - loss: 0.7630 - sparse_categorical_accuracy: 0.8191 - val_loss: 0.7011 - val_sparse_categorical_accuracy: 0.8562\n",
            "Epoch 5/10\n",
            "93/93 [==============================] - 100s 1s/step - loss: 0.6721 - sparse_categorical_accuracy: 0.8380 - val_loss: 0.6251 - val_sparse_categorical_accuracy: 0.8729\n",
            "Epoch 6/10\n",
            "93/93 [==============================] - 73s 791ms/step - loss: 0.6059 - sparse_categorical_accuracy: 0.8506 - val_loss: 0.5676 - val_sparse_categorical_accuracy: 0.8781\n",
            "Epoch 7/10\n",
            "93/93 [==============================] - 74s 797ms/step - loss: 0.5548 - sparse_categorical_accuracy: 0.8629 - val_loss: 0.5221 - val_sparse_categorical_accuracy: 0.8875\n",
            "Epoch 8/10\n",
            "93/93 [==============================] - 72s 771ms/step - loss: 0.5138 - sparse_categorical_accuracy: 0.8745 - val_loss: 0.4851 - val_sparse_categorical_accuracy: 0.8938\n",
            "Epoch 9/10\n",
            "93/93 [==============================] - 73s 791ms/step - loss: 0.4800 - sparse_categorical_accuracy: 0.8814 - val_loss: 0.4543 - val_sparse_categorical_accuracy: 0.9000\n",
            "Epoch 10/10\n",
            "93/93 [==============================] - 73s 785ms/step - loss: 0.4516 - sparse_categorical_accuracy: 0.8881 - val_loss: 0.4282 - val_sparse_categorical_accuracy: 0.9042\n"
          ]
        },
        {
          "output_type": "execute_result",
          "data": {
            "text/plain": [
              "<keras.callbacks.History at 0x7f9bd0521190>"
            ]
          },
          "metadata": {},
          "execution_count": 18
        }
      ]
    },
    {
      "cell_type": "code",
      "source": [
        "ds= ds_test_resize_scale\n",
        "print(\"Test Accuracy: \", model.evaluate(ds.batch(batch_size=10))[1])\n",
        "predictions= model.predict(ds.batch(batch_size=10).take(1))\n",
        "y=[]\n",
        "print(\"10 Sample predictions:\")\n",
        "for (pred,(a,b)) in zip(predictions,ds.take(10)):\n",
        "  print(\"predicted: \" , np.argmax(pred), \"Actual Label: \"+labels[b.numpy()]+\" (\"+str(b.numpy()) +\")\", \" True\" if (np.argmax(pred)==b.numpy()) else \" False\" )\n",
        "  y.append(b.numpy())"
      ],
      "metadata": {
        "colab": {
          "base_uri": "https://localhost:8080/"
        },
        "id": "4AS03NDvlX9k",
        "outputId": "fcd6e77e-0024-4123-b2aa-733662e20993"
      },
      "execution_count": null,
      "outputs": [
        {
          "output_type": "stream",
          "name": "stdout",
          "text": [
            "100/100 [==============================] - 12s 121ms/step - loss: 0.4310 - sparse_categorical_accuracy: 0.9030\n",
            "Test Accuracy:  0.902999997138977\n",
            "10 Sample predictions:\n",
            "predicted:  2 Actual Label: 2 (2)  True\n",
            "predicted:  0 Actual Label: 0 (0)  True\n",
            "predicted:  4 Actual Label: 4 (4)  True\n",
            "predicted:  8 Actual Label: 8 (8)  True\n",
            "predicted:  7 Actual Label: 7 (7)  True\n",
            "predicted:  6 Actual Label: 6 (6)  True\n",
            "predicted:  0 Actual Label: 0 (0)  True\n",
            "predicted:  6 Actual Label: 6 (6)  True\n",
            "predicted:  3 Actual Label: 3 (3)  True\n",
            "predicted:  1 Actual Label: 1 (1)  True\n"
          ]
        }
      ]
    },
    {
      "cell_type": "markdown",
      "source": [
        "activation function : Sigmoid\n",
        "\n",
        "loss function : categorical cross entropy"
      ],
      "metadata": {
        "id": "GMjPgK-DoQ2U"
      }
    },
    {
      "cell_type": "code",
      "source": [
        "def one_hot(image, label):\n",
        "  label = tf.one_hot(label, depth=number_of_classes)\n",
        "  return image, label\n",
        "ds_train_resize_scale_one_hot= ds_train_resize_scale.map(one_hot)\n",
        "ds_test_resize_scale_one_hot= ds_test_resize_scale.map(one_hot)\n",
        "show_samples(ds_test_resize_scale_one_hot)"
      ],
      "metadata": {
        "colab": {
          "base_uri": "https://localhost:8080/",
          "height": 951
        },
        "id": "sNn23t57l3VX",
        "outputId": "5f025ea4-e38c-4894-fada-0d9644457cb1"
      },
      "execution_count": null,
      "outputs": [
        {
          "output_type": "stream",
          "name": "stdout",
          "text": [
            "9 samples from the dataset\n"
          ]
        },
        {
          "output_type": "display_data",
          "data": {
            "text/plain": [
              "<Figure size 1152x1152 with 9 Axes>"
            ],
            "image/png": "[encoded data removed]"
          },
          "metadata": {
            "needs_background": "light"
          }
        }
      ]
    },
    {
      "cell_type": "code",
      "source": [
        "ds_train_resize_scale_one_hot_batched=ds_train_resize_scale_one_hot.batch(64)\n",
        "ds_test_resize_scale_one_hot_batched=ds_test_resize_scale_one_hot.batch(64)"
      ],
      "metadata": {
        "id": "0HG0CWaDl70z"
      },
      "execution_count": null,
      "outputs": []
    },
    {
      "cell_type": "code",
      "source": [
        "inputs = keras.Input(shape=(32, 32, 3))\n",
        "x = base_model(inputs, training=False)\n",
        "x = keras.layers.GlobalAveragePooling2D()(x)\n",
        "initializer = tf.keras.initializers.GlorotUniform(seed=42)\n",
        "activation = tf.keras.activations.sigmoid # None  #  tf.keras.activations.sigmoid or softmax\n",
        "outputs = keras.layers.Dense(number_of_classes,\n",
        "                             kernel_initializer=initializer,\n",
        "                             activation=activation)(x) \n",
        " \n",
        "model = keras.Model(inputs, outputs)"
      ],
      "metadata": {
        "id": "Ptaz-hrEl_Jz"
      },
      "execution_count": null,
      "outputs": []
    },
    {
      "cell_type": "code",
      "source": [
        "model.compile(optimizer=keras.optimizers.Adam(),\n",
        "              loss=keras.losses.CategoricalCrossentropy(), # default from_logits=False\n",
        "              metrics=[keras.metrics.CategoricalAccuracy()])"
      ],
      "metadata": {
        "id": "VvxIFuulmCFj"
      },
      "execution_count": null,
      "outputs": []
    },
    {
      "cell_type": "code",
      "source": [
        "model.fit(ds_train_resize_scale_one_hot_batched, validation_data=ds_test_resize_scale_one_hot_batched, epochs=10)"
      ],
      "metadata": {
        "colab": {
          "base_uri": "https://localhost:8080/"
        },
        "id": "K-dHBt6YmFgx",
        "outputId": "53aac2e7-7aee-45fc-cadc-d190e1a41051"
      },
      "execution_count": null,
      "outputs": [
        {
          "output_type": "stream",
          "name": "stdout",
          "text": [
            "Epoch 1/10\n",
            "94/94 [==============================] - 79s 838ms/step - loss: 1.8375 - categorical_accuracy: 0.4812 - val_loss: 1.3710 - val_categorical_accuracy: 0.6960\n",
            "Epoch 2/10\n",
            "94/94 [==============================] - 79s 839ms/step - loss: 1.1790 - categorical_accuracy: 0.7535 - val_loss: 1.0094 - val_categorical_accuracy: 0.7850\n",
            "Epoch 3/10\n",
            "94/94 [==============================] - 74s 785ms/step - loss: 0.9183 - categorical_accuracy: 0.7955 - val_loss: 0.8290 - val_categorical_accuracy: 0.8160\n",
            "Epoch 4/10\n",
            "94/94 [==============================] - 76s 808ms/step - loss: 0.7747 - categorical_accuracy: 0.8202 - val_loss: 0.7168 - val_categorical_accuracy: 0.8410\n",
            "Epoch 5/10\n",
            "94/94 [==============================] - 75s 794ms/step - loss: 0.6805 - categorical_accuracy: 0.8385 - val_loss: 0.6379 - val_categorical_accuracy: 0.8580\n",
            "Epoch 6/10\n",
            "94/94 [==============================] - 73s 783ms/step - loss: 0.6122 - categorical_accuracy: 0.8528 - val_loss: 0.5783 - val_categorical_accuracy: 0.8690\n",
            "Epoch 7/10\n",
            "94/94 [==============================] - 75s 797ms/step - loss: 0.5597 - categorical_accuracy: 0.8622 - val_loss: 0.5314 - val_categorical_accuracy: 0.8770\n",
            "Epoch 8/10\n",
            "94/94 [==============================] - 75s 797ms/step - loss: 0.5176 - categorical_accuracy: 0.8737 - val_loss: 0.4933 - val_categorical_accuracy: 0.8890\n",
            "Epoch 9/10\n",
            "94/94 [==============================] - 74s 787ms/step - loss: 0.4830 - categorical_accuracy: 0.8805 - val_loss: 0.4616 - val_categorical_accuracy: 0.8980\n",
            "Epoch 10/10\n",
            "94/94 [==============================] - 75s 796ms/step - loss: 0.4539 - categorical_accuracy: 0.8877 - val_loss: 0.4348 - val_categorical_accuracy: 0.9030\n"
          ]
        },
        {
          "output_type": "execute_result",
          "data": {
            "text/plain": [
              "<keras.callbacks.History at 0x7f9bd075a890>"
            ]
          },
          "metadata": {},
          "execution_count": 24
        }
      ]
    },
    {
      "cell_type": "code",
      "source": [
        "ds= ds_test_resize_scale_one_hot\n",
        "print(\"Test Accuracy: \", model.evaluate(ds.batch(batch_size=10))[1])\n",
        "print(\"10 Sample predictions \")\n",
        "predictions= model.predict(ds.batch(batch_size=10).take(1))\n",
        "y=[]\n",
        "for (pred,(a,b)) in zip(predictions,ds.take(10)):\n",
        "  print(\"predicted: \" , (pred), \"Actual Label: \"+str(b.numpy()) , \" True\" if (np.argmax(pred)==np.argmax(b.numpy())) else \" False\" )\n",
        "  print()\n",
        "  y.append(b.numpy())"
      ],
      "metadata": {
        "colab": {
          "base_uri": "https://localhost:8080/"
        },
        "id": "7y0nEFOSmUDB",
        "outputId": "5bd8a0e6-3c31-4a11-d256-936003cec8b0"
      },
      "execution_count": null,
      "outputs": [
        {
          "output_type": "stream",
          "name": "stdout",
          "text": [
            "100/100 [==============================] - 14s 144ms/step - loss: 0.4348 - categorical_accuracy: 0.9030\n",
            "Test Accuracy:  0.902999997138977\n",
            "10 Sample predictions \n",
            "predicted:  [0.07149279 0.00194898 0.85190856 0.40217578 0.3732814  0.529088\n",
            " 0.06134683 0.10100478 0.46753335 0.17811662] Actual Label: [0. 0. 1. 0. 0. 0. 0. 0. 0. 0.]  True\n",
            "\n",
            "predicted:  [0.99050176 0.00102559 0.10926521 0.02373287 0.00250298 0.17090228\n",
            " 0.47971255 0.01748133 0.14682627 0.5528558 ] Actual Label: [1. 0. 0. 0. 0. 0. 0. 0. 0. 0.]  True\n",
            "\n",
            "predicted:  [0.0261662  0.02287871 0.3035257  0.1716913  0.9454888  0.24741462\n",
            " 0.03788924 0.25729728 0.38732815 0.14140761] Actual Label: [0. 0. 0. 0. 1. 0. 0. 0. 0. 0.]  True\n",
            "\n",
            "predicted:  [0.02547812 0.00770795 0.72420424 0.29982045 0.28486454 0.35919154\n",
            " 0.21824965 0.02640247 0.8775083  0.569503  ] Actual Label: [0. 0. 0. 0. 0. 0. 0. 0. 1. 0.]  True\n",
            "\n",
            "predicted:  [0.0444369  0.4077625  0.07447889 0.03664452 0.38824293 0.32338572\n",
            " 0.08103392 0.97950226 0.01234618 0.11375389] Actual Label: [0. 0. 0. 0. 0. 0. 0. 1. 0. 0.]  True\n",
            "\n",
            "predicted:  [0.71171236 0.00128701 0.19535094 0.27502823 0.00376943 0.31491017\n",
            " 0.9221823  0.02275744 0.07838121 0.26054418] Actual Label: [0. 0. 0. 0. 0. 0. 1. 0. 0. 0.]  True\n",
            "\n",
            "predicted:  [9.8540932e-01 6.5648556e-04 2.9434794e-01 3.7944555e-02 3.7401885e-02\n",
            " 3.7660772e-01 8.2684815e-02 1.5392616e-01 1.0647848e-01 3.1139266e-01] Actual Label: [1. 0. 0. 0. 0. 0. 0. 0. 0. 0.]  True\n",
            "\n",
            "predicted:  [7.1511590e-01 5.3043067e-03 3.1230956e-02 1.4826894e-02 7.1930885e-04\n",
            " 1.0486606e-01 9.6996069e-01 9.4950497e-03 2.3485512e-02 5.2762908e-01] Actual Label: [0. 0. 0. 0. 0. 0. 1. 0. 0. 0.]  True\n",
            "\n",
            "predicted:  [0.01551828 0.00151548 0.5893826  0.9349513  0.41218618 0.5923266\n",
            " 0.15507561 0.01987121 0.4676792  0.02632838] Actual Label: [0. 0. 0. 1. 0. 0. 0. 0. 0. 0.]  True\n",
            "\n",
            "predicted:  [0.00629812 0.99235    0.0085361  0.0312387  0.67177933 0.00967115\n",
            " 0.10803849 0.7464262  0.02838707 0.22283775] Actual Label: [0. 1. 0. 0. 0. 0. 0. 0. 0. 0.]  True\n",
            "\n"
          ]
        }
      ]
    }
  ]
}