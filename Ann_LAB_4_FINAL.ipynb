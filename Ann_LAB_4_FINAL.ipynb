{
  "nbformat": 4,
  "nbformat_minor": 0,
  "metadata": {
    "colab": {
      "provenance": [],
      "collapsed_sections": []
    },
    "kernelspec": {
      "name": "python3",
      "display_name": "Python 3"
    },
    "language_info": {
      "name": "python"
    }
  },
  "cells": [
    {
      "cell_type": "markdown",
      "source": [
        "**19EID331P**\n",
        "\n",
        "**Artificial Neural Networks Lab 4 Report**\n",
        "\n",
        "**Name : M.Murali Krishna**\n",
        "\n",
        "**Regd.no:322010404039**\n",
        "\n",
        "**Section:ECE AIML**"
      ],
      "metadata": {
        "id": "DOxIRfx_PRHS"
      }
    },
    {
      "cell_type": "markdown",
      "source": [
        "**AIM: To implement feedforward multi-layer networks and apply them to the MINST & CIFAR - 10 datasets.**"
      ],
      "metadata": {
        "id": "86eBz8yfvKb8"
      }
    },
    {
      "cell_type": "markdown",
      "source": [
        "**SOFTWARE REQUIRED:** GOOGLE COLAB"
      ],
      "metadata": {
        "id": "Dy31fxFbvdEo"
      }
    },
    {
      "cell_type": "markdown",
      "source": [
        "**Feedforward Neural Networks**\n",
        "This Jupyter notebook explains various ways of implementing single-layer and multi-layer neural networks. The\n",
        "implementations are arranged by concrete (explicit) to abstract order so that one can understand the blackboxed processing in deep learning frameworks.\n",
        "In order to focus on understanding the internals of training, this notebook uses a simple and classic example:\n",
        "threshold logic units. Supposing x = 0 as false and x = 1 as true, single-layer neural networks can realize logic\n",
        "units such as AND ( ∧ ), OR ( ∨ ), NOT (¬), and NAND ( | ). Multi-layer neural networks can realize logical\n",
        "compounds such as XOR.\n",
        "\n",
        "![image.png](data:image/png;base64,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)\n"
      ],
      "metadata": {
        "id": "8hwXS87jweoF"
      }
    },
    {
      "cell_type": "markdown",
      "source": [
        "**Using numpy**\n",
        "\n",
        "**Single-layer perceptron**"
      ],
      "metadata": {
        "id": "Il7osV55yLCE"
      }
    },
    {
      "cell_type": "code",
      "execution_count": null,
      "metadata": {
        "id": "eXIpL3cv_V45"
      },
      "outputs": [],
      "source": [
        "import numpy as np\n",
        "# Training data for AND.\n",
        "x = np.array([\n",
        "[0, 0, 1], [0, 1, 1], [1, 0, 1], [1, 1, 1]])\n",
        "y = np.array([0, 0, 0, 1])\n",
        "w = np.array([0.0, 0.0, 0.0])\n",
        "eta = 0.5\n",
        "for t in range(100):\n",
        " for i in range(len(y)):\n",
        "    y_pred = np.heaviside(np.dot(x[i], w), 0)\n",
        "    w += (y[i] - y_pred) * eta * x[i]\n"
      ]
    },
    {
      "cell_type": "code",
      "source": [
        "w\n"
      ],
      "metadata": {
        "colab": {
          "base_uri": "https://localhost:8080/"
        },
        "id": "w4u0hjAr_0hr",
        "outputId": "8a05c293-df9a-4ccb-cd66-4f15ce533218"
      },
      "execution_count": null,
      "outputs": [
        {
          "output_type": "execute_result",
          "data": {
            "text/plain": [
              "array([ 1. ,  0.5, -1. ])"
            ]
          },
          "metadata": {},
          "execution_count": 45
        }
      ]
    },
    {
      "cell_type": "code",
      "source": [
        "np.heaviside(np.dot(x, w), 0)"
      ],
      "metadata": {
        "colab": {
          "base_uri": "https://localhost:8080/"
        },
        "id": "i-zK5puW_1eD",
        "outputId": "77bb5228-6925-4aff-a616-f6f163d83718"
      },
      "execution_count": null,
      "outputs": [
        {
          "output_type": "execute_result",
          "data": {
            "text/plain": [
              "array([0., 0., 0., 1.])"
            ]
          },
          "metadata": {},
          "execution_count": 46
        }
      ]
    },
    {
      "cell_type": "markdown",
      "source": [
        "**Single-layer perceptron with mini-batch**\n",
        "\n",
        "It is desireable to reduce the execusion run by the Python interpreter, which is relatively slow. The common\n",
        "technique to speed up a machine-learning code written in Python is to to execute computations within the\n",
        "matrix library (e.g., numpy).\n",
        "The single-layer perceptron makes predictions for four inputs,\n",
        "\n",
        "yˆ\n",
        "1 = g(x 1\n",
        "⋅ w)yˆ\n",
        "2 = g(x 2\n",
        "⋅ w)yˆ\n",
        "3 = g(x 3\n",
        "⋅ w)yˆ\n",
        "4 = g(x 4\n",
        "⋅ w)\n",
        "\n",
        "Here, we define Yˆ ∈ R^(4× 1)\n",
        "and X ∈ R^(4× d)"
      ],
      "metadata": {
        "id": "RmiAmwsOIpTc"
      }
    },
    {
      "cell_type": "code",
      "source": [
        "import numpy as np\n",
        "# Training data for NAND.\n",
        "x = np.array([\n",
        "[0, 0, 1], [0, 1, 1], [1, 0, 1], [1, 1, 1]])\n",
        "y = np.array([1, 1, 1, 0])\n",
        "w = np.array([0.0, 0.0, 0.0])\n",
        "eta = 0.5\n",
        "for t in range(100):\n",
        "  y_pred = np.heaviside(np.dot(x, w), 0)\n",
        "  w += np.dot((y - y_pred), x)\n"
      ],
      "metadata": {
        "id": "0qob1ousB98w"
      },
      "execution_count": null,
      "outputs": []
    },
    {
      "cell_type": "code",
      "source": [
        "w"
      ],
      "metadata": {
        "colab": {
          "base_uri": "https://localhost:8080/"
        },
        "id": "mUq4CrKMCIdO",
        "outputId": "d33a0ac4-c150-43bb-fac9-d8ce39312fe1"
      },
      "execution_count": null,
      "outputs": [
        {
          "output_type": "execute_result",
          "data": {
            "text/plain": [
              "array([-1., -1.,  2.])"
            ]
          },
          "metadata": {},
          "execution_count": 48
        }
      ]
    },
    {
      "cell_type": "code",
      "source": [
        "np.heaviside(np.dot(x,w),0)"
      ],
      "metadata": {
        "colab": {
          "base_uri": "https://localhost:8080/"
        },
        "id": "2JedgE1TCI1S",
        "outputId": "7a67e367-769a-491e-98ff-69d6d6dff0a6"
      },
      "execution_count": null,
      "outputs": [
        {
          "output_type": "execute_result",
          "data": {
            "text/plain": [
              "array([1., 1., 1., 0.])"
            ]
          },
          "metadata": {},
          "execution_count": 49
        }
      ]
    },
    {
      "cell_type": "markdown",
      "source": [
        "**Stochastic gradient descent (SGD) with mini-batch**"
      ],
      "metadata": {
        "id": "7ZR_ju7bIwPF"
      }
    },
    {
      "cell_type": "code",
      "source": [
        "import numpy as np\n",
        "def sigmoid(v):\n",
        "    return 1.0 / (1 + np.exp(-v))\n",
        "# Training data for NAND.\n",
        "x = np.array([\n",
        "[0, 0, 1], [0, 1, 1], [1, 0, 1], [1, 1, 1]\n",
        "])\n",
        "y = np.array([1, 1, 1, 0])\n",
        "w = np.array([0.0, 0.0, 0.0])\n",
        "eta = 0.5\n",
        "for t in range(100):\n",
        "    y_pred = sigmoid(np.dot(x, w))\n",
        "    w -= np.dot((y_pred - y), x)"
      ],
      "metadata": {
        "id": "9tLJgMrhCPNy"
      },
      "execution_count": null,
      "outputs": []
    },
    {
      "cell_type": "code",
      "source": [
        "w"
      ],
      "metadata": {
        "colab": {
          "base_uri": "https://localhost:8080/"
        },
        "id": "uSC-gevJFxb4",
        "outputId": "f10a695f-e218-4268-9123-c6d7883fee6e"
      },
      "execution_count": null,
      "outputs": [
        {
          "output_type": "execute_result",
          "data": {
            "text/plain": [
              "array([-5.59504346, -5.59504346,  8.57206068])"
            ]
          },
          "metadata": {},
          "execution_count": 51
        }
      ]
    },
    {
      "cell_type": "code",
      "source": [
        "sigmoid(np.dot(x,w),)"
      ],
      "metadata": {
        "colab": {
          "base_uri": "https://localhost:8080/"
        },
        "id": "zExm-fozFx0H",
        "outputId": "4c03aa18-9911-45be-c499-40c0ebeab4e6"
      },
      "execution_count": null,
      "outputs": [
        {
          "output_type": "execute_result",
          "data": {
            "text/plain": [
              "array([0.99981071, 0.95152498, 0.95152498, 0.06798725])"
            ]
          },
          "metadata": {},
          "execution_count": 52
        }
      ]
    },
    {
      "cell_type": "markdown",
      "source": [
        "**Automatic differentiation**"
      ],
      "metadata": {
        "id": "KTGSx5-nz7kF"
      }
    },
    {
      "cell_type": "markdown",
      "source": [
        "**Using Autograd**"
      ],
      "metadata": {
        "id": "vbLroE_XI0hX"
      }
    },
    {
      "cell_type": "code",
      "source": [
        "!pip install autograd"
      ],
      "metadata": {
        "colab": {
          "base_uri": "https://localhost:8080/"
        },
        "id": "59QT-RWzG42A",
        "outputId": "fe233532-af00-4db3-a418-7cdd7ebd6523"
      },
      "execution_count": null,
      "outputs": [
        {
          "output_type": "stream",
          "name": "stdout",
          "text": [
            "Looking in indexes: https://pypi.org/simple, https://us-python.pkg.dev/colab-wheels/public/simple/\n",
            "Requirement already satisfied: autograd in /usr/local/lib/python3.7/dist-packages (1.4)\n",
            "Requirement already satisfied: future>=0.15.2 in /usr/local/lib/python3.7/dist-packages (from autograd) (0.16.0)\n",
            "Requirement already satisfied: numpy>=1.12 in /usr/local/lib/python3.7/dist-packages (from autograd) (1.21.6)\n"
          ]
        }
      ]
    },
    {
      "cell_type": "code",
      "source": [
        "import autograd\n",
        "import autograd.numpy as np\n",
        "def loss(w, x):\n",
        "  return -np.log(1.0 / (1 + np.exp(-np.dot(x, w))))\n",
        "x = np.array([1, 1, 1])\n",
        "w = np.array([1.0, 1.0, -1.5])\n",
        "grad_loss = autograd.grad(loss)\n",
        "print(loss(w, x))\n",
        "print(grad_loss(w, x))"
      ],
      "metadata": {
        "colab": {
          "base_uri": "https://localhost:8080/"
        },
        "id": "0P5hqbqpG8QS",
        "outputId": "08b7f3a0-4c14-4643-8cf4-e38c1e41efcf"
      },
      "execution_count": null,
      "outputs": [
        {
          "output_type": "stream",
          "name": "stdout",
          "text": [
            "0.47407698418010663\n",
            "[-0.37754067 -0.37754067 -0.37754067]\n"
          ]
        }
      ]
    },
    {
      "cell_type": "markdown",
      "source": [
        "**Using Pytorch**"
      ],
      "metadata": {
        "id": "o3oRg8cZI61Y"
      }
    },
    {
      "cell_type": "code",
      "source": [
        "!pip install torch torchvision\n"
      ],
      "metadata": {
        "colab": {
          "base_uri": "https://localhost:8080/"
        },
        "id": "LdClm375HBDb",
        "outputId": "c9ede39a-ab89-4418-b5e6-9a1eae53c4e2"
      },
      "execution_count": null,
      "outputs": [
        {
          "output_type": "stream",
          "name": "stdout",
          "text": [
            "Looking in indexes: https://pypi.org/simple, https://us-python.pkg.dev/colab-wheels/public/simple/\n",
            "Requirement already satisfied: torch in /usr/local/lib/python3.7/dist-packages (1.12.1+cu113)\n",
            "Requirement already satisfied: torchvision in /usr/local/lib/python3.7/dist-packages (0.13.1+cu113)\n",
            "Requirement already satisfied: typing-extensions in /usr/local/lib/python3.7/dist-packages (from torch) (4.1.1)\n",
            "Requirement already satisfied: requests in /usr/local/lib/python3.7/dist-packages (from torchvision) (2.23.0)\n",
            "Requirement already satisfied: numpy in /usr/local/lib/python3.7/dist-packages (from torchvision) (1.21.6)\n",
            "Requirement already satisfied: pillow!=8.3.*,>=5.3.0 in /usr/local/lib/python3.7/dist-packages (from torchvision) (7.1.2)\n",
            "Requirement already satisfied: chardet<4,>=3.0.2 in /usr/local/lib/python3.7/dist-packages (from requests->torchvision) (3.0.4)\n",
            "Requirement already satisfied: urllib3!=1.25.0,!=1.25.1,<1.26,>=1.21.1 in /usr/local/lib/python3.7/dist-packages (from requests->torchvision) (1.24.3)\n",
            "Requirement already satisfied: idna<3,>=2.5 in /usr/local/lib/python3.7/dist-packages (from requests->torchvision) (2.10)\n",
            "Requirement already satisfied: certifi>=2017.4.17 in /usr/local/lib/python3.7/dist-packages (from requests->torchvision) (2022.6.15)\n"
          ]
        }
      ]
    },
    {
      "cell_type": "code",
      "source": [
        "import torch\n",
        "dtype = torch.float\n",
        "x = torch.tensor([1, 1, 1], dtype=dtype)\n",
        "w = torch.tensor([1.0, 1.0, -1.5], dtype=dtype, requires_grad=True)\n",
        "loss = -torch.dot(x, w).sigmoid().log()\n",
        "loss.backward()\n",
        "print(loss.item())\n",
        "print(w.grad)\n"
      ],
      "metadata": {
        "colab": {
          "base_uri": "https://localhost:8080/"
        },
        "id": "IEbUZQLhHY0H",
        "outputId": "441dc7bc-5854-4ac8-90ff-03ca6ff5942f"
      },
      "execution_count": null,
      "outputs": [
        {
          "output_type": "stream",
          "name": "stdout",
          "text": [
            "0.4740769565105438\n",
            "tensor([-0.3775, -0.3775, -0.3775])\n"
          ]
        }
      ]
    },
    {
      "cell_type": "markdown",
      "source": [
        "**Implementing neural networks with pytorch**"
      ],
      "metadata": {
        "id": "PRYZ19dB0Pis"
      }
    },
    {
      "cell_type": "markdown",
      "source": [
        "**Single-layer neural network using automatic differentiation**"
      ],
      "metadata": {
        "id": "WhNwKkg6IXw9"
      }
    },
    {
      "cell_type": "code",
      "source": [
        "import torch\n",
        "dtype = torch.float\n",
        "# Training data for NAND.\n",
        "x = torch.tensor([[0, 0, 1], [0, 1, 1], [1, 0, 1], [1, 1, 1]], dtype=dtype)\n",
        "y = torch.tensor([[1], [1], [1], [0]], dtype=dtype)\n",
        "w = torch.randn(3, 1, dtype=dtype, requires_grad=True)\n",
        "eta = 0.5\n",
        "for t in range(100):\n",
        "    # y_pred = \\sigma(x \\cdot w)\n",
        "      y_pred = x.mm(w).sigmoid()\n",
        "      ll = y * y_pred + (1 - y) * (1 - y_pred)\n",
        "      loss = -ll.log().sum() # The loss value.\n",
        "      #print(t, loss.item())\n",
        "      loss.backward() # Compute the gradients of the loss.\n",
        "      with torch.no_grad():\n",
        "        \n",
        "        w -= eta * w.grad # Update weights using SGD.\n",
        "        w.grad.zero_() # Clear the gradients for the next iteration"
      ],
      "metadata": {
        "id": "9I2o7gLeHkw8"
      },
      "execution_count": null,
      "outputs": []
    },
    {
      "cell_type": "code",
      "source": [
        "w"
      ],
      "metadata": {
        "colab": {
          "base_uri": "https://localhost:8080/"
        },
        "id": "9w7UBkExH1wM",
        "outputId": "2a74fa1c-0d72-4ddc-c2d6-8ddf4183c321"
      },
      "execution_count": null,
      "outputs": [
        {
          "output_type": "execute_result",
          "data": {
            "text/plain": [
              "tensor([[-4.3889],\n",
              "        [-4.3925],\n",
              "        [ 6.7760]], requires_grad=True)"
            ]
          },
          "metadata": {},
          "execution_count": 58
        }
      ]
    },
    {
      "cell_type": "code",
      "source": [
        "x.mm(w).sigmoid()\n"
      ],
      "metadata": {
        "colab": {
          "base_uri": "https://localhost:8080/"
        },
        "id": "1tWOQhpYH8dG",
        "outputId": "3502520e-b14e-455c-b7b5-28492c5106cb"
      },
      "execution_count": null,
      "outputs": [
        {
          "output_type": "execute_result",
          "data": {
            "text/plain": [
              "tensor([[0.9989],\n",
              "        [0.9156],\n",
              "        [0.9158],\n",
              "        [0.1186]], grad_fn=<SigmoidBackward0>)"
            ]
          },
          "metadata": {},
          "execution_count": 59
        }
      ]
    },
    {
      "cell_type": "markdown",
      "source": [
        "**Multi-layer neural network using automatic differentiation**"
      ],
      "metadata": {
        "id": "jYIyAfntIJSk"
      }
    },
    {
      "cell_type": "code",
      "source": [
        "import torch\n",
        "dtype = torch.float\n",
        "# Training data for XOR.\n",
        "x = torch.tensor([[0, 0, 1], [0, 1, 1], [1, 0, 1], [1, 1, 1]], dtype=dtype)\n",
        "y = torch.tensor([[0], [1], [1], [0]], dtype=dtype)\n",
        "w1 = torch.randn(3, 2, dtype=dtype, requires_grad=True)\n",
        "w2 = torch.randn(2, 1, dtype=dtype, requires_grad=True)\n",
        "b2 = torch.randn(1, 1, dtype=dtype, requires_grad=True)\n",
        "eta = 0.5\n",
        "for t in range(1000):\n",
        "    # y_pred = \\sigma(w_2 \\cdot \\sigma(x \\cdot w_1) + b_2)\n",
        "      y_pred = x.mm(w1).sigmoid().mm(w2).add(b2).sigmoid()\n",
        "      ll = y * y_pred + (1 - y) * (1 - y_pred)\n",
        "      loss = -ll.log().sum()\n",
        "      #print(t, loss.item())\n",
        "      loss.backward()\n",
        "\n",
        "      with torch.no_grad():\n",
        "            # Update weights using SGD.\n",
        "              w1 -= eta * w1.grad\n",
        "              w2 -= eta * w2.grad\n",
        "              b2 -= eta * b2.grad\n",
        "            # Clear the gradients for the next iteration.\n",
        "              w1.grad.zero_()\n",
        "              w2.grad.zero_()\n",
        "              b2.grad.zero_()\n"
      ],
      "metadata": {
        "id": "MYNj4VbwIDOL"
      },
      "execution_count": null,
      "outputs": []
    },
    {
      "cell_type": "code",
      "source": [
        "print(w1)\n",
        "print(w2)\n",
        "print(b2)"
      ],
      "metadata": {
        "colab": {
          "base_uri": "https://localhost:8080/"
        },
        "id": "hZXCJhv7J8c9",
        "outputId": "1aa905f1-14ae-437a-c2de-7643492ad5a4"
      },
      "execution_count": null,
      "outputs": [
        {
          "output_type": "stream",
          "name": "stdout",
          "text": [
            "tensor([[ 7.4740, -5.7326],\n",
            "        [ 7.4811, -5.7336],\n",
            "        [-3.3949,  8.5880]], requires_grad=True)\n",
            "tensor([[9.7345],\n",
            "        [9.8680]], requires_grad=True)\n",
            "tensor([[-14.4019]], requires_grad=True)\n"
          ]
        }
      ]
    },
    {
      "cell_type": "code",
      "source": [
        "x.mm(w1).sigmoid().mm(w2).add(b2).sigmoid()"
      ],
      "metadata": {
        "colab": {
          "base_uri": "https://localhost:8080/"
        },
        "id": "2lCG8yLNKCeg",
        "outputId": "db4d0f9b-cdba-42a6-abed-9f55a2282976"
      },
      "execution_count": null,
      "outputs": [
        {
          "output_type": "execute_result",
          "data": {
            "text/plain": [
              "tensor([[0.0145],\n",
              "        [0.9890],\n",
              "        [0.9890],\n",
              "        [0.0156]], grad_fn=<SigmoidBackward0>)"
            ]
          },
          "metadata": {},
          "execution_count": 62
        }
      ]
    },
    {
      "cell_type": "markdown",
      "source": [
        "**Single-layer neural network with high-level NN modules**"
      ],
      "metadata": {
        "id": "g4jM-8KbKmY4"
      }
    },
    {
      "cell_type": "code",
      "source": [
        "import torch\n",
        "\n",
        "dtype = torch.float\n",
        "\n",
        "# Training data for NAND.\n",
        "x = torch.tensor([[0, 0], [0, 1], [1, 0], [1, 1]], dtype=dtype)\n",
        "y = torch.tensor([[1], [1], [1], [0]], dtype=dtype)\n",
        "\n",
        "# Define a neural network using high-level modules.\n",
        "model = torch.nn.Sequential(\n",
        "      torch.nn.Linear(2, 1, bias=True), # 2 dims (with bias) -> 1 dim\n",
        ")\n",
        "# Binary corss-entropy loss after sigmoid function.\n",
        "loss_fn = torch.nn.BCEWithLogitsLoss(size_average=False)\n",
        "eta = 0.5\n",
        "for t in range(100):\n",
        "    y_pred = model(x) # Make predictions.\n",
        "    loss = loss_fn(y_pred, y) # Compute the loss.\n",
        "    #print(t, loss.item())\n",
        "    model.zero_grad() # Zero-clear the gradients.\n",
        "    loss.backward() # Compute the gradients.\n",
        "    with torch.no_grad():\n",
        "          for param in model.parameters():\n",
        "              param -= eta * param.grad # Update the parameters using SGD.\n",
        "\n"
      ],
      "metadata": {
        "id": "CKvdjRjpKYEK"
      },
      "execution_count": null,
      "outputs": []
    },
    {
      "cell_type": "code",
      "source": [
        "model.state_dict()"
      ],
      "metadata": {
        "colab": {
          "base_uri": "https://localhost:8080/"
        },
        "id": "bL4xYITYLQZU",
        "outputId": "381cea3b-066e-41e0-bc1d-a1ab5d08ed28"
      },
      "execution_count": null,
      "outputs": [
        {
          "output_type": "execute_result",
          "data": {
            "text/plain": [
              "OrderedDict([('0.weight', tensor([[-4.2393, -4.2397]])),\n",
              "             ('0.bias', tensor([6.5512]))])"
            ]
          },
          "metadata": {},
          "execution_count": 65
        }
      ]
    },
    {
      "cell_type": "code",
      "source": [
        "model(x).sigmoid()\n"
      ],
      "metadata": {
        "colab": {
          "base_uri": "https://localhost:8080/"
        },
        "id": "hqzpGbjMLhiv",
        "outputId": "e534ed8c-a3b7-4773-b560-2167041546ec"
      },
      "execution_count": null,
      "outputs": [
        {
          "output_type": "execute_result",
          "data": {
            "text/plain": [
              "tensor([[0.9986],\n",
              "        [0.9098],\n",
              "        [0.9099],\n",
              "        [0.1270]], grad_fn=<SigmoidBackward0>)"
            ]
          },
          "metadata": {},
          "execution_count": 66
        }
      ]
    },
    {
      "cell_type": "markdown",
      "source": [
        "**Multi-layer neural network with high-level NN modules**"
      ],
      "metadata": {
        "id": "qMMHnmXgLuHZ"
      }
    },
    {
      "cell_type": "code",
      "source": [
        "import torch\n",
        "dtype = torch.float\n",
        "\n",
        "# Training data for XOR.\n",
        "x = torch.tensor([[0, 0], [0, 1], [1, 0], [1, 1]], dtype=dtype)\n",
        "y = torch.tensor([[0], [1], [1], [0]], dtype=dtype)\n",
        "\n",
        "# Define a neural network using high-level modules.\n",
        "model = torch.nn.Sequential(\n",
        "    torch.nn.Linear(2, 2, bias=True), # 2 dims (with bias) -> 2 dims\n",
        "    torch.nn.Sigmoid(), # Sigmoid function\n",
        "    torch.nn.Linear(2, 1, bias=True), # 2 dims (with bias) -> 1 dim\n",
        "    )\n",
        "\n",
        "# Binary corss-entropy loss after sigmoid function.\n",
        "loss_fn = torch.nn.BCEWithLogitsLoss(size_average=False)\n",
        "\n",
        "eta = 0.5\n",
        "for t in range(1000):\n",
        "    y_pred = model(x) # Make predictions.\n",
        "    loss = loss_fn(y_pred, y) # Compute the loss.\n",
        "    #print(t, loss.item())\n",
        "\n",
        "    model.zero_grad() # Zero-clear the gradients.\n",
        "    loss.backward() # Compute the gradients.\n",
        "    \n",
        "    with torch.no_grad():\n",
        "        for param in model.parameters():\n",
        "            param -= eta * param.grad # Update the parameters using SGD."
      ],
      "metadata": {
        "id": "60s8kKmqLk1C"
      },
      "execution_count": null,
      "outputs": []
    },
    {
      "cell_type": "code",
      "source": [
        "model.state_dict()"
      ],
      "metadata": {
        "colab": {
          "base_uri": "https://localhost:8080/"
        },
        "id": "R2ORDuQoMLij",
        "outputId": "47e622c2-c68d-42a6-dacb-5055c8c1c8b3"
      },
      "execution_count": null,
      "outputs": [
        {
          "output_type": "execute_result",
          "data": {
            "text/plain": [
              "OrderedDict([('0.weight', tensor([[-8.4675,  4.1071],\n",
              "                      [-8.4889, -4.8882]])),\n",
              "             ('0.bias', tensor([-2.6147,  1.4000])),\n",
              "             ('2.weight', tensor([[ 7.0061, -7.5702]])),\n",
              "             ('2.bias', tensor([0.0006]))])"
            ]
          },
          "metadata": {},
          "execution_count": 68
        }
      ]
    },
    {
      "cell_type": "code",
      "source": [
        "model(x).sigmoid()\n"
      ],
      "metadata": {
        "colab": {
          "base_uri": "https://localhost:8080/"
        },
        "id": "JN_tyPsZMPAY",
        "outputId": "e5774c77-0037-4564-cc4b-97010e15ce4d"
      },
      "execution_count": null,
      "outputs": [
        {
          "output_type": "execute_result",
          "data": {
            "text/plain": [
              "tensor([[0.0037],\n",
              "        [0.9959],\n",
              "        [0.4986],\n",
              "        [0.5018]], grad_fn=<SigmoidBackward0>)"
            ]
          },
          "metadata": {},
          "execution_count": 69
        }
      ]
    },
    {
      "cell_type": "markdown",
      "source": [
        "**Single-layer neural network with an optimizer**"
      ],
      "metadata": {
        "id": "fOHuCNaOM5f0"
      }
    },
    {
      "cell_type": "code",
      "source": [
        "import torch\n",
        "\n",
        "dtype = torch.float\n",
        "\n",
        "# Training data for NAND.\n",
        "x = torch.tensor([[0, 0], [0, 1], [1, 0], [1, 1]], dtype=dtype)\n",
        "y = torch.tensor([[1], [1], [1], [0]], dtype=dtype)\n",
        "\n",
        "# Define a neural network using high-level modules.\n",
        "model = torch.nn.Sequential(\n",
        "    torch.nn.Linear(2, 1, bias=True), # 2 dims (with bias) -> 1 dim\n",
        ")\n",
        "\n",
        "# Binary corss-entropy loss after sigmoid function.\n",
        "loss_fn = torch.nn.BCEWithLogitsLoss(size_average=False)\n",
        "\n",
        "# Optimizer based on SGD (change \"SGD\" to \"Adam\" to use Adam)\n",
        "optimizer = torch.optim.SGD(model.parameters(), lr=0.5)\n",
        "\n",
        "for t in range(100):\n",
        "    y_pred = model(x) # Make predictions.\n",
        "    loss = loss_fn(y_pred, y) # Compute the loss.\n",
        "    #print(t, loss.item())\n",
        "    optimizer.zero_grad() # Zero-clear gradients.\n",
        "    loss.backward() # Compute the gradients.\n",
        "    optimizer.step() # Update the parameters using the gradients."
      ],
      "metadata": {
        "id": "DFBMIcEPMX4f"
      },
      "execution_count": null,
      "outputs": []
    },
    {
      "cell_type": "code",
      "source": [
        "model.state_dict()\n"
      ],
      "metadata": {
        "colab": {
          "base_uri": "https://localhost:8080/"
        },
        "id": "OOJJANaxN1Xu",
        "outputId": "f695ad8e-c528-4c8b-f88d-5aaac70c65a5"
      },
      "execution_count": null,
      "outputs": [
        {
          "output_type": "execute_result",
          "data": {
            "text/plain": [
              "OrderedDict([('0.weight', tensor([[-4.2215, -4.2215]])),\n",
              "             ('0.bias', tensor([6.5244]))])"
            ]
          },
          "metadata": {},
          "execution_count": 71
        }
      ]
    },
    {
      "cell_type": "code",
      "source": [
        "model(x).sigmoid()"
      ],
      "metadata": {
        "colab": {
          "base_uri": "https://localhost:8080/"
        },
        "id": "Zd38Qp7sN2By",
        "outputId": "a19b141f-ff5f-4535-8d04-02aa048dd71b"
      },
      "execution_count": null,
      "outputs": [
        {
          "output_type": "execute_result",
          "data": {
            "text/plain": [
              "tensor([[0.9985],\n",
              "        [0.9091],\n",
              "        [0.9091],\n",
              "        [0.1280]], grad_fn=<SigmoidBackward0>)"
            ]
          },
          "metadata": {},
          "execution_count": 72
        }
      ]
    },
    {
      "cell_type": "markdown",
      "source": [
        "**Multi-layer neural networks using an optimizer**"
      ],
      "metadata": {
        "id": "UOGY1abRODGD"
      }
    },
    {
      "cell_type": "code",
      "source": [
        "import torch\n",
        "dtype = torch.float\n",
        "\n",
        "# Training data for XOR.\n",
        "x = torch.tensor([[0, 0], [0, 1], [1, 0], [1, 1]], dtype=dtype)\n",
        "y = torch.tensor([[0], [1], [1], [0]], dtype=dtype)\n",
        "\n",
        "# Define a neural network using high-level modules.\n",
        "model = torch.nn.Sequential(\n",
        "    torch.nn.Linear(2, 2, bias=True), # 2 dims (with bias) -> 2 dims\n",
        "    torch.nn.Sigmoid(), # Sigmoid function\n",
        "    torch.nn.Linear(2, 1, bias=True), # 2 dims (with bias) -> 1 dim\n",
        ")\n",
        "\n",
        "# Binary corss-entropy loss after sigmoid function.\n",
        "loss_fn = torch.nn.BCEWithLogitsLoss(size_average=False)\n",
        "\n",
        "# Optimizer based on SGD (change \"SGD\" to \"Adam\" to use Adam)\n",
        "optimizer = torch.optim.SGD(model.parameters(), lr=0.5)\n",
        "\n",
        "for t in range(1000):\n",
        "    y_pred = model(x) # Make predictions.\n",
        "    loss = loss_fn(y_pred, y) # Compute the loss.\n",
        "    #print(t, loss.item())\n",
        "    optimizer.zero_grad() # Zero-clear gradients.\n",
        "    loss.backward() # Compute the gradients.\n",
        "    optimizer.step() # Update the parameters using the gradients."
      ],
      "metadata": {
        "id": "ssFJ1qOpN9Xz"
      },
      "execution_count": null,
      "outputs": []
    },
    {
      "cell_type": "code",
      "source": [
        "model.state_dict()"
      ],
      "metadata": {
        "colab": {
          "base_uri": "https://localhost:8080/"
        },
        "id": "zwBxW2IJOeRT",
        "outputId": "47d27e55-f0f6-4179-870a-3a9c5dbc2aac"
      },
      "execution_count": null,
      "outputs": [
        {
          "output_type": "execute_result",
          "data": {
            "text/plain": [
              "OrderedDict([('0.weight', tensor([[ 5.7355, -5.9902],\n",
              "                      [ 6.9613, -6.7321]])),\n",
              "             ('0.bias', tensor([-3.0621,  3.3902])),\n",
              "             ('2.weight', tensor([[ 10.7569, -10.0656]])),\n",
              "             ('2.bias', tensor([4.6617]))])"
            ]
          },
          "metadata": {},
          "execution_count": 74
        }
      ]
    },
    {
      "cell_type": "code",
      "source": [
        "model(x).sigmoid()"
      ],
      "metadata": {
        "colab": {
          "base_uri": "https://localhost:8080/"
        },
        "id": "Ajf7bblIOhSA",
        "outputId": "2ea05608-0614-411a-888d-7db25f7eea7b"
      },
      "execution_count": null,
      "outputs": [
        {
          "output_type": "execute_result",
          "data": {
            "text/plain": [
              "tensor([[0.0100],\n",
              "        [0.9869],\n",
              "        [0.9906],\n",
              "        [0.0085]], grad_fn=<SigmoidBackward0>)"
            ]
          },
          "metadata": {},
          "execution_count": 75
        }
      ]
    },
    {
      "cell_type": "markdown",
      "source": [
        "**Single-layer neural network with a customizable NN class.**"
      ],
      "metadata": {
        "id": "zrayTE9gOrh9"
      }
    },
    {
      "cell_type": "code",
      "source": [
        "import torch\n",
        "dtype = torch.float\n",
        "\n",
        "# Training data for NAND.\n",
        "x = torch.tensor([[0, 0], [0, 1], [1, 0], [1, 1]], dtype=dtype)\n",
        "y = torch.tensor([[1], [1], [1], [0]], dtype=dtype)\n",
        "\n",
        "# Define a neural network model.\n",
        "class SingleLayerNN(torch.nn.Module):\n",
        "    def __init__(self, d_in, d_out):\n",
        "        super(SingleLayerNN, self).__init__()\n",
        "        self.linear1 = torch.nn.Linear(d_in, d_out, bias=True)\n",
        "    def forward(self, x):\n",
        "        return self.linear1(x)\n",
        "\n",
        "model = SingleLayerNN(2, 1)\n",
        "\n",
        "# Binary corss-entropy loss after sigmoid function.\n",
        "loss_fn = torch.nn.BCEWithLogitsLoss(size_average=False)\n",
        "\n",
        "# Optimizer based on SGD (change \"SGD\" to \"Adam\" to use Adam)\n",
        "optimizer = torch.optim.SGD(model.parameters(), lr=0.5)\n",
        "\n",
        "for t in range(100):\n",
        "    y_pred = model(x) # Make predictions.\n",
        "    loss = loss_fn(y_pred, y) # Compute the loss.\n",
        "    #print(t, loss.item())\n",
        "\n",
        "    optimizer.zero_grad() # Zero-clear gradients.\n",
        "    loss.backward() # Compute the gradients.\n",
        "    optimizer.step() # Update the parameters using the gradients."
      ],
      "metadata": {
        "id": "n7fI9WG0OnPs"
      },
      "execution_count": null,
      "outputs": []
    },
    {
      "cell_type": "code",
      "source": [
        "model.state_dict()"
      ],
      "metadata": {
        "colab": {
          "base_uri": "https://localhost:8080/"
        },
        "id": "oSoTJNxAPWJ3",
        "outputId": "fd67d8ed-c265-49ed-8364-818213f6e2fb"
      },
      "execution_count": null,
      "outputs": [
        {
          "output_type": "execute_result",
          "data": {
            "text/plain": [
              "OrderedDict([('linear1.weight', tensor([[-4.2471, -4.2477]])),\n",
              "             ('linear1.bias', tensor([6.5629]))])"
            ]
          },
          "metadata": {},
          "execution_count": 77
        }
      ]
    },
    {
      "cell_type": "code",
      "source": [
        "model(x).sigmoid()\n"
      ],
      "metadata": {
        "colab": {
          "base_uri": "https://localhost:8080/"
        },
        "id": "vgeb0UyUPcHB",
        "outputId": "a78abbaf-dc49-4b5b-8c63-5821ae64ccfa"
      },
      "execution_count": null,
      "outputs": [
        {
          "output_type": "execute_result",
          "data": {
            "text/plain": [
              "tensor([[0.9987],\n",
              "        [0.9114],\n",
              "        [0.9114],\n",
              "        [0.1248]], grad_fn=<SigmoidBackward0>)"
            ]
          },
          "metadata": {},
          "execution_count": 58
        }
      ]
    },
    {
      "cell_type": "markdown",
      "source": [
        "**Multi-layer neural network with a customizable NN class.**"
      ],
      "metadata": {
        "id": "oO6O7A3ZPkrX"
      }
    },
    {
      "cell_type": "code",
      "source": [
        "import torch\n",
        "\n",
        "dtype = torch.float\n",
        "\n",
        "# Training data for XOR.\n",
        "x = torch.tensor([[0, 0], [0, 1], [1, 0], [1, 1]], dtype=dtype)\n",
        "y = torch.tensor([[0], [1], [1], [0]], dtype=dtype)\n",
        "\n",
        "# Define a neural network model.\n",
        "class ThreeLayerNN(torch.nn.Module):\n",
        "    def __init__(self, d_in, d_hidden, d_out):\n",
        "        super(ThreeLayerNN, self).__init__()\n",
        "        self.linear1 = torch.nn.Linear(d_in, d_hidden, bias=True)\n",
        "        self.linear2 = torch.nn.Linear(d_hidden, d_out, bias=True)\n",
        "    def forward(self, x):\n",
        "        return self.linear2(self.linear1(x).sigmoid())\n",
        "model = ThreeLayerNN(2, 2, 1)\n",
        "\n",
        "oss_fn = torch.nn.BCEWithLogitsLoss(size_average=False)\n",
        "\n",
        "# Optimizer based on SGD (change \"SGD\" to \"Adam\" to use Adam)\n",
        "optimizer = torch.optim.SGD(model.parameters(), lr=0.5)\n",
        "\n",
        "for t in range(1000):\n",
        "    y_pred = model(x) # Make predictions.\n",
        "    loss = loss_fn(y_pred, y) # Compute the loss.\n",
        "    #print(t, loss.item())\n",
        "    optimizer.zero_grad() # Zero-clear gradients.\n",
        "    loss.backward() # Compute the gradients.\n",
        "    optimizer.step()# Update the parameters using the gradients.\n"
      ],
      "metadata": {
        "id": "r22jkb7tPgO9"
      },
      "execution_count": null,
      "outputs": []
    },
    {
      "cell_type": "code",
      "source": [
        "model.state_dict()"
      ],
      "metadata": {
        "colab": {
          "base_uri": "https://localhost:8080/"
        },
        "id": "Dax2Vtq1QGlx",
        "outputId": "bd7e8268-001f-44a8-e12f-e342bc5c3da7"
      },
      "execution_count": null,
      "outputs": [
        {
          "output_type": "execute_result",
          "data": {
            "text/plain": [
              "OrderedDict([('linear1.weight', tensor([[ 5.3270,  5.3234],\n",
              "                      [-6.9823, -6.9592]])),\n",
              "             ('linear1.bias', tensor([-8.2499,  2.8390])),\n",
              "             ('linear2.weight', tensor([[-11.8538, -11.6513]])),\n",
              "             ('linear2.bias', tensor([5.7664]))])"
            ]
          },
          "metadata": {},
          "execution_count": 79
        }
      ]
    },
    {
      "cell_type": "code",
      "source": [
        "model(x).sigmoid()"
      ],
      "metadata": {
        "colab": {
          "base_uri": "https://localhost:8080/"
        },
        "id": "3udFS1_nQY0u",
        "outputId": "23016518-4cbb-400d-bd3a-88f6be311fc1"
      },
      "execution_count": null,
      "outputs": [
        {
          "output_type": "execute_result",
          "data": {
            "text/plain": [
              "tensor([[0.0053],\n",
              "        [0.9932],\n",
              "        [0.9932],\n",
              "        [0.0060]], grad_fn=<SigmoidBackward0>)"
            ]
          },
          "metadata": {},
          "execution_count": 80
        }
      ]
    },
    {
      "cell_type": "markdown",
      "source": [
        "**from the link - \"https://pyimagesearch.com/2021/05/06/implementing-feedforward-neural-networks-with-keras-and-tensorflow/#download-the-code\"**"
      ],
      "metadata": {
        "id": "rZV2PnRl0xs-"
      }
    },
    {
      "cell_type": "markdown",
      "source": [
        "**MINST**"
      ],
      "metadata": {
        "id": "w1K5Rdemt9U5"
      }
    },
    {
      "cell_type": "code",
      "execution_count": null,
      "metadata": {
        "id": "MmQwKwH0R90X"
      },
      "outputs": [],
      "source": [
        "# import the necessary packages\n",
        "from sklearn.preprocessing import LabelBinarizer\n",
        "from sklearn.metrics import classification_report\n",
        "from tensorflow.keras.models import Sequential\n",
        "from tensorflow.keras.layers import Dense\n",
        "from tensorflow.keras.optimizers import SGD\n",
        "from tensorflow.keras.datasets import mnist\n",
        "from tensorflow.keras import backend as K\n",
        "import matplotlib.pyplot as plt\n",
        "import numpy as np\n",
        "import argparse"
      ]
    },
    {
      "cell_type": "code",
      "source": [
        "# construct the argument parse and parse the arguments\n",
        "ap = argparse.ArgumentParser()\n",
        "ap.add_argument(\"-o\", \"--output\", required=True,\n",
        "\thelp=\"path to the output loss/accuracy plot\")\n",
        "args = vars(ap.parse_args())"
      ],
      "metadata": {
        "colab": {
          "base_uri": "https://localhost:8080/",
          "height": 182
        },
        "id": "lYMDIQvQ1acA",
        "outputId": "426927b4-e9d9-4eed-e1e2-e19f34881fe4"
      },
      "execution_count": null,
      "outputs": [
        {
          "output_type": "stream",
          "name": "stderr",
          "text": [
            "usage: ipykernel_launcher.py [-h] -o OUTPUT\n",
            "ipykernel_launcher.py: error: the following arguments are required: -o/--output\n"
          ]
        },
        {
          "output_type": "error",
          "ename": "SystemExit",
          "evalue": "ignored",
          "traceback": [
            "An exception has occurred, use %tb to see the full traceback.\n",
            "\u001b[0;31mSystemExit\u001b[0m\u001b[0;31m:\u001b[0m 2\n"
          ]
        },
        {
          "output_type": "stream",
          "name": "stderr",
          "text": [
            "/usr/local/lib/python3.7/dist-packages/IPython/core/interactiveshell.py:3334: UserWarning: To exit: use 'exit', 'quit', or Ctrl-D.\n",
            "  warn(\"To exit: use 'exit', 'quit', or Ctrl-D.\", stacklevel=1)\n"
          ]
        }
      ]
    },
    {
      "cell_type": "code",
      "source": [
        "# grab the MNIST dataset (if this is your first time using this\n",
        "# dataset then the 11MB download may take a minute)\n",
        "print(\"[INFO] accessing MNIST...\")\n",
        "((trainX, trainY), (testX, testY)) = mnist.load_data()\n",
        "# each image in the MNIST dataset is represented as a 28x28x1\n",
        "# image, but in order to apply a standard neural network we must\n",
        "# first \"flatten\" the image to be simple list of 28x28=784 pixels\n",
        "trainX = trainX.reshape((trainX.shape[0], 28 * 28 * 1))\n",
        "testX = testX.reshape((testX.shape[0], 28 * 28 * 1))\n",
        "# scale data to the range of [0, 1]\n",
        "trainX = trainX.astype(\"float32\") / 255.0\n",
        "testX = testX.astype(\"float32\") / 255.0"
      ],
      "metadata": {
        "id": "ifAdWicKSIyi",
        "colab": {
          "base_uri": "https://localhost:8080/"
        },
        "outputId": "26e6ecbf-883c-4955-c62b-079111140dcc"
      },
      "execution_count": null,
      "outputs": [
        {
          "output_type": "stream",
          "name": "stdout",
          "text": [
            "[INFO] accessing MNIST...\n"
          ]
        }
      ]
    },
    {
      "cell_type": "code",
      "source": [
        "# convert the labels from integers to vectors\n",
        "lb = LabelBinarizer()\n",
        "trainY = lb.fit_transform(trainY)\n",
        "testY = lb.transform(testY)"
      ],
      "metadata": {
        "id": "O2Epjn6BNi4_"
      },
      "execution_count": null,
      "outputs": []
    },
    {
      "cell_type": "code",
      "source": [
        "# define the 784-256-128-10 architecture using Keras\n",
        "model = Sequential()\n",
        "model.add(Dense(256, input_shape=(784,), activation=\"sigmoid\"))\n",
        "model.add(Dense(128, activation=\"sigmoid\"))\n",
        "model.add(Dense(10, activation=\"softmax\"))"
      ],
      "metadata": {
        "id": "uXgWTjLgNwuI"
      },
      "execution_count": null,
      "outputs": []
    },
    {
      "cell_type": "code",
      "source": [
        "# train the model using SGD\n",
        "print(\"[INFO] training network...\")\n",
        "sgd = SGD(0.01)\n",
        "model.compile(loss=\"categorical_crossentropy\", optimizer=sgd,\n",
        "\tmetrics=[\"accuracy\"])\n",
        "H = model.fit(trainX, trainY, validation_data=(testX, testY),\n",
        "\tepochs=100, batch_size=128)"
      ],
      "metadata": {
        "colab": {
          "base_uri": "https://localhost:8080/"
        },
        "id": "RBsy3kCEN15r",
        "outputId": "0226c341-4bab-4091-8987-dd152bcf2279"
      },
      "execution_count": null,
      "outputs": [
        {
          "output_type": "stream",
          "name": "stdout",
          "text": [
            "[INFO] training network...\n",
            "Epoch 1/100\n",
            "469/469 [==============================] - 3s 7ms/step - loss: 2.2718 - accuracy: 0.2020 - val_loss: 2.2382 - val_accuracy: 0.3197\n",
            "Epoch 2/100\n",
            "469/469 [==============================] - 3s 6ms/step - loss: 2.2035 - accuracy: 0.4103 - val_loss: 2.1616 - val_accuracy: 0.5251\n",
            "Epoch 3/100\n",
            "469/469 [==============================] - 3s 6ms/step - loss: 2.1163 - accuracy: 0.5360 - val_loss: 2.0553 - val_accuracy: 0.6066\n",
            "Epoch 4/100\n",
            "469/469 [==============================] - 3s 6ms/step - loss: 1.9900 - accuracy: 0.5999 - val_loss: 1.9019 - val_accuracy: 0.6387\n",
            "Epoch 5/100\n",
            "469/469 [==============================] - 3s 6ms/step - loss: 1.8129 - accuracy: 0.6387 - val_loss: 1.6966 - val_accuracy: 0.6485\n",
            "Epoch 6/100\n",
            "469/469 [==============================] - 3s 6ms/step - loss: 1.5971 - accuracy: 0.6719 - val_loss: 1.4698 - val_accuracy: 0.6958\n",
            "Epoch 7/100\n",
            "469/469 [==============================] - 3s 7ms/step - loss: 1.3805 - accuracy: 0.7076 - val_loss: 1.2630 - val_accuracy: 0.7411\n",
            "Epoch 8/100\n",
            "469/469 [==============================] - 3s 7ms/step - loss: 1.1955 - accuracy: 0.7398 - val_loss: 1.0983 - val_accuracy: 0.7756\n",
            "Epoch 9/100\n",
            "469/469 [==============================] - 3s 7ms/step - loss: 1.0505 - accuracy: 0.7659 - val_loss: 0.9714 - val_accuracy: 0.7816\n",
            "Epoch 10/100\n",
            "469/469 [==============================] - 3s 7ms/step - loss: 0.9396 - accuracy: 0.7849 - val_loss: 0.8742 - val_accuracy: 0.8012\n",
            "Epoch 11/100\n",
            "469/469 [==============================] - 4s 7ms/step - loss: 0.8538 - accuracy: 0.7994 - val_loss: 0.7988 - val_accuracy: 0.8083\n",
            "Epoch 12/100\n",
            "469/469 [==============================] - 3s 7ms/step - loss: 0.7861 - accuracy: 0.8105 - val_loss: 0.7379 - val_accuracy: 0.8207\n",
            "Epoch 13/100\n",
            "469/469 [==============================] - 3s 7ms/step - loss: 0.7314 - accuracy: 0.8206 - val_loss: 0.6888 - val_accuracy: 0.8294\n",
            "Epoch 14/100\n",
            "469/469 [==============================] - 3s 7ms/step - loss: 0.6865 - accuracy: 0.8287 - val_loss: 0.6481 - val_accuracy: 0.8378\n",
            "Epoch 15/100\n",
            "469/469 [==============================] - 3s 7ms/step - loss: 0.6487 - accuracy: 0.8363 - val_loss: 0.6138 - val_accuracy: 0.8417\n",
            "Epoch 16/100\n",
            "469/469 [==============================] - 3s 7ms/step - loss: 0.6166 - accuracy: 0.8422 - val_loss: 0.5844 - val_accuracy: 0.8486\n",
            "Epoch 17/100\n",
            "469/469 [==============================] - 3s 7ms/step - loss: 0.5889 - accuracy: 0.8476 - val_loss: 0.5584 - val_accuracy: 0.8559\n",
            "Epoch 18/100\n",
            "469/469 [==============================] - 3s 7ms/step - loss: 0.5645 - accuracy: 0.8529 - val_loss: 0.5358 - val_accuracy: 0.8608\n",
            "Epoch 19/100\n",
            "469/469 [==============================] - 3s 7ms/step - loss: 0.5431 - accuracy: 0.8576 - val_loss: 0.5160 - val_accuracy: 0.8635\n",
            "Epoch 20/100\n",
            "469/469 [==============================] - 3s 6ms/step - loss: 0.5240 - accuracy: 0.8623 - val_loss: 0.4986 - val_accuracy: 0.8693\n",
            "Epoch 21/100\n",
            "469/469 [==============================] - 3s 6ms/step - loss: 0.5069 - accuracy: 0.8662 - val_loss: 0.4822 - val_accuracy: 0.8725\n",
            "Epoch 22/100\n",
            "469/469 [==============================] - 3s 6ms/step - loss: 0.4915 - accuracy: 0.8699 - val_loss: 0.4679 - val_accuracy: 0.8762\n",
            "Epoch 23/100\n",
            "469/469 [==============================] - 3s 7ms/step - loss: 0.4777 - accuracy: 0.8728 - val_loss: 0.4560 - val_accuracy: 0.8769\n",
            "Epoch 24/100\n",
            "469/469 [==============================] - 3s 7ms/step - loss: 0.4651 - accuracy: 0.8755 - val_loss: 0.4439 - val_accuracy: 0.8795\n",
            "Epoch 25/100\n",
            "469/469 [==============================] - 3s 7ms/step - loss: 0.4538 - accuracy: 0.8782 - val_loss: 0.4329 - val_accuracy: 0.8833\n",
            "Epoch 26/100\n",
            "469/469 [==============================] - 3s 7ms/step - loss: 0.4434 - accuracy: 0.8806 - val_loss: 0.4232 - val_accuracy: 0.8845\n",
            "Epoch 27/100\n",
            "469/469 [==============================] - 3s 7ms/step - loss: 0.4340 - accuracy: 0.8831 - val_loss: 0.4146 - val_accuracy: 0.8874\n",
            "Epoch 28/100\n",
            "469/469 [==============================] - 3s 7ms/step - loss: 0.4254 - accuracy: 0.8851 - val_loss: 0.4066 - val_accuracy: 0.8891\n",
            "Epoch 29/100\n",
            "469/469 [==============================] - 3s 7ms/step - loss: 0.4175 - accuracy: 0.8864 - val_loss: 0.3991 - val_accuracy: 0.8908\n",
            "Epoch 30/100\n",
            "469/469 [==============================] - 3s 7ms/step - loss: 0.4103 - accuracy: 0.8881 - val_loss: 0.3927 - val_accuracy: 0.8935\n",
            "Epoch 31/100\n",
            "469/469 [==============================] - 3s 7ms/step - loss: 0.4036 - accuracy: 0.8899 - val_loss: 0.3857 - val_accuracy: 0.8934\n",
            "Epoch 32/100\n",
            "469/469 [==============================] - 3s 7ms/step - loss: 0.3974 - accuracy: 0.8912 - val_loss: 0.3807 - val_accuracy: 0.8946\n",
            "Epoch 33/100\n",
            "469/469 [==============================] - 3s 7ms/step - loss: 0.3918 - accuracy: 0.8923 - val_loss: 0.3757 - val_accuracy: 0.8956\n",
            "Epoch 34/100\n",
            "469/469 [==============================] - 3s 7ms/step - loss: 0.3865 - accuracy: 0.8935 - val_loss: 0.3708 - val_accuracy: 0.8965\n",
            "Epoch 35/100\n",
            "469/469 [==============================] - 3s 7ms/step - loss: 0.3816 - accuracy: 0.8941 - val_loss: 0.3656 - val_accuracy: 0.8967\n",
            "Epoch 36/100\n",
            "469/469 [==============================] - 4s 7ms/step - loss: 0.3770 - accuracy: 0.8954 - val_loss: 0.3617 - val_accuracy: 0.8973\n",
            "Epoch 37/100\n",
            "469/469 [==============================] - 3s 7ms/step - loss: 0.3727 - accuracy: 0.8963 - val_loss: 0.3576 - val_accuracy: 0.8981\n",
            "Epoch 38/100\n",
            "469/469 [==============================] - 3s 7ms/step - loss: 0.3686 - accuracy: 0.8968 - val_loss: 0.3535 - val_accuracy: 0.8992\n",
            "Epoch 39/100\n",
            "469/469 [==============================] - 3s 7ms/step - loss: 0.3648 - accuracy: 0.8977 - val_loss: 0.3505 - val_accuracy: 0.8994\n",
            "Epoch 40/100\n",
            "469/469 [==============================] - 3s 7ms/step - loss: 0.3613 - accuracy: 0.8986 - val_loss: 0.3465 - val_accuracy: 0.9001\n",
            "Epoch 41/100\n",
            "469/469 [==============================] - 3s 7ms/step - loss: 0.3579 - accuracy: 0.8995 - val_loss: 0.3439 - val_accuracy: 0.9016\n",
            "Epoch 42/100\n",
            "469/469 [==============================] - 3s 7ms/step - loss: 0.3546 - accuracy: 0.9001 - val_loss: 0.3404 - val_accuracy: 0.9020\n",
            "Epoch 43/100\n",
            "469/469 [==============================] - 3s 7ms/step - loss: 0.3515 - accuracy: 0.9003 - val_loss: 0.3378 - val_accuracy: 0.9028\n",
            "Epoch 44/100\n",
            "469/469 [==============================] - 3s 7ms/step - loss: 0.3486 - accuracy: 0.9016 - val_loss: 0.3353 - val_accuracy: 0.9033\n",
            "Epoch 45/100\n",
            "469/469 [==============================] - 3s 7ms/step - loss: 0.3458 - accuracy: 0.9020 - val_loss: 0.3322 - val_accuracy: 0.9035\n",
            "Epoch 46/100\n",
            "469/469 [==============================] - 3s 7ms/step - loss: 0.3430 - accuracy: 0.9026 - val_loss: 0.3301 - val_accuracy: 0.9031\n",
            "Epoch 47/100\n",
            "469/469 [==============================] - 3s 7ms/step - loss: 0.3405 - accuracy: 0.9030 - val_loss: 0.3279 - val_accuracy: 0.9059\n",
            "Epoch 48/100\n",
            "469/469 [==============================] - 3s 7ms/step - loss: 0.3382 - accuracy: 0.9039 - val_loss: 0.3257 - val_accuracy: 0.9063\n",
            "Epoch 49/100\n",
            "469/469 [==============================] - 3s 7ms/step - loss: 0.3357 - accuracy: 0.9041 - val_loss: 0.3239 - val_accuracy: 0.9073\n",
            "Epoch 50/100\n",
            "469/469 [==============================] - 3s 7ms/step - loss: 0.3334 - accuracy: 0.9049 - val_loss: 0.3213 - val_accuracy: 0.9066\n",
            "Epoch 51/100\n",
            "469/469 [==============================] - 3s 7ms/step - loss: 0.3313 - accuracy: 0.9052 - val_loss: 0.3192 - val_accuracy: 0.9073\n",
            "Epoch 52/100\n",
            "469/469 [==============================] - 3s 7ms/step - loss: 0.3292 - accuracy: 0.9056 - val_loss: 0.3168 - val_accuracy: 0.9082\n",
            "Epoch 53/100\n",
            "469/469 [==============================] - 4s 8ms/step - loss: 0.3271 - accuracy: 0.9059 - val_loss: 0.3154 - val_accuracy: 0.9089\n",
            "Epoch 54/100\n",
            "469/469 [==============================] - 3s 7ms/step - loss: 0.3251 - accuracy: 0.9068 - val_loss: 0.3138 - val_accuracy: 0.9092\n",
            "Epoch 55/100\n",
            "469/469 [==============================] - 3s 7ms/step - loss: 0.3232 - accuracy: 0.9073 - val_loss: 0.3117 - val_accuracy: 0.9093\n",
            "Epoch 56/100\n",
            "469/469 [==============================] - 3s 7ms/step - loss: 0.3213 - accuracy: 0.9078 - val_loss: 0.3102 - val_accuracy: 0.9098\n",
            "Epoch 57/100\n",
            "469/469 [==============================] - 3s 7ms/step - loss: 0.3195 - accuracy: 0.9081 - val_loss: 0.3083 - val_accuracy: 0.9110\n",
            "Epoch 58/100\n",
            "469/469 [==============================] - 3s 7ms/step - loss: 0.3178 - accuracy: 0.9087 - val_loss: 0.3062 - val_accuracy: 0.9116\n",
            "Epoch 59/100\n",
            "469/469 [==============================] - 3s 7ms/step - loss: 0.3160 - accuracy: 0.9089 - val_loss: 0.3052 - val_accuracy: 0.9108\n",
            "Epoch 60/100\n",
            "469/469 [==============================] - 3s 7ms/step - loss: 0.3143 - accuracy: 0.9095 - val_loss: 0.3037 - val_accuracy: 0.9114\n",
            "Epoch 61/100\n",
            "469/469 [==============================] - 3s 7ms/step - loss: 0.3127 - accuracy: 0.9101 - val_loss: 0.3020 - val_accuracy: 0.9126\n",
            "Epoch 62/100\n",
            "469/469 [==============================] - 4s 7ms/step - loss: 0.3112 - accuracy: 0.9101 - val_loss: 0.3004 - val_accuracy: 0.9133\n",
            "Epoch 63/100\n",
            "469/469 [==============================] - 3s 7ms/step - loss: 0.3095 - accuracy: 0.9108 - val_loss: 0.2995 - val_accuracy: 0.9128\n",
            "Epoch 64/100\n",
            "469/469 [==============================] - 3s 7ms/step - loss: 0.3081 - accuracy: 0.9112 - val_loss: 0.2977 - val_accuracy: 0.9134\n",
            "Epoch 65/100\n",
            "469/469 [==============================] - 3s 7ms/step - loss: 0.3066 - accuracy: 0.9115 - val_loss: 0.2968 - val_accuracy: 0.9135\n",
            "Epoch 66/100\n",
            "469/469 [==============================] - 3s 7ms/step - loss: 0.3052 - accuracy: 0.9115 - val_loss: 0.2949 - val_accuracy: 0.9143\n",
            "Epoch 67/100\n",
            "469/469 [==============================] - 3s 7ms/step - loss: 0.3038 - accuracy: 0.9121 - val_loss: 0.2940 - val_accuracy: 0.9151\n",
            "Epoch 68/100\n",
            "469/469 [==============================] - 3s 7ms/step - loss: 0.3023 - accuracy: 0.9125 - val_loss: 0.2926 - val_accuracy: 0.9154\n",
            "Epoch 69/100\n",
            "469/469 [==============================] - 4s 7ms/step - loss: 0.3010 - accuracy: 0.9127 - val_loss: 0.2921 - val_accuracy: 0.9155\n",
            "Epoch 70/100\n",
            "469/469 [==============================] - 3s 7ms/step - loss: 0.2997 - accuracy: 0.9129 - val_loss: 0.2903 - val_accuracy: 0.9162\n",
            "Epoch 71/100\n",
            "469/469 [==============================] - 3s 7ms/step - loss: 0.2984 - accuracy: 0.9135 - val_loss: 0.2893 - val_accuracy: 0.9152\n",
            "Epoch 72/100\n",
            "469/469 [==============================] - 3s 7ms/step - loss: 0.2971 - accuracy: 0.9140 - val_loss: 0.2882 - val_accuracy: 0.9172\n",
            "Epoch 73/100\n",
            "469/469 [==============================] - 3s 7ms/step - loss: 0.2958 - accuracy: 0.9139 - val_loss: 0.2872 - val_accuracy: 0.9170\n",
            "Epoch 74/100\n",
            "469/469 [==============================] - 3s 7ms/step - loss: 0.2946 - accuracy: 0.9146 - val_loss: 0.2861 - val_accuracy: 0.9162\n",
            "Epoch 75/100\n",
            "469/469 [==============================] - 3s 7ms/step - loss: 0.2933 - accuracy: 0.9148 - val_loss: 0.2848 - val_accuracy: 0.9167\n",
            "Epoch 76/100\n",
            "469/469 [==============================] - 4s 8ms/step - loss: 0.2922 - accuracy: 0.9153 - val_loss: 0.2839 - val_accuracy: 0.9176\n",
            "Epoch 77/100\n",
            "469/469 [==============================] - 3s 7ms/step - loss: 0.2910 - accuracy: 0.9157 - val_loss: 0.2829 - val_accuracy: 0.9175\n",
            "Epoch 78/100\n",
            "469/469 [==============================] - 3s 7ms/step - loss: 0.2899 - accuracy: 0.9157 - val_loss: 0.2816 - val_accuracy: 0.9180\n",
            "Epoch 79/100\n",
            "469/469 [==============================] - 3s 7ms/step - loss: 0.2887 - accuracy: 0.9162 - val_loss: 0.2804 - val_accuracy: 0.9186\n",
            "Epoch 80/100\n",
            "469/469 [==============================] - 3s 7ms/step - loss: 0.2876 - accuracy: 0.9165 - val_loss: 0.2798 - val_accuracy: 0.9193\n",
            "Epoch 81/100\n",
            "469/469 [==============================] - 3s 7ms/step - loss: 0.2865 - accuracy: 0.9170 - val_loss: 0.2786 - val_accuracy: 0.9191\n",
            "Epoch 82/100\n",
            "469/469 [==============================] - 3s 7ms/step - loss: 0.2854 - accuracy: 0.9174 - val_loss: 0.2781 - val_accuracy: 0.9193\n",
            "Epoch 83/100\n",
            "469/469 [==============================] - 3s 7ms/step - loss: 0.2843 - accuracy: 0.9177 - val_loss: 0.2769 - val_accuracy: 0.9198\n",
            "Epoch 84/100\n",
            "469/469 [==============================] - 3s 7ms/step - loss: 0.2833 - accuracy: 0.9179 - val_loss: 0.2759 - val_accuracy: 0.9204\n",
            "Epoch 85/100\n",
            "469/469 [==============================] - 3s 7ms/step - loss: 0.2823 - accuracy: 0.9182 - val_loss: 0.2749 - val_accuracy: 0.9204\n",
            "Epoch 86/100\n",
            "469/469 [==============================] - 3s 7ms/step - loss: 0.2812 - accuracy: 0.9186 - val_loss: 0.2741 - val_accuracy: 0.9213\n",
            "Epoch 87/100\n",
            "469/469 [==============================] - 3s 7ms/step - loss: 0.2802 - accuracy: 0.9186 - val_loss: 0.2731 - val_accuracy: 0.9215\n",
            "Epoch 88/100\n",
            "469/469 [==============================] - 3s 7ms/step - loss: 0.2792 - accuracy: 0.9189 - val_loss: 0.2721 - val_accuracy: 0.9221\n",
            "Epoch 89/100\n",
            "469/469 [==============================] - 3s 7ms/step - loss: 0.2782 - accuracy: 0.9190 - val_loss: 0.2717 - val_accuracy: 0.9219\n",
            "Epoch 90/100\n",
            "469/469 [==============================] - 3s 7ms/step - loss: 0.2772 - accuracy: 0.9195 - val_loss: 0.2707 - val_accuracy: 0.9223\n",
            "Epoch 91/100\n",
            "469/469 [==============================] - 3s 7ms/step - loss: 0.2763 - accuracy: 0.9198 - val_loss: 0.2697 - val_accuracy: 0.9224\n",
            "Epoch 92/100\n",
            "469/469 [==============================] - 3s 7ms/step - loss: 0.2753 - accuracy: 0.9198 - val_loss: 0.2686 - val_accuracy: 0.9219\n",
            "Epoch 93/100\n",
            "469/469 [==============================] - 3s 7ms/step - loss: 0.2743 - accuracy: 0.9202 - val_loss: 0.2681 - val_accuracy: 0.9227\n",
            "Epoch 94/100\n",
            "469/469 [==============================] - 3s 7ms/step - loss: 0.2733 - accuracy: 0.9204 - val_loss: 0.2673 - val_accuracy: 0.9232\n",
            "Epoch 95/100\n",
            "469/469 [==============================] - 3s 7ms/step - loss: 0.2724 - accuracy: 0.9206 - val_loss: 0.2662 - val_accuracy: 0.9233\n",
            "Epoch 96/100\n",
            "469/469 [==============================] - 3s 7ms/step - loss: 0.2715 - accuracy: 0.9209 - val_loss: 0.2654 - val_accuracy: 0.9229\n",
            "Epoch 97/100\n",
            "469/469 [==============================] - 3s 7ms/step - loss: 0.2706 - accuracy: 0.9211 - val_loss: 0.2648 - val_accuracy: 0.9230\n",
            "Epoch 98/100\n",
            "469/469 [==============================] - 3s 7ms/step - loss: 0.2697 - accuracy: 0.9212 - val_loss: 0.2634 - val_accuracy: 0.9236\n",
            "Epoch 99/100\n",
            "469/469 [==============================] - 3s 7ms/step - loss: 0.2687 - accuracy: 0.9219 - val_loss: 0.2629 - val_accuracy: 0.9240\n",
            "Epoch 100/100\n",
            "469/469 [==============================] - 3s 7ms/step - loss: 0.2679 - accuracy: 0.9219 - val_loss: 0.2627 - val_accuracy: 0.9231\n"
          ]
        }
      ]
    },
    {
      "cell_type": "code",
      "source": [
        "# evaluate the network\n",
        "print(\"[INFO] evaluating network...\")\n",
        "predictions = model.predict(testX, batch_size=128)\n",
        "print(classification_report(testY.argmax(axis=1),\n",
        "\tpredictions.argmax(axis=1),\n",
        "\ttarget_names=[str(x) for x in lb.classes_]))"
      ],
      "metadata": {
        "colab": {
          "base_uri": "https://localhost:8080/"
        },
        "id": "MAuXrQCNN5aB",
        "outputId": "36f2ca3c-dbb8-4ed5-93fd-175c7547dbff"
      },
      "execution_count": null,
      "outputs": [
        {
          "output_type": "stream",
          "name": "stdout",
          "text": [
            "[INFO] evaluating network...\n",
            "              precision    recall  f1-score   support\n",
            "\n",
            "           0       0.94      0.98      0.96       980\n",
            "           1       0.97      0.97      0.97      1135\n",
            "           2       0.92      0.90      0.91      1032\n",
            "           3       0.90      0.92      0.91      1010\n",
            "           4       0.91      0.94      0.93       982\n",
            "           5       0.91      0.86      0.88       892\n",
            "           6       0.94      0.94      0.94       958\n",
            "           7       0.92      0.92      0.92      1028\n",
            "           8       0.90      0.88      0.89       974\n",
            "           9       0.91      0.90      0.91      1009\n",
            "\n",
            "    accuracy                           0.92     10000\n",
            "   macro avg       0.92      0.92      0.92     10000\n",
            "weighted avg       0.92      0.92      0.92     10000\n",
            "\n"
          ]
        }
      ]
    },
    {
      "cell_type": "code",
      "source": [
        "# plot the training loss and accuracy\n",
        "plt.style.use(\"ggplot\")\n",
        "plt.figure()\n",
        "plt.plot(np.arange(0, 100), H.history[\"loss\"], label=\"train_loss\")\n",
        "plt.plot(np.arange(0, 100), H.history[\"val_loss\"], label=\"val_loss\")\n",
        "plt.plot(np.arange(0, 100), H.history[\"accuracy\"], label=\"train_acc\")\n",
        "plt.plot(np.arange(0, 100), H.history[\"val_accuracy\"], label=\"val_acc\")\n",
        "plt.title(\"Training Loss and Accuracy\")\n",
        "plt.xlabel(\"Epoch #\")\n",
        "plt.ylabel(\"Loss/Accuracy\")\n",
        "plt.legend()"
      ],
      "metadata": {
        "colab": {
          "base_uri": "https://localhost:8080/",
          "height": 316
        },
        "id": "c7GPupKrN8_9",
        "outputId": "efd5e3e4-a18d-4048-e692-62cfd106be46"
      },
      "execution_count": null,
      "outputs": [
        {
          "output_type": "execute_result",
          "data": {
            "text/plain": [
              "<matplotlib.legend.Legend at 0x7efca9dc5490>"
            ]
          },
          "metadata": {},
          "execution_count": 39
        },
        {
          "output_type": "display_data",
          "data": {
            "text/plain": [
              "<Figure size 432x288 with 1 Axes>"
            ],
            "image/png": "[encoded data removed]"
          },
          "metadata": {}
        }
      ]
    },
    {
      "cell_type": "markdown",
      "source": [
        "**CIFAR - 10**"
      ],
      "metadata": {
        "id": "dYezTClrsaqm"
      }
    },
    {
      "cell_type": "code",
      "source": [
        "# import the necessary packages\n",
        "from sklearn.preprocessing import LabelBinarizer\n",
        "from sklearn.metrics import classification_report\n",
        "from tensorflow.keras.models import Sequential\n",
        "from tensorflow.keras.layers import Dense\n",
        "from tensorflow.keras.optimizers import SGD\n",
        "from tensorflow.keras.datasets import cifar10\n",
        "import matplotlib.pyplot as plt\n",
        "import numpy as np\n",
        "import argparse"
      ],
      "metadata": {
        "id": "ojxvCt8lOrCq"
      },
      "execution_count": null,
      "outputs": []
    },
    {
      "cell_type": "code",
      "source": [
        "# construct the argument parse and parse the arguments\n",
        "ap = argparse.ArgumentParser()\n",
        "ap.add_argument(\"-o\", \"--output\", required=True,\n",
        "\thelp=\"path to the output loss/accuracy plot\")\n",
        "args = vars(ap.parse_args())"
      ],
      "metadata": {
        "colab": {
          "base_uri": "https://localhost:8080/",
          "height": 148
        },
        "id": "P6JNQaMR1p_T",
        "outputId": "26a1e0e2-b9ce-4669-af35-129f0a8cd580"
      },
      "execution_count": null,
      "outputs": [
        {
          "output_type": "stream",
          "name": "stderr",
          "text": [
            "usage: ipykernel_launcher.py [-h] -o OUTPUT\n",
            "ipykernel_launcher.py: error: the following arguments are required: -o/--output\n"
          ]
        },
        {
          "output_type": "error",
          "ename": "SystemExit",
          "evalue": "ignored",
          "traceback": [
            "An exception has occurred, use %tb to see the full traceback.\n",
            "\u001b[0;31mSystemExit\u001b[0m\u001b[0;31m:\u001b[0m 2\n"
          ]
        }
      ]
    },
    {
      "cell_type": "code",
      "source": [
        "# load the training and testing data, scale it into the range [0, 1],\n",
        "# then reshape the design matrix\n",
        "print(\"[INFO] loading CIFAR-10 data...\")\n",
        "((trainX, trainY), (testX, testY)) = cifar10.load_data()\n",
        "trainX = trainX.astype(\"float\") / 255.0\n",
        "testX = testX.astype(\"float\") / 255.0\n",
        "trainX = trainX.reshape((trainX.shape[0], 3072))\n",
        "testX = testX.reshape((testX.shape[0], 3072))"
      ],
      "metadata": {
        "colab": {
          "base_uri": "https://localhost:8080/"
        },
        "id": "0nOQ3WtKOvhQ",
        "outputId": "528e9b74-d6e6-4e05-d8ee-a5d09e453048"
      },
      "execution_count": null,
      "outputs": [
        {
          "output_type": "stream",
          "name": "stdout",
          "text": [
            "[INFO] loading CIFAR-10 data...\n",
            "Downloading data from https://www.cs.toronto.edu/~kriz/cifar-10-python.tar.gz\n",
            "170500096/170498071 [==============================] - 2s 0us/step\n",
            "170508288/170498071 [==============================] - 2s 0us/step\n"
          ]
        }
      ]
    },
    {
      "cell_type": "code",
      "source": [
        "# convert the labels from integers to vectors\n",
        "lb = LabelBinarizer()\n",
        "trainY = lb.fit_transform(trainY)\n",
        "testY = lb.transform(testY)\n",
        "# initialize the label names for the CIFAR-10 dataset\n",
        "labelNames = [\"airplane\", \"automobile\", \"bird\", \"cat\", \"deer\",\n",
        "\t\"dog\", \"frog\", \"horse\", \"ship\", \"truck\"]"
      ],
      "metadata": {
        "id": "OLYr45dEOymZ"
      },
      "execution_count": null,
      "outputs": []
    },
    {
      "cell_type": "code",
      "source": [
        "# define the 3072-1024-512-10 architecture using Keras\n",
        "model = Sequential()\n",
        "model.add(Dense(1024, input_shape=(3072,), activation=\"relu\"))\n",
        "model.add(Dense(512, activation=\"relu\"))\n",
        "model.add(Dense(10, activation=\"softmax\"))"
      ],
      "metadata": {
        "id": "2lFrQbfXO2Sj"
      },
      "execution_count": null,
      "outputs": []
    },
    {
      "cell_type": "code",
      "source": [
        "# train the model using SGD\n",
        "print(\"[INFO] training network...\")\n",
        "sgd = SGD(0.01)\n",
        "model.compile(loss=\"categorical_crossentropy\", optimizer=sgd,\n",
        "\tmetrics=[\"accuracy\"])\n",
        "H = model.fit(trainX, trainY, validation_data=(testX, testY),\n",
        "\tepochs=100, batch_size=32)"
      ],
      "metadata": {
        "colab": {
          "base_uri": "https://localhost:8080/"
        },
        "id": "EEILGf4vO5tx",
        "outputId": "bd17aa19-833e-4eaa-cd85-d50c787e37e9"
      },
      "execution_count": null,
      "outputs": [
        {
          "output_type": "stream",
          "name": "stdout",
          "text": [
            "[INFO] training network...\n",
            "Epoch 1/100\n",
            "1563/1563 [==============================] - 37s 24ms/step - loss: 1.8393 - accuracy: 0.3447 - val_loss: 1.7403 - val_accuracy: 0.3665\n",
            "Epoch 2/100\n",
            "1563/1563 [==============================] - 38s 24ms/step - loss: 1.6482 - accuracy: 0.4182 - val_loss: 1.6052 - val_accuracy: 0.4369\n",
            "Epoch 3/100\n",
            "1563/1563 [==============================] - 38s 24ms/step - loss: 1.5713 - accuracy: 0.4447 - val_loss: 1.6516 - val_accuracy: 0.3921\n",
            "Epoch 4/100\n",
            "1563/1563 [==============================] - 41s 26ms/step - loss: 1.5113 - accuracy: 0.4663 - val_loss: 1.5198 - val_accuracy: 0.4605\n",
            "Epoch 5/100\n",
            "1563/1563 [==============================] - 39s 25ms/step - loss: 1.4652 - accuracy: 0.4847 - val_loss: 1.4806 - val_accuracy: 0.4719\n",
            "Epoch 6/100\n",
            "1563/1563 [==============================] - 38s 24ms/step - loss: 1.4210 - accuracy: 0.4982 - val_loss: 1.6222 - val_accuracy: 0.4468\n",
            "Epoch 7/100\n",
            "1563/1563 [==============================] - 38s 24ms/step - loss: 1.3896 - accuracy: 0.5102 - val_loss: 1.4612 - val_accuracy: 0.4733\n",
            "Epoch 8/100\n",
            "1563/1563 [==============================] - 38s 24ms/step - loss: 1.3564 - accuracy: 0.5229 - val_loss: 1.5349 - val_accuracy: 0.4499\n",
            "Epoch 9/100\n",
            "1563/1563 [==============================] - 38s 24ms/step - loss: 1.3240 - accuracy: 0.5329 - val_loss: 1.4527 - val_accuracy: 0.4868\n",
            "Epoch 10/100\n",
            "1563/1563 [==============================] - 39s 25ms/step - loss: 1.2978 - accuracy: 0.5415 - val_loss: 1.4180 - val_accuracy: 0.4969\n",
            "Epoch 11/100\n",
            "1563/1563 [==============================] - 39s 25ms/step - loss: 1.2704 - accuracy: 0.5535 - val_loss: 1.4188 - val_accuracy: 0.5011\n",
            "Epoch 12/100\n",
            "1563/1563 [==============================] - 39s 25ms/step - loss: 1.2443 - accuracy: 0.5600 - val_loss: 1.3927 - val_accuracy: 0.5046\n",
            "Epoch 13/100\n",
            "1563/1563 [==============================] - 39s 25ms/step - loss: 1.2202 - accuracy: 0.5711 - val_loss: 1.3562 - val_accuracy: 0.5176\n",
            "Epoch 14/100\n",
            "1563/1563 [==============================] - 42s 27ms/step - loss: 1.1948 - accuracy: 0.5797 - val_loss: 1.4861 - val_accuracy: 0.4608\n",
            "Epoch 15/100\n",
            "1563/1563 [==============================] - 45s 29ms/step - loss: 1.1719 - accuracy: 0.5892 - val_loss: 1.4494 - val_accuracy: 0.4967\n",
            "Epoch 16/100\n",
            "1563/1563 [==============================] - 39s 25ms/step - loss: 1.1532 - accuracy: 0.5961 - val_loss: 1.3251 - val_accuracy: 0.5332\n",
            "Epoch 17/100\n",
            "1563/1563 [==============================] - 43s 28ms/step - loss: 1.1289 - accuracy: 0.6057 - val_loss: 1.4113 - val_accuracy: 0.4982\n",
            "Epoch 18/100\n",
            "1563/1563 [==============================] - 43s 27ms/step - loss: 1.1040 - accuracy: 0.6114 - val_loss: 1.5007 - val_accuracy: 0.4697\n",
            "Epoch 19/100\n",
            "1563/1563 [==============================] - 43s 28ms/step - loss: 1.0849 - accuracy: 0.6204 - val_loss: 1.3585 - val_accuracy: 0.5187\n",
            "Epoch 20/100\n",
            "1563/1563 [==============================] - 43s 27ms/step - loss: 1.0618 - accuracy: 0.6288 - val_loss: 1.3510 - val_accuracy: 0.5192\n",
            "Epoch 21/100\n",
            "1563/1563 [==============================] - 42s 27ms/step - loss: 1.0417 - accuracy: 0.6344 - val_loss: 1.4332 - val_accuracy: 0.5056\n",
            "Epoch 22/100\n",
            "1563/1563 [==============================] - 42s 27ms/step - loss: 1.0197 - accuracy: 0.6424 - val_loss: 1.3660 - val_accuracy: 0.5236\n",
            "Epoch 23/100\n",
            "1563/1563 [==============================] - 43s 27ms/step - loss: 0.9965 - accuracy: 0.6525 - val_loss: 1.3295 - val_accuracy: 0.5326\n",
            "Epoch 24/100\n",
            "1563/1563 [==============================] - 42s 27ms/step - loss: 0.9817 - accuracy: 0.6563 - val_loss: 1.2892 - val_accuracy: 0.5514\n",
            "Epoch 25/100\n",
            "1563/1563 [==============================] - 41s 26ms/step - loss: 0.9572 - accuracy: 0.6673 - val_loss: 1.3898 - val_accuracy: 0.5232\n",
            "Epoch 26/100\n",
            "1563/1563 [==============================] - 40s 25ms/step - loss: 0.9361 - accuracy: 0.6727 - val_loss: 1.4188 - val_accuracy: 0.5152\n",
            "Epoch 27/100\n",
            "1563/1563 [==============================] - 40s 26ms/step - loss: 0.9158 - accuracy: 0.6814 - val_loss: 1.5114 - val_accuracy: 0.4996\n",
            "Epoch 28/100\n",
            "1563/1563 [==============================] - 41s 26ms/step - loss: 0.8938 - accuracy: 0.6898 - val_loss: 1.3254 - val_accuracy: 0.5412\n",
            "Epoch 29/100\n",
            "1563/1563 [==============================] - 41s 26ms/step - loss: 0.8747 - accuracy: 0.6955 - val_loss: 1.4530 - val_accuracy: 0.5083\n",
            "Epoch 30/100\n",
            "1563/1563 [==============================] - 39s 25ms/step - loss: 0.8533 - accuracy: 0.7042 - val_loss: 1.4214 - val_accuracy: 0.5191\n",
            "Epoch 31/100\n",
            "1563/1563 [==============================] - 39s 25ms/step - loss: 0.8335 - accuracy: 0.7100 - val_loss: 1.4054 - val_accuracy: 0.5273\n",
            "Epoch 32/100\n",
            "1563/1563 [==============================] - 39s 25ms/step - loss: 0.8148 - accuracy: 0.7172 - val_loss: 1.3300 - val_accuracy: 0.5467\n",
            "Epoch 33/100\n",
            "1563/1563 [==============================] - 38s 24ms/step - loss: 0.7922 - accuracy: 0.7248 - val_loss: 1.3487 - val_accuracy: 0.5459\n",
            "Epoch 34/100\n",
            "1563/1563 [==============================] - 38s 24ms/step - loss: 0.7701 - accuracy: 0.7340 - val_loss: 1.3755 - val_accuracy: 0.5462\n",
            "Epoch 35/100\n",
            "1563/1563 [==============================] - 38s 25ms/step - loss: 0.7521 - accuracy: 0.7408 - val_loss: 1.3800 - val_accuracy: 0.5440\n",
            "Epoch 36/100\n",
            "1563/1563 [==============================] - 39s 25ms/step - loss: 0.7285 - accuracy: 0.7488 - val_loss: 1.3737 - val_accuracy: 0.5407\n",
            "Epoch 37/100\n",
            "1563/1563 [==============================] - 39s 25ms/step - loss: 0.7096 - accuracy: 0.7551 - val_loss: 1.4977 - val_accuracy: 0.5236\n",
            "Epoch 38/100\n",
            "1563/1563 [==============================] - 40s 26ms/step - loss: 0.6903 - accuracy: 0.7645 - val_loss: 1.5240 - val_accuracy: 0.5121\n",
            "Epoch 39/100\n",
            "1563/1563 [==============================] - 40s 26ms/step - loss: 0.6698 - accuracy: 0.7699 - val_loss: 1.5243 - val_accuracy: 0.5252\n",
            "Epoch 40/100\n",
            "1563/1563 [==============================] - 42s 27ms/step - loss: 0.6509 - accuracy: 0.7781 - val_loss: 1.4120 - val_accuracy: 0.5557\n",
            "Epoch 41/100\n",
            "1563/1563 [==============================] - 43s 27ms/step - loss: 0.6311 - accuracy: 0.7836 - val_loss: 1.4974 - val_accuracy: 0.5301\n",
            "Epoch 42/100\n",
            "1563/1563 [==============================] - 43s 27ms/step - loss: 0.6078 - accuracy: 0.7937 - val_loss: 1.6161 - val_accuracy: 0.5165\n",
            "Epoch 43/100\n",
            "1563/1563 [==============================] - 42s 27ms/step - loss: 0.5924 - accuracy: 0.7996 - val_loss: 1.6003 - val_accuracy: 0.5079\n",
            "Epoch 44/100\n",
            "1563/1563 [==============================] - 41s 26ms/step - loss: 0.5695 - accuracy: 0.8063 - val_loss: 1.4747 - val_accuracy: 0.5406\n",
            "Epoch 45/100\n",
            "1563/1563 [==============================] - 40s 26ms/step - loss: 0.5543 - accuracy: 0.8129 - val_loss: 1.4439 - val_accuracy: 0.5532\n",
            "Epoch 46/100\n",
            "1563/1563 [==============================] - 40s 26ms/step - loss: 0.5342 - accuracy: 0.8216 - val_loss: 1.9070 - val_accuracy: 0.4765\n",
            "Epoch 47/100\n",
            "1563/1563 [==============================] - 40s 26ms/step - loss: 0.5144 - accuracy: 0.8283 - val_loss: 1.5155 - val_accuracy: 0.5426\n",
            "Epoch 48/100\n",
            "1563/1563 [==============================] - 40s 25ms/step - loss: 0.4981 - accuracy: 0.8336 - val_loss: 1.5396 - val_accuracy: 0.5323\n",
            "Epoch 49/100\n",
            "1563/1563 [==============================] - 39s 25ms/step - loss: 0.4800 - accuracy: 0.8383 - val_loss: 1.6572 - val_accuracy: 0.5233\n",
            "Epoch 50/100\n",
            "1563/1563 [==============================] - 39s 25ms/step - loss: 0.4618 - accuracy: 0.8466 - val_loss: 1.6792 - val_accuracy: 0.5297\n",
            "Epoch 51/100\n",
            "1563/1563 [==============================] - 40s 26ms/step - loss: 0.4449 - accuracy: 0.8522 - val_loss: 1.7315 - val_accuracy: 0.5191\n",
            "Epoch 52/100\n",
            "1563/1563 [==============================] - 41s 26ms/step - loss: 0.4285 - accuracy: 0.8574 - val_loss: 1.7227 - val_accuracy: 0.5300\n",
            "Epoch 53/100\n",
            "1563/1563 [==============================] - 39s 25ms/step - loss: 0.4159 - accuracy: 0.8619 - val_loss: 1.5944 - val_accuracy: 0.5429\n",
            "Epoch 54/100\n",
            "1563/1563 [==============================] - 40s 26ms/step - loss: 0.3944 - accuracy: 0.8709 - val_loss: 1.8752 - val_accuracy: 0.5081\n",
            "Epoch 55/100\n",
            "1563/1563 [==============================] - 39s 25ms/step - loss: 0.3788 - accuracy: 0.8772 - val_loss: 1.6156 - val_accuracy: 0.5525\n",
            "Epoch 56/100\n",
            "1563/1563 [==============================] - 40s 26ms/step - loss: 0.3645 - accuracy: 0.8838 - val_loss: 1.6608 - val_accuracy: 0.5347\n",
            "Epoch 57/100\n",
            "1563/1563 [==============================] - 40s 25ms/step - loss: 0.3518 - accuracy: 0.8868 - val_loss: 1.8167 - val_accuracy: 0.5203\n",
            "Epoch 58/100\n",
            "1563/1563 [==============================] - 40s 25ms/step - loss: 0.3371 - accuracy: 0.8912 - val_loss: 1.7009 - val_accuracy: 0.5455\n",
            "Epoch 59/100\n",
            "1563/1563 [==============================] - 40s 25ms/step - loss: 0.3209 - accuracy: 0.8978 - val_loss: 1.7710 - val_accuracy: 0.5381\n",
            "Epoch 60/100\n",
            "1563/1563 [==============================] - 40s 25ms/step - loss: 0.3048 - accuracy: 0.9032 - val_loss: 1.9737 - val_accuracy: 0.5018\n",
            "Epoch 61/100\n",
            "1563/1563 [==============================] - 39s 25ms/step - loss: 0.2931 - accuracy: 0.9073 - val_loss: 1.7453 - val_accuracy: 0.5498\n",
            "Epoch 62/100\n",
            "1563/1563 [==============================] - 40s 26ms/step - loss: 0.2772 - accuracy: 0.9151 - val_loss: 1.7701 - val_accuracy: 0.5492\n",
            "Epoch 63/100\n",
            "1563/1563 [==============================] - 41s 26ms/step - loss: 0.2622 - accuracy: 0.9196 - val_loss: 1.7830 - val_accuracy: 0.5447\n",
            "Epoch 64/100\n",
            "1563/1563 [==============================] - 41s 26ms/step - loss: 0.2554 - accuracy: 0.9216 - val_loss: 1.7627 - val_accuracy: 0.5495\n",
            "Epoch 65/100\n",
            "1563/1563 [==============================] - 41s 26ms/step - loss: 0.2366 - accuracy: 0.9306 - val_loss: 1.7485 - val_accuracy: 0.5508\n",
            "Epoch 66/100\n",
            "1563/1563 [==============================] - 41s 26ms/step - loss: 0.2297 - accuracy: 0.9322 - val_loss: 1.8392 - val_accuracy: 0.5468\n",
            "Epoch 67/100\n",
            "1563/1563 [==============================] - 41s 26ms/step - loss: 0.2148 - accuracy: 0.9366 - val_loss: 1.8724 - val_accuracy: 0.5460\n",
            "Epoch 68/100\n",
            "1563/1563 [==============================] - 41s 26ms/step - loss: 0.2074 - accuracy: 0.9387 - val_loss: 1.8918 - val_accuracy: 0.5487\n",
            "Epoch 69/100\n",
            "1563/1563 [==============================] - 41s 26ms/step - loss: 0.2018 - accuracy: 0.9408 - val_loss: 1.8255 - val_accuracy: 0.5611\n",
            "Epoch 70/100\n",
            "1563/1563 [==============================] - 42s 27ms/step - loss: 0.1876 - accuracy: 0.9464 - val_loss: 1.8339 - val_accuracy: 0.5520\n",
            "Epoch 71/100\n",
            "1563/1563 [==============================] - 42s 27ms/step - loss: 0.1754 - accuracy: 0.9507 - val_loss: 1.8921 - val_accuracy: 0.5509\n",
            "Epoch 72/100\n",
            "1563/1563 [==============================] - 41s 26ms/step - loss: 0.1674 - accuracy: 0.9530 - val_loss: 2.0667 - val_accuracy: 0.5438\n",
            "Epoch 73/100\n",
            "1563/1563 [==============================] - 39s 25ms/step - loss: 0.1581 - accuracy: 0.9563 - val_loss: 1.9493 - val_accuracy: 0.5485\n",
            "Epoch 74/100\n",
            "1563/1563 [==============================] - 41s 26ms/step - loss: 0.1499 - accuracy: 0.9597 - val_loss: 2.1817 - val_accuracy: 0.5290\n",
            "Epoch 75/100\n",
            "1563/1563 [==============================] - 41s 26ms/step - loss: 0.1379 - accuracy: 0.9648 - val_loss: 2.1303 - val_accuracy: 0.5321\n",
            "Epoch 76/100\n",
            "1563/1563 [==============================] - 41s 26ms/step - loss: 0.1334 - accuracy: 0.9649 - val_loss: 1.9780 - val_accuracy: 0.5471\n",
            "Epoch 77/100\n",
            "1563/1563 [==============================] - 41s 26ms/step - loss: 0.1260 - accuracy: 0.9681 - val_loss: 1.9746 - val_accuracy: 0.5564\n",
            "Epoch 78/100\n",
            "1563/1563 [==============================] - 42s 27ms/step - loss: 0.1209 - accuracy: 0.9687 - val_loss: 2.0047 - val_accuracy: 0.5543\n",
            "Epoch 79/100\n",
            "1563/1563 [==============================] - 41s 26ms/step - loss: 0.1092 - accuracy: 0.9739 - val_loss: 2.0819 - val_accuracy: 0.5458\n",
            "Epoch 80/100\n",
            "1563/1563 [==============================] - 41s 26ms/step - loss: 0.1060 - accuracy: 0.9744 - val_loss: 2.0077 - val_accuracy: 0.5592\n",
            "Epoch 81/100\n",
            "1563/1563 [==============================] - 42s 27ms/step - loss: 0.0951 - accuracy: 0.9785 - val_loss: 2.0319 - val_accuracy: 0.5597\n",
            "Epoch 82/100\n",
            "1563/1563 [==============================] - 43s 28ms/step - loss: 0.0905 - accuracy: 0.9798 - val_loss: 2.0880 - val_accuracy: 0.5505\n",
            "Epoch 83/100\n",
            "1563/1563 [==============================] - 42s 27ms/step - loss: 0.0848 - accuracy: 0.9807 - val_loss: 2.2983 - val_accuracy: 0.5280\n",
            "Epoch 84/100\n",
            "1563/1563 [==============================] - 43s 27ms/step - loss: 0.0826 - accuracy: 0.9824 - val_loss: 2.0969 - val_accuracy: 0.5574\n",
            "Epoch 85/100\n",
            "1563/1563 [==============================] - 45s 29ms/step - loss: 0.0728 - accuracy: 0.9851 - val_loss: 2.1152 - val_accuracy: 0.5616\n",
            "Epoch 86/100\n",
            "1563/1563 [==============================] - 43s 28ms/step - loss: 0.0695 - accuracy: 0.9859 - val_loss: 2.1389 - val_accuracy: 0.5581\n",
            "Epoch 87/100\n",
            "1563/1563 [==============================] - 42s 27ms/step - loss: 0.0619 - accuracy: 0.9885 - val_loss: 2.1396 - val_accuracy: 0.5560\n",
            "Epoch 88/100\n",
            "1563/1563 [==============================] - 41s 26ms/step - loss: 0.0588 - accuracy: 0.9891 - val_loss: 2.2803 - val_accuracy: 0.5523\n",
            "Epoch 89/100\n",
            "1563/1563 [==============================] - 40s 26ms/step - loss: 0.0541 - accuracy: 0.9908 - val_loss: 2.1633 - val_accuracy: 0.5584\n",
            "Epoch 90/100\n",
            "1563/1563 [==============================] - 40s 26ms/step - loss: 0.0519 - accuracy: 0.9914 - val_loss: 2.3402 - val_accuracy: 0.5399\n",
            "Epoch 91/100\n",
            "1563/1563 [==============================] - 40s 26ms/step - loss: 0.0503 - accuracy: 0.9917 - val_loss: 2.5488 - val_accuracy: 0.5333\n",
            "Epoch 92/100\n",
            "1563/1563 [==============================] - 40s 26ms/step - loss: 0.0473 - accuracy: 0.9921 - val_loss: 2.2914 - val_accuracy: 0.5548\n",
            "Epoch 93/100\n",
            "1563/1563 [==============================] - 41s 26ms/step - loss: 0.0424 - accuracy: 0.9934 - val_loss: 2.2265 - val_accuracy: 0.5592\n",
            "Epoch 94/100\n",
            "1563/1563 [==============================] - 39s 25ms/step - loss: 0.0395 - accuracy: 0.9941 - val_loss: 2.1986 - val_accuracy: 0.5615\n",
            "Epoch 95/100\n",
            "1563/1563 [==============================] - 39s 25ms/step - loss: 0.0375 - accuracy: 0.9946 - val_loss: 2.2306 - val_accuracy: 0.5632\n",
            "Epoch 96/100\n",
            "1563/1563 [==============================] - 39s 25ms/step - loss: 0.0363 - accuracy: 0.9948 - val_loss: 2.6297 - val_accuracy: 0.5316\n",
            "Epoch 97/100\n",
            "1563/1563 [==============================] - 40s 25ms/step - loss: 0.0330 - accuracy: 0.9957 - val_loss: 2.2561 - val_accuracy: 0.5628\n",
            "Epoch 98/100\n",
            "1563/1563 [==============================] - 39s 25ms/step - loss: 0.0299 - accuracy: 0.9964 - val_loss: 2.2710 - val_accuracy: 0.5598\n",
            "Epoch 99/100\n",
            "1563/1563 [==============================] - 41s 26ms/step - loss: 0.0279 - accuracy: 0.9965 - val_loss: 2.2793 - val_accuracy: 0.5644\n",
            "Epoch 100/100\n",
            "1563/1563 [==============================] - 41s 26ms/step - loss: 0.0267 - accuracy: 0.9970 - val_loss: 2.2968 - val_accuracy: 0.5603\n"
          ]
        }
      ]
    },
    {
      "cell_type": "code",
      "source": [
        "# evaluate the network\n",
        "print(\"[INFO] evaluating network...\")\n",
        "predictions = model.predict(testX, batch_size=32)\n",
        "print(classification_report(testY.argmax(axis=1),\n",
        "\tpredictions.argmax(axis=1), target_names=labelNames))"
      ],
      "metadata": {
        "colab": {
          "base_uri": "https://localhost:8080/"
        },
        "id": "bcTXs0BgO9Sa",
        "outputId": "4a8e249c-38ed-46f6-92a3-ad5b02d740fa"
      },
      "execution_count": null,
      "outputs": [
        {
          "output_type": "stream",
          "name": "stdout",
          "text": [
            "[INFO] evaluating network...\n",
            "              precision    recall  f1-score   support\n",
            "\n",
            "    airplane       0.66      0.62      0.64      1000\n",
            "  automobile       0.70      0.66      0.68      1000\n",
            "        bird       0.44      0.41      0.42      1000\n",
            "         cat       0.37      0.44      0.40      1000\n",
            "        deer       0.46      0.53      0.49      1000\n",
            "         dog       0.46      0.44      0.45      1000\n",
            "        frog       0.62      0.59      0.61      1000\n",
            "       horse       0.65      0.60      0.62      1000\n",
            "        ship       0.66      0.72      0.69      1000\n",
            "       truck       0.64      0.61      0.62      1000\n",
            "\n",
            "    accuracy                           0.56     10000\n",
            "   macro avg       0.57      0.56      0.56     10000\n",
            "weighted avg       0.57      0.56      0.56     10000\n",
            "\n"
          ]
        }
      ]
    },
    {
      "cell_type": "code",
      "source": [
        "# plot the training loss and accuracy\n",
        "plt.style.use(\"ggplot\")\n",
        "plt.figure()\n",
        "plt.plot(np.arange(0, 100), H.history[\"loss\"], label=\"train_loss\")\n",
        "plt.plot(np.arange(0, 100), H.history[\"val_loss\"], label=\"val_loss\")\n",
        "plt.plot(np.arange(0, 100), H.history[\"accuracy\"], label=\"train_acc\")\n",
        "plt.plot(np.arange(0, 100), H.history[\"val_accuracy\"], label=\"val_acc\")\n",
        "plt.title(\"Training Loss and Accuracy\")\n",
        "plt.xlabel(\"Epoch #\")\n",
        "plt.ylabel(\"Loss/Accuracy\")\n",
        "plt.legend()\n"
      ],
      "metadata": {
        "colab": {
          "base_uri": "https://localhost:8080/",
          "height": 316
        },
        "id": "wj9seJNWPAXr",
        "outputId": "fc10a79d-5a7b-40a4-acaa-49472796011f"
      },
      "execution_count": null,
      "outputs": [
        {
          "output_type": "execute_result",
          "data": {
            "text/plain": [
              "<matplotlib.legend.Legend at 0x7efca5e515d0>"
            ]
          },
          "metadata": {},
          "execution_count": 25
        },
        {
          "output_type": "display_data",
          "data": {
            "text/plain": [
              "<Figure size 432x288 with 1 Axes>"
            ],
            "image/png": "[encoded data removed]"
          },
          "metadata": {}
        }
      ]
    },
    {
      "cell_type": "markdown",
      "source": [
        "**CONCLUSION:**\n",
        "\n",
        "1.Accuracy for Dataset : MINST - 92.31%\n",
        "\n",
        "2.Accuracy for Dataset : CIFAR - 56.03%"
      ],
      "metadata": {
        "id": "CFoT4_yqss-T"
      }
    },
    {
      "cell_type": "markdown",
      "source": [
        "**RESULT:**\n",
        "\n",
        "Hence,we implemented feedforward multilayer networks & applied them to the MINST & CIFAR -10 datasets."
      ],
      "metadata": {
        "id": "vPmn6ZLTtnY9"
      }
    }
  ]
}