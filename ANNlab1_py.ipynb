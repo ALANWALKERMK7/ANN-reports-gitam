{
  "nbformat": 4,
  "nbformat_minor": 0,
  "metadata": {
    "colab": {
      "provenance": [],
      "collapsed_sections": []
    },
    "kernelspec": {
      "name": "python3",
      "display_name": "Python 3"
    },
    "language_info": {
      "name": "python"
    },
    "gpuClass": "standard"
  },
  "cells": [
    {
      "cell_type": "code",
      "execution_count": null,
      "metadata": {
        "colab": {
          "base_uri": "https://localhost:8080/"
        },
        "id": "9J8uYUdAMcie",
        "outputId": "c71731d7-a241-4893-8c97-a0f05e0a8c95"
      },
      "outputs": [
        {
          "output_type": "stream",
          "name": "stdout",
          "text": [
            "Sun Aug  7 17:01:58 2022\n"
          ]
        }
      ],
      "source": [
        "import time\n",
        "print(time.ctime())"
      ]
    },
    {
      "cell_type": "code",
      "source": [
        "time.sleep(5)\n",
        "print(time.ctime())"
      ],
      "metadata": {
        "colab": {
          "base_uri": "https://localhost:8080/"
        },
        "id": "1STelPg8Qdgv",
        "outputId": "7c6f319d-adc7-44df-e54e-2789b5cf7687"
      },
      "execution_count": null,
      "outputs": [
        {
          "output_type": "stream",
          "name": "stdout",
          "text": [
            "Sun Aug  7 17:03:06 2022\n"
          ]
        }
      ]
    },
    {
      "cell_type": "markdown",
      "source": [
        "this is **BOLD**.\n",
        "this is **ITALIC**.\n",
        "this is ~STRIKETHROUGH~"
      ],
      "metadata": {
        "id": "Il6vp5dVQ0ow"
      }
    },
    {
      "cell_type": "markdown",
      "source": [
        "$\\sqrt{7x-1}+(1+x)^2$"
      ],
      "metadata": {
        "id": "gPKtHa7xREvZ"
      }
    },
    {
      "cell_type": "markdown",
      "source": [
        "$e^x=\\sum_{i=0}^\\infty \\frac{7}{i!}x^i$"
      ],
      "metadata": {
        "id": "grhjuHeiSBA4"
      }
    },
    {
      "cell_type": "markdown",
      "source": [
        "- $3x_1 + 6x_2 + x_3 =<  28$\n",
        "- $7x_1 + 3x_2 + 2x_3 =< 37$\n",
        "- $4x_1 + 5x_2 + 2x_3 =< 19$\n",
        "- $x_1,x_2,x_3 >=0 $"
      ],
      "metadata": {
        "id": "Avk_ZoEaSgAo"
      }
    },
    {
      "cell_type": "code",
      "source": [
        "message = 'welcome to ANN lab report 1!'\n",
        "greeting = !echo -e '$message\\n$message'\n",
        "greeting"
      ],
      "metadata": {
        "colab": {
          "base_uri": "https://localhost:8080/"
        },
        "id": "eipMGH7_TZqA",
        "outputId": "bcc112ed-f404-4db1-8ee1-12821383065a"
      },
      "execution_count": null,
      "outputs": [
        {
          "output_type": "execute_result",
          "data": {
            "text/plain": [
              "['welcome to ANN lab report 1!', 'welcome to ANN lab report 1!']"
            ]
          },
          "metadata": {},
          "execution_count": 6
        }
      ]
    },
    {
      "cell_type": "code",
      "source": [
        "!wget http://archive.ics.uci.edu/ml/machine-learning-databases/adult/adult.data -P \"/content/drive/My Drive/app\""
      ],
      "metadata": {
        "colab": {
          "base_uri": "https://localhost:8080/"
        },
        "id": "kBqpmbhlasVp",
        "outputId": "5a437f0d-543b-499c-a0a0-6e9a5d9f1fb9"
      },
      "execution_count": null,
      "outputs": [
        {
          "output_type": "stream",
          "name": "stdout",
          "text": [
            "--2022-08-12 15:19:06--  http://archive.ics.uci.edu/ml/machine-learning-databases/adult/adult.data\n",
            "Resolving archive.ics.uci.edu (archive.ics.uci.edu)... 128.195.10.252\n",
            "Connecting to archive.ics.uci.edu (archive.ics.uci.edu)|128.195.10.252|:80... connected.\n",
            "HTTP request sent, awaiting response... 200 OK\n",
            "Length: 3974305 (3.8M) [application/x-httpd-php]\n",
            "Saving to: ‘/content/drive/My Drive/app/adult.data’\n",
            "\n",
            "\radult.data            0%[                    ]       0  --.-KB/s               \radult.data          100%[===================>]   3.79M  --.-KB/s    in 0.1s    \n",
            "\n",
            "2022-08-12 15:19:07 (39.5 MB/s) - ‘/content/drive/My Drive/app/adult.data’ saved [3974305/3974305]\n",
            "\n"
          ]
        }
      ]
    },
    {
      "cell_type": "code",
      "source": [
        "import pandas as pd\n",
        "data = pd.read_csv(\"/content/drive/My Drive/app/adult.data\")\n",
        "data.head(5)"
      ],
      "metadata": {
        "colab": {
          "base_uri": "https://localhost:8080/",
          "height": 215
        },
        "id": "48PQuo0FbF0U",
        "outputId": "9e514eff-ec59-46e9-d1eb-ccdca70d2426"
      },
      "execution_count": null,
      "outputs": [
        {
          "output_type": "execute_result",
          "data": {
            "text/plain": [
              "   39          State-gov   77516   Bachelors   13        Never-married  \\\n",
              "0  50   Self-emp-not-inc   83311   Bachelors   13   Married-civ-spouse   \n",
              "1  38            Private  215646     HS-grad    9             Divorced   \n",
              "2  53            Private  234721        11th    7   Married-civ-spouse   \n",
              "3  28            Private  338409   Bachelors   13   Married-civ-spouse   \n",
              "4  37            Private  284582     Masters   14   Married-civ-spouse   \n",
              "\n",
              "         Adm-clerical   Not-in-family   White     Male   2174   0   40  \\\n",
              "0     Exec-managerial         Husband   White     Male      0   0   13   \n",
              "1   Handlers-cleaners   Not-in-family   White     Male      0   0   40   \n",
              "2   Handlers-cleaners         Husband   Black     Male      0   0   40   \n",
              "3      Prof-specialty            Wife   Black   Female      0   0   40   \n",
              "4     Exec-managerial            Wife   White   Female      0   0   40   \n",
              "\n",
              "    United-States   <=50K  \n",
              "0   United-States   <=50K  \n",
              "1   United-States   <=50K  \n",
              "2   United-States   <=50K  \n",
              "3            Cuba   <=50K  \n",
              "4   United-States   <=50K  "
            ],
            "text/html": [
              "\n",
              "  <div id=\"df-eea60fb7-b237-4087-8936-4bb1124955ba\">\n",
              "    <div class=\"colab-df-container\">\n",
              "      <div>\n",
              "<style scoped>\n",
              "    .dataframe tbody tr th:only-of-type {\n",
              "        vertical-align: middle;\n",
              "    }\n",
              "\n",
              "    .dataframe tbody tr th {\n",
              "        vertical-align: top;\n",
              "    }\n",
              "\n",
              "    .dataframe thead th {\n",
              "        text-align: right;\n",
              "    }\n",
              "</style>\n",
              "<table border=\"1\" class=\"dataframe\">\n",
              "  <thead>\n",
              "    <tr style=\"text-align: right;\">\n",
              "      <th></th>\n",
              "      <th>39</th>\n",
              "      <th>State-gov</th>\n",
              "      <th>77516</th>\n",
              "      <th>Bachelors</th>\n",
              "      <th>13</th>\n",
              "      <th>Never-married</th>\n",
              "      <th>Adm-clerical</th>\n",
              "      <th>Not-in-family</th>\n",
              "      <th>White</th>\n",
              "      <th>Male</th>\n",
              "      <th>2174</th>\n",
              "      <th>0</th>\n",
              "      <th>40</th>\n",
              "      <th>United-States</th>\n",
              "      <th>&lt;=50K</th>\n",
              "    </tr>\n",
              "  </thead>\n",
              "  <tbody>\n",
              "    <tr>\n",
              "      <th>0</th>\n",
              "      <td>50</td>\n",
              "      <td>Self-emp-not-inc</td>\n",
              "      <td>83311</td>\n",
              "      <td>Bachelors</td>\n",
              "      <td>13</td>\n",
              "      <td>Married-civ-spouse</td>\n",
              "      <td>Exec-managerial</td>\n",
              "      <td>Husband</td>\n",
              "      <td>White</td>\n",
              "      <td>Male</td>\n",
              "      <td>0</td>\n",
              "      <td>0</td>\n",
              "      <td>13</td>\n",
              "      <td>United-States</td>\n",
              "      <td>&lt;=50K</td>\n",
              "    </tr>\n",
              "    <tr>\n",
              "      <th>1</th>\n",
              "      <td>38</td>\n",
              "      <td>Private</td>\n",
              "      <td>215646</td>\n",
              "      <td>HS-grad</td>\n",
              "      <td>9</td>\n",
              "      <td>Divorced</td>\n",
              "      <td>Handlers-cleaners</td>\n",
              "      <td>Not-in-family</td>\n",
              "      <td>White</td>\n",
              "      <td>Male</td>\n",
              "      <td>0</td>\n",
              "      <td>0</td>\n",
              "      <td>40</td>\n",
              "      <td>United-States</td>\n",
              "      <td>&lt;=50K</td>\n",
              "    </tr>\n",
              "    <tr>\n",
              "      <th>2</th>\n",
              "      <td>53</td>\n",
              "      <td>Private</td>\n",
              "      <td>234721</td>\n",
              "      <td>11th</td>\n",
              "      <td>7</td>\n",
              "      <td>Married-civ-spouse</td>\n",
              "      <td>Handlers-cleaners</td>\n",
              "      <td>Husband</td>\n",
              "      <td>Black</td>\n",
              "      <td>Male</td>\n",
              "      <td>0</td>\n",
              "      <td>0</td>\n",
              "      <td>40</td>\n",
              "      <td>United-States</td>\n",
              "      <td>&lt;=50K</td>\n",
              "    </tr>\n",
              "    <tr>\n",
              "      <th>3</th>\n",
              "      <td>28</td>\n",
              "      <td>Private</td>\n",
              "      <td>338409</td>\n",
              "      <td>Bachelors</td>\n",
              "      <td>13</td>\n",
              "      <td>Married-civ-spouse</td>\n",
              "      <td>Prof-specialty</td>\n",
              "      <td>Wife</td>\n",
              "      <td>Black</td>\n",
              "      <td>Female</td>\n",
              "      <td>0</td>\n",
              "      <td>0</td>\n",
              "      <td>40</td>\n",
              "      <td>Cuba</td>\n",
              "      <td>&lt;=50K</td>\n",
              "    </tr>\n",
              "    <tr>\n",
              "      <th>4</th>\n",
              "      <td>37</td>\n",
              "      <td>Private</td>\n",
              "      <td>284582</td>\n",
              "      <td>Masters</td>\n",
              "      <td>14</td>\n",
              "      <td>Married-civ-spouse</td>\n",
              "      <td>Exec-managerial</td>\n",
              "      <td>Wife</td>\n",
              "      <td>White</td>\n",
              "      <td>Female</td>\n",
              "      <td>0</td>\n",
              "      <td>0</td>\n",
              "      <td>40</td>\n",
              "      <td>United-States</td>\n",
              "      <td>&lt;=50K</td>\n",
              "    </tr>\n",
              "  </tbody>\n",
              "</table>\n",
              "</div>\n",
              "      <button class=\"colab-df-convert\" onclick=\"convertToInteractive('df-eea60fb7-b237-4087-8936-4bb1124955ba')\"\n",
              "              title=\"Convert this dataframe to an interactive table.\"\n",
              "              style=\"display:none;\">\n",
              "        \n",
              "  <svg xmlns=\"http://www.w3.org/2000/svg\" height=\"24px\"viewBox=\"0 0 24 24\"\n",
              "       width=\"24px\">\n",
              "    <path d=\"M0 0h24v24H0V0z\" fill=\"none\"/>\n",
              "    <path d=\"M18.56 5.44l.94 2.06.94-2.06 2.06-.94-2.06-.94-.94-2.06-.94 2.06-2.06.94zm-11 1L8.5 8.5l.94-2.06 2.06-.94-2.06-.94L8.5 2.5l-.94 2.06-2.06.94zm10 10l.94 2.06.94-2.06 2.06-.94-2.06-.94-.94-2.06-.94 2.06-2.06.94z\"/><path d=\"M17.41 7.96l-1.37-1.37c-.4-.4-.92-.59-1.43-.59-.52 0-1.04.2-1.43.59L10.3 9.45l-7.72 7.72c-.78.78-.78 2.05 0 2.83L4 21.41c.39.39.9.59 1.41.59.51 0 1.02-.2 1.41-.59l7.78-7.78 2.81-2.81c.8-.78.8-2.07 0-2.86zM5.41 20L4 18.59l7.72-7.72 1.47 1.35L5.41 20z\"/>\n",
              "  </svg>\n",
              "      </button>\n",
              "      \n",
              "  <style>\n",
              "    .colab-df-container {\n",
              "      display:flex;\n",
              "      flex-wrap:wrap;\n",
              "      gap: 12px;\n",
              "    }\n",
              "\n",
              "    .colab-df-convert {\n",
              "      background-color: #E8F0FE;\n",
              "      border: none;\n",
              "      border-radius: 50%;\n",
              "      cursor: pointer;\n",
              "      display: none;\n",
              "      fill: #1967D2;\n",
              "      height: 32px;\n",
              "      padding: 0 0 0 0;\n",
              "      width: 32px;\n",
              "    }\n",
              "\n",
              "    .colab-df-convert:hover {\n",
              "      background-color: #E2EBFA;\n",
              "      box-shadow: 0px 1px 2px rgba(60, 64, 67, 0.3), 0px 1px 3px 1px rgba(60, 64, 67, 0.15);\n",
              "      fill: #174EA6;\n",
              "    }\n",
              "\n",
              "    [theme=dark] .colab-df-convert {\n",
              "      background-color: #3B4455;\n",
              "      fill: #D2E3FC;\n",
              "    }\n",
              "\n",
              "    [theme=dark] .colab-df-convert:hover {\n",
              "      background-color: #434B5C;\n",
              "      box-shadow: 0px 1px 3px 1px rgba(0, 0, 0, 0.15);\n",
              "      filter: drop-shadow(0px 1px 2px rgba(0, 0, 0, 0.3));\n",
              "      fill: #FFFFFF;\n",
              "    }\n",
              "  </style>\n",
              "\n",
              "      <script>\n",
              "        const buttonEl =\n",
              "          document.querySelector('#df-eea60fb7-b237-4087-8936-4bb1124955ba button.colab-df-convert');\n",
              "        buttonEl.style.display =\n",
              "          google.colab.kernel.accessAllowed ? 'block' : 'none';\n",
              "\n",
              "        async function convertToInteractive(key) {\n",
              "          const element = document.querySelector('#df-eea60fb7-b237-4087-8936-4bb1124955ba');\n",
              "          const dataTable =\n",
              "            await google.colab.kernel.invokeFunction('convertToInteractive',\n",
              "                                                     [key], {});\n",
              "          if (!dataTable) return;\n",
              "\n",
              "          const docLinkHtml = 'Like what you see? Visit the ' +\n",
              "            '<a target=\"_blank\" href=https://colab.research.google.com/notebooks/data_table.ipynb>data table notebook</a>'\n",
              "            + ' to learn more about interactive tables.';\n",
              "          element.innerHTML = '';\n",
              "          dataTable['output_type'] = 'display_data';\n",
              "          await google.colab.output.renderOutput(dataTable, element);\n",
              "          const docLink = document.createElement('div');\n",
              "          docLink.innerHTML = docLinkHtml;\n",
              "          element.appendChild(docLink);\n",
              "        }\n",
              "      </script>\n",
              "    </div>\n",
              "  </div>\n",
              "  "
            ]
          },
          "metadata": {},
          "execution_count": 24
        }
      ]
    },
    {
      "cell_type": "code",
      "source": [
        "!git clone https://github.com/wxs/keras-mnist-tutorial.git"
      ],
      "metadata": {
        "colab": {
          "base_uri": "https://localhost:8080/"
        },
        "id": "fi-96i2HbRu3",
        "outputId": "6d5b334d-820c-4f27-cefe-061062a56674"
      },
      "execution_count": null,
      "outputs": [
        {
          "output_type": "stream",
          "name": "stdout",
          "text": [
            "Cloning into 'keras-mnist-tutorial'...\n",
            "remote: Enumerating objects: 26, done.\u001b[K\n",
            "remote: Total 26 (delta 0), reused 0 (delta 0), pack-reused 26\u001b[K\n",
            "Unpacking objects: 100% (26/26), done.\n"
          ]
        }
      ]
    },
    {
      "cell_type": "code",
      "source": [
        "!ls /bin"
      ],
      "metadata": {
        "colab": {
          "base_uri": "https://localhost:8080/"
        },
        "id": "9Ta9buITbZqV",
        "outputId": "29223edc-50dc-4840-d067-d1a0fe67671e"
      },
      "execution_count": null,
      "outputs": [
        {
          "output_type": "stream",
          "name": "stdout",
          "text": [
            "bash\t       hostname       su\n",
            "bunzip2        journalctl     sync\n",
            "bzcat\t       kill\t      systemctl\n",
            "bzcmp\t       kmod\t      systemd\n",
            "bzdiff\t       less\t      systemd-ask-password\n",
            "bzegrep        lessecho       systemd-escape\n",
            "bzexe\t       lessfile       systemd-hwdb\n",
            "bzfgrep        lesskey\t      systemd-inhibit\n",
            "bzgrep\t       lesspipe       systemd-machine-id-setup\n",
            "bzip2\t       ln\t      systemd-notify\n",
            "bzip2recover   login\t      systemd-sysusers\n",
            "bzless\t       loginctl       systemd-tmpfiles\n",
            "bzmore\t       ls\t      systemd-tty-ask-password-agent\n",
            "cat\t       lsblk\t      tar\n",
            "chgrp\t       lsmod\t      tempfile\n",
            "chmod\t       mkdir\t      touch\n",
            "chown\t       mknod\t      true\n",
            "cp\t       mktemp\t      udevadm\n",
            "dash\t       more\t      ulockmgr_server\n",
            "date\t       mount\t      umount\n",
            "dd\t       mountpoint     uname\n",
            "df\t       mv\t      uncompress\n",
            "dir\t       networkctl     vdir\n",
            "dmesg\t       nisdomainname  wdctl\n",
            "dnsdomainname  pidof\t      which\n",
            "domainname     ps\t      ypdomainname\n",
            "echo\t       pwd\t      zcat\n",
            "egrep\t       rbash\t      zcmp\n",
            "false\t       readlink       zdiff\n",
            "fgrep\t       rm\t      zegrep\n",
            "findmnt        rmdir\t      zfgrep\n",
            "fuser\t       run-parts      zforce\n",
            "fusermount     sed\t      zgrep\n",
            "grep\t       sh\t      zless\n",
            "gunzip\t       sh.distrib     zmore\n",
            "gzexe\t       sleep\t      znew\n",
            "gzip\t       stty\n"
          ]
        }
      ]
    },
    {
      "cell_type": "code",
      "source": [
        "# Run this cell to mount your Google Drive.\n",
        "from google.colab import drive\n",
        "drive.mount('/content/drive')"
      ],
      "metadata": {
        "colab": {
          "base_uri": "https://localhost:8080/"
        },
        "id": "MKbvb6zpbbqD",
        "outputId": "6ed2084c-3870-4add-df66-ff5bfdc357ea"
      },
      "execution_count": null,
      "outputs": [
        {
          "output_type": "stream",
          "name": "stdout",
          "text": [
            "Drive already mounted at /content/drive; to attempt to forcibly remount, call drive.mount(\"/content/drive\", force_remount=True).\n"
          ]
        }
      ]
    },
    {
      "cell_type": "code",
      "source": [
        "!ls \"/content/drive/My Drive/Colab Notebooks\""
      ],
      "metadata": {
        "colab": {
          "base_uri": "https://localhost:8080/"
        },
        "id": "W_KZZT8fb1RC",
        "outputId": "de936bea-a092-4f4b-b28e-3458b7ce84fb"
      },
      "execution_count": null,
      "outputs": [
        {
          "output_type": "stream",
          "name": "stdout",
          "text": [
            "ANNlab.ipynb\t  hello.py    psp7.ipynb\tvirtualassistant.ipynb\n",
            "facedetect.ipynb  lab1.ipynb  Untitled19.ipynb\n"
          ]
        }
      ]
    },
    {
      "cell_type": "code",
      "source": [
        "!python3 \"/content/drive/My Drive/Colab Notebooks/hello.py\""
      ],
      "metadata": {
        "colab": {
          "base_uri": "https://localhost:8080/"
        },
        "id": "yfOk5a3fclic",
        "outputId": "f3f66c1b-7c15-4b9e-d4f6-64688f9d6100"
      },
      "execution_count": null,
      "outputs": [
        {
          "output_type": "stream",
          "name": "stdout",
          "text": [
            "Traceback (most recent call last):\n",
            "  File \"/content/drive/My Drive/Colab Notebooks/hello.py\", line 1, in <module>\n",
            "    {\"nbformat\":4,\"nbformat_minor\":0,\"metadata\":{\"colab\":{\"name\":\"hello.py\",\"provenance\":[],\"collapsed_sections\":[],\"authorship_tag\":\"ABX9TyMrev9RD2PQHRVZN6k1Jtk/\"},\"kernelspec\":{\"name\":\"python3\",\"display_name\":\"Python 3\"},\"language_info\":{\"name\":\"python\"}},\"cells\":[{\"cell_type\":\"code\",\"source\":[\"print(\\\"welcome to colab!\\\")\"],\"metadata\":{\"id\":\"6KroA9KJGkyy\",\"colab\":{\"base_uri\":\"https://localhost:8080/\"},\"executionInfo\":{\"status\":\"ok\",\"timestamp\":1659895507484,\"user_tz\":-330,\"elapsed\":373,\"user\":{\"displayName\":\"MAGANTI MURALI KRISHNA 322010404039\",\"userId\":\"17647980019477955436\"}},\"outputId\":\"6a7adb73-752c-4079-c973-4c9fce316d3c\"},\"execution_count\":3,\"outputs\":[{\"output_type\":\"stream\",\"name\":\"stdout\",\"text\":[\"welcome to colab!\\n\"]}]},{\"cell_type\":\"code\",\"source\":[\"\"],\"metadata\":{\"id\":\"v8mQSYhoeqQv\"},\"execution_count\":null,\"outputs\":[]}]}\n",
            "NameError: name 'null' is not defined\n"
          ]
        }
      ]
    },
    {
      "cell_type": "code",
      "source": [
        "import numpy as np\n",
        "from matplotlib import pyplot as plt\n",
        "\n",
        "y = np.random.randn(100)\n",
        "x = [x for x in range(len(y))]\n",
        "\n",
        "plt.plot(x, y, '-')\n",
        "plt.fill_between(x, y, 200, where = (y > 195), facecolor='g', alpha=0.6)\n",
        "\n",
        "plt.title(\"Sample Plot\")\n",
        "plt.show()"
      ],
      "metadata": {
        "colab": {
          "base_uri": "https://localhost:8080/",
          "height": 281
        },
        "id": "VnKEDTa1fieY",
        "outputId": "08f72cee-0cbe-4e00-e8ad-cb997be49a7a"
      },
      "execution_count": null,
      "outputs": [
        {
          "output_type": "display_data",
          "data": {
            "text/plain": [
              "<Figure size 432x288 with 1 Axes>"
            ],
            "image/png": "[encoded data removed]"
          },
          "metadata": {
            "needs_background": "light"
          }
        }
      ]
    },
    {
      "cell_type": "code",
      "source": [
        "import torch"
      ],
      "metadata": {
        "id": "7qyTYPZ8fxj9"
      },
      "execution_count": null,
      "outputs": []
    },
    {
      "cell_type": "code",
      "source": [
        "Tensor = torch"
      ],
      "metadata": {
        "id": "M_SUZyONf39W"
      },
      "execution_count": null,
      "outputs": []
    },
    {
      "cell_type": "code",
      "source": [
        "Tensor = torch.randn(4)"
      ],
      "metadata": {
        "id": "lkG_RH30gBBF"
      },
      "execution_count": null,
      "outputs": []
    },
    {
      "cell_type": "code",
      "source": [
        "%ldir"
      ],
      "metadata": {
        "colab": {
          "base_uri": "https://localhost:8080/"
        },
        "id": "DKg4F-ddg6cw",
        "outputId": "0425c7d7-152b-4375-a87a-46b87c57611c"
      },
      "execution_count": null,
      "outputs": [
        {
          "output_type": "stream",
          "name": "stdout",
          "text": [
            "drwx------ 6 root 4096 Aug  7 17:51 \u001b[0m\u001b[01;34mdrive\u001b[0m/\n",
            "drwxr-xr-x 3 root 4096 Aug  7 17:49 \u001b[01;34mkeras-mnist-tutorial\u001b[0m/\n",
            "drwxr-xr-x 1 root 4096 Aug  3 20:21 \u001b[01;34msample_data\u001b[0m/\n"
          ]
        }
      ]
    },
    {
      "cell_type": "code",
      "source": [
        "%history"
      ],
      "metadata": {
        "colab": {
          "base_uri": "https://localhost:8080/"
        },
        "id": "MH5gHpdog-my",
        "outputId": "ddf94224-10aa-45b3-f6e4-a898ca8b6fb9"
      },
      "execution_count": null,
      "outputs": [
        {
          "output_type": "stream",
          "name": "stdout",
          "text": [
            "import time\n",
            "print(time.ctime())\n",
            "time.sleep(5)\n",
            "print(time.ctime())\n",
            "message = 'welcome to ANN lab report 1!'\n",
            "greeting = !echo -e '$message\\n$message'\n",
            "greeting\n",
            "message = 'welcome to ANN lab report 1!'\n",
            "greeting = !echo -e '$message \\n$message'\n",
            "greeting\n",
            "message = 'welcome to ANN lab report 1!'\n",
            "greeting = !echo -e '$message/n$message'\n",
            "greeting\n",
            "message = 'welcome to ANN lab report 1!'\n",
            "greeting = !echo -e '$message\\n$message'\n",
            "greeting\n",
            "!wget http://mlr.cs.umass.edu/ml/machine-learning-databases/adult/adult.data -P\n",
            "\"/content/drive/My Drive/app\n",
            "!wget http://mlr.cs.umass.edu/ml/machine-learning-databases/adult/adult.data -P\n",
            "\"/content/drive/My Drive/app\"\n",
            "!wget http://mlr.cs.umass.edu/ml/machine-learning-databases/adult/adult.data -\n",
            "P\"/content/drive/My Drive/app\"\n",
            "!wget http://mlr.cs.umass.edu/ml/machine-learning-databases/adult/adult.data -\n",
            "P\"/content/drive/My Drive/app\"\n",
            "!wget http://mlr.cs.umass.edu/ml/machine-learning-databases/adult/adult.data -P\"/content/drive/My Drive/app\"\n",
            "!wget http://mlr.cs.umass.edu/ml/machine-learning-databases/adult/adult.data -P\n",
            "\"/content/drive/My Drive/app\"\n",
            "!wget http://mlr.cs.umass.edu/ml/machine-learning-databases/adult/adult.data -P\"/content/drive/My Drive/app\"\n",
            "!wget http://mlr.cs.umass.edu/ml/machine-learning-databases/adult/adult.data -P\"/content/drive/My Drive/app\"\n",
            "!wget http://mlr.cs.umass.edu/ml/machine-learning-databases/adult/adult.data -P\n",
            "\"/content/drive/My Drive/app\"\n",
            "!wget http://mlr.cs.umass.edu/ml/machine-learning-databases/adult/adult.data -P\"/content/drive/My Drive/app\"\n",
            "import pandas as pd\n",
            "data = pd.read_csv(\"/content/drive/My Drive/app/adult.data.1\")\n",
            "data.head(5)\n",
            "!wget http://mlr.cs.umass.edu/ml/machine-learning-databases/adult/adult.data - P\"/content/drive/My Drive/app\"\n",
            "!wget http://mlr.cs.umass.edu/ml/machine-learning-databases/adult/adult.data-P\"/content/drive/My Drive/app\"\n",
            "import pandas as pd\n",
            "data = pd.read_csv(\"/content/drive/My Drive/app/adult.data.1\")\n",
            "data.head(5)\n",
            "wget http://mlr.cs.umass.edu/ml/machine-learning-databases/adult/adult.data -P\n",
            "\"/content/drive/My Drive/app\"\n",
            "!wget http://mlr.cs.umass.edu/ml/machine-learning-databases/adult/adult.data -P\n",
            "\"/content/drive/My Drive/app\"\n",
            "!wget http://mlr.cs.umass.edu/ml/machine-learning-databases/adult/adult.data-P\"/content/drive/My Drive/app\"\n",
            "!wget http://mlr.cs.umass.edu/ml/machine-learning-databases/adult/adult.data -P \"/content/drive/My Drive/app\"\n",
            "!wget http://mlr.cs.umass.edu/ml/machine-learning-databases/adult/adult.data -P \"/content/drive/My Drive/app\"\n",
            "!wget http://mlr.cs.umass.edu/ml/machine-learning-databases/adult/adult.data -P \"/content/drive/My Drive/app\"\n",
            "import pandas as pd\n",
            "data = pd.read_csv(\"/content/drive/My Drive/app/adult.data.1\")\n",
            "data.head(5)\n",
            "!git clone https://github.com/wxs/keras-mnist-tutorial.git\n",
            "!ls /bin\n",
            "# Run this cell to mount your Google Drive.\n",
            "from google.colab import drive\n",
            "drive.mount('/content/drive')\n",
            "!ls \"/content/drive/My Drive/Colab Notebooks\"\n",
            "!ls \"/content/drive/My Drive/Colab Notebooks\"\n",
            "!python3 \"/content/drive/My Drive/Colab Notebooks/hello.py\"\n",
            "!python3 \"/content/drive/My Drive/Colab Notebooks/psp7.py\"\n",
            "!python3 \"/content/drive/My Drive/Colab Notebooks/psp7.ipynb\"\n",
            "!python3 \"/content/drive/My Drive/Colab Notebooks/lab1.ipynb\"\n",
            "!python3 \"/content/drive/My Drive/Colab Notebooks/Untitled18.ipynb\"\n",
            "!python3 \"/content/drive/My Drive/Colab Notebooks/Untitled18.ipynb\"\n",
            "!python3 \"/content/drive/My Drive/Colab Notebooks/ANNlab.ipynb\"\n",
            "!python3 \"/content/drive/My Drive/Colab Notebooks/Untitled18.ipynb\"\n",
            "# Run this cell to mount your Google Drive.\n",
            "from google.colab import drive\n",
            "drive.mount('/content/drive')\n",
            "!ls \"/content/drive/My Drive/Colab Notebooks\"\n",
            "!ls \"/content/drive/My Drive/Colab Notebooks\"\n",
            "!python3 \"/content/drive/My Drive/Colab Notebooks/hello.py\"\n",
            "!python3 \"/content/drive/My Drive/Colab Notebooks/hello.py\"\n",
            "!python3 \"/content/drive/My Drive/Colab Notebooks/psp7.ipynb\"\n",
            "!python3 \"/content/drive/My Drive/Colab Notebooks/hello.py\"\n",
            "import numpy as np\n",
            "from matplotlib import pyplot as plt\n",
            "\n",
            "y = np.random.randn(100)\n",
            "x = [x for x in range(len(y))]\n",
            "\n",
            "plt.plot(x, y, '-')\n",
            "plt.fill_between(x, y, 200, where = (y > 195), facecolor='g', alpha=0.6)\n",
            "\n",
            "plt.title(\"Sample Plot\")\n",
            "plt.show()\n",
            "import torch\n",
            "Tensor = torch.\n",
            "Tensor = torch\n",
            "Tensor = torch.cos(\n",
            "Tensor = torch.cos()\n",
            "Tensor = torch.cos(  )\n",
            "Tensor = torch.cos(4)\n",
            "Tensor = torch.randon(4)\n",
            "Tensor = torch.randn(4)\n",
            "%ldir\n",
            "%history\n"
          ]
        }
      ]
    },
    {
      "cell_type": "code",
      "source": [
        "%%html\n",
        "<marquee style='width: 50%; color: Green;'>Welcome to 4039 ANN LAB REPORT1!</marquee>"
      ],
      "metadata": {
        "colab": {
          "base_uri": "https://localhost:8080/",
          "height": 39
        },
        "id": "ohBwGpf1hN8b",
        "outputId": "2655a087-9869-4502-bdfc-55a5e9580bbd"
      },
      "execution_count": null,
      "outputs": [
        {
          "output_type": "display_data",
          "data": {
            "text/plain": [
              "<IPython.core.display.HTML object>"
            ],
            "text/html": [
              "<marquee style='width: 50%; color: Green;'>Welcome to 4039 ANN LAB REPORT1!</marquee>"
            ]
          },
          "metadata": {}
        }
      ]
    },
    {
      "cell_type": "code",
      "source": [
        "%%html\n",
        "<svg xmlns=\"https://www.w3.org/2000/svg\" viewBox=\"0 0 600 400\" width=\"400\" height=\"400\">\n",
        "<rect x=\"10\" y=\"00\" width=\"300\" height=\"100\" rx=\"0\" style=\"fill:orange; stroke:black; fill-opacity:1.0\" />\n",
        "<rect x=\"10\" y=\"100\" width=\"300\" height=\"100\" rx=\"0\" style=\"fill:white; stroke:black; fill-opacity:1.0;\" />\n",
        "<rect x=\"10\" y=\"200\" width=\"300\" height=\"100\" rx=\"0\" style=\"fill:green; stroke:black; fill-opacity:1.0;\" />\n",
        "</svg>"
      ],
      "metadata": {
        "colab": {
          "base_uri": "https://localhost:8080/",
          "height": 422
        },
        "id": "4afKPIfLhdd1",
        "outputId": "50c32c4c-17c6-45be-d26f-b551ad2a046a"
      },
      "execution_count": null,
      "outputs": [
        {
          "output_type": "display_data",
          "data": {
            "text/plain": [
              "<IPython.core.display.HTML object>"
            ],
            "text/html": [
              "<svg xmlns=\"https://www.w3.org/2000/svg\" viewBox=\"0 0 600 400\" width=\"400\" height=\"400\">\n",
              "<rect x=\"10\" y=\"00\" width=\"300\" height=\"100\" rx=\"0\" style=\"fill:orange; stroke:black; fill-opacity:1.0\" />\n",
              "<rect x=\"10\" y=\"100\" width=\"300\" height=\"100\" rx=\"0\" style=\"fill:white; stroke:black; fill-opacity:1.0;\" />\n",
              "<rect x=\"10\" y=\"200\" width=\"300\" height=\"100\" rx=\"0\" style=\"fill:green; stroke:black; fill-opacity:1.0;\" />\n",
              "</svg>"
            ]
          },
          "metadata": {}
        }
      ]
    },
    {
      "cell_type": "code",
      "source": [
        "%lsmagic"
      ],
      "metadata": {
        "colab": {
          "base_uri": "https://localhost:8080/",
          "height": 364
        },
        "id": "1ddVDVLehm2t",
        "outputId": "b22af1a4-de55-4e12-e5c7-19f213b9126b"
      },
      "execution_count": null,
      "outputs": [
        {
          "output_type": "execute_result",
          "data": {
            "text/plain": [
              "Available line magics:\n",
              "%alias  %alias_magic  %autocall  %automagic  %autosave  %bookmark  %cat  %cd  %clear  %colors  %config  %connect_info  %cp  %debug  %dhist  %dirs  %doctest_mode  %ed  %edit  %env  %gui  %hist  %history  %killbgscripts  %ldir  %less  %lf  %lk  %ll  %load  %load_ext  %loadpy  %logoff  %logon  %logstart  %logstate  %logstop  %ls  %lsmagic  %lx  %macro  %magic  %man  %matplotlib  %mkdir  %more  %mv  %notebook  %page  %pastebin  %pdb  %pdef  %pdoc  %pfile  %pinfo  %pinfo2  %pip  %popd  %pprint  %precision  %profile  %prun  %psearch  %psource  %pushd  %pwd  %pycat  %pylab  %qtconsole  %quickref  %recall  %rehashx  %reload_ext  %rep  %rerun  %reset  %reset_selective  %rm  %rmdir  %run  %save  %sc  %set_env  %shell  %store  %sx  %system  %tb  %tensorflow_version  %time  %timeit  %unalias  %unload_ext  %who  %who_ls  %whos  %xdel  %xmode\n",
              "\n",
              "Available cell magics:\n",
              "%%!  %%HTML  %%SVG  %%bash  %%bigquery  %%capture  %%debug  %%file  %%html  %%javascript  %%js  %%latex  %%perl  %%prun  %%pypy  %%python  %%python2  %%python3  %%ruby  %%script  %%sh  %%shell  %%svg  %%sx  %%system  %%time  %%timeit  %%writefile\n",
              "\n",
              "Automagic is ON, % prefix IS NOT needed for line magics."
            ],
            "application/json": {
              "line": {
                "automagic": "AutoMagics",
                "autocall": "AutoMagics",
                "alias_magic": "BasicMagics",
                "lsmagic": "BasicMagics",
                "magic": "BasicMagics",
                "page": "BasicMagics",
                "profile": "BasicMagics",
                "pprint": "BasicMagics",
                "colors": "BasicMagics",
                "xmode": "BasicMagics",
                "quickref": "BasicMagics",
                "doctest_mode": "BasicMagics",
                "gui": "BasicMagics",
                "precision": "BasicMagics",
                "notebook": "BasicMagics",
                "save": "CodeMagics",
                "pastebin": "CodeMagics",
                "loadpy": "CodeMagics",
                "load": "CodeMagics",
                "edit": "KernelMagics",
                "config": "ConfigMagics",
                "prun": "ExecutionMagics",
                "pdb": "ExecutionMagics",
                "debug": "ExecutionMagics",
                "tb": "ExecutionMagics",
                "run": "ExecutionMagics",
                "timeit": "ExecutionMagics",
                "time": "ExecutionMagics",
                "macro": "ExecutionMagics",
                "load_ext": "ExtensionMagics",
                "unload_ext": "ExtensionMagics",
                "reload_ext": "ExtensionMagics",
                "history": "HistoryMagics",
                "recall": "HistoryMagics",
                "rerun": "HistoryMagics",
                "logstart": "LoggingMagics",
                "logstop": "LoggingMagics",
                "logoff": "LoggingMagics",
                "logon": "LoggingMagics",
                "logstate": "LoggingMagics",
                "pinfo": "NamespaceMagics",
                "pinfo2": "NamespaceMagics",
                "pdef": "NamespaceMagics",
                "pdoc": "NamespaceMagics",
                "psource": "NamespaceMagics",
                "pfile": "NamespaceMagics",
                "psearch": "NamespaceMagics",
                "who_ls": "NamespaceMagics",
                "who": "NamespaceMagics",
                "whos": "NamespaceMagics",
                "reset": "NamespaceMagics",
                "reset_selective": "NamespaceMagics",
                "xdel": "NamespaceMagics",
                "alias": "OSMagics",
                "unalias": "OSMagics",
                "rehashx": "OSMagics",
                "pwd": "OSMagics",
                "cd": "OSMagics",
                "env": "OSMagics",
                "set_env": "OSMagics",
                "pushd": "OSMagics",
                "popd": "OSMagics",
                "dirs": "OSMagics",
                "dhist": "OSMagics",
                "sc": "OSMagics",
                "sx": "OSMagics",
                "system": "OSMagics",
                "bookmark": "OSMagics",
                "pycat": "OSMagics",
                "matplotlib": "PylabMagics",
                "pylab": "PylabMagics",
                "killbgscripts": "ScriptMagics",
                "ed": "Other",
                "hist": "Other",
                "rep": "Other",
                "clear": "KernelMagics",
                "less": "KernelMagics",
                "more": "KernelMagics",
                "man": "KernelMagics",
                "connect_info": "KernelMagics",
                "qtconsole": "KernelMagics",
                "autosave": "KernelMagics",
                "mkdir": "Other",
                "rmdir": "Other",
                "mv": "Other",
                "rm": "Other",
                "cp": "Other",
                "cat": "Other",
                "ls": "Other",
                "ll": "Other",
                "lf": "Other",
                "lk": "Other",
                "ldir": "Other",
                "lx": "Other",
                "store": "StoreMagics",
                "shell": "Other",
                "pip": "Other",
                "tensorflow_version": "Other"
              },
              "cell": {
                "js": "DisplayMagics",
                "javascript": "DisplayMagics",
                "latex": "DisplayMagics",
                "svg": "DisplayMagics",
                "html": "DisplayMagics",
                "prun": "ExecutionMagics",
                "debug": "ExecutionMagics",
                "timeit": "ExecutionMagics",
                "time": "ExecutionMagics",
                "capture": "ExecutionMagics",
                "sx": "OSMagics",
                "system": "OSMagics",
                "!": "OSMagics",
                "writefile": "OSMagics",
                "script": "ScriptMagics",
                "sh": "Other",
                "bash": "Other",
                "perl": "Other",
                "ruby": "Other",
                "python": "Other",
                "python2": "Other",
                "python3": "Other",
                "pypy": "Other",
                "SVG": "Other",
                "HTML": "Other",
                "file": "Other",
                "bigquery": "Other",
                "shell": "Other"
              }
            }
          },
          "metadata": {},
          "execution_count": 66
        }
      ]
    },
    {
      "cell_type": "code",
      "source": [
        "import time\n",
        "print(time.ctime())\n",
        "time.sleep(5)\n",
        "print (time.ctime())"
      ],
      "metadata": {
        "colab": {
          "base_uri": "https://localhost:8080/"
        },
        "id": "6yg5zZ-UhswY",
        "outputId": "827d376b-1cd4-499c-9bcf-37ce57844b17"
      },
      "execution_count": null,
      "outputs": [
        {
          "output_type": "stream",
          "name": "stdout",
          "text": [
            "Sun Aug  7 18:17:39 2022\n",
            "Sun Aug  7 18:17:44 2022\n"
          ]
        }
      ]
    },
    {
      "cell_type": "code",
      "source": [
        "#@title Form\n",
        "sleeptime = 0 #@param {type:\"integer\"}\n",
        "import time\n",
        "print(time.ctime())\n",
        "time.sleep(sleeptime)\n",
        "print (time.ctime())"
      ],
      "metadata": {
        "colab": {
          "base_uri": "https://localhost:8080/"
        },
        "id": "mTYT786_husY",
        "outputId": "d9a50c61-4a34-432a-f5d6-8fef94dbdccb"
      },
      "execution_count": null,
      "outputs": [
        {
          "output_type": "stream",
          "name": "stdout",
          "text": [
            "Sun Aug  7 18:22:07 2022\n",
            "Sun Aug  7 18:22:07 2022\n"
          ]
        }
      ]
    },
    {
      "cell_type": "code",
      "source": [
        "name = 'MURALI KRISHNA' #@param {type:\"string\"}\n",
        "print(name)\n"
      ],
      "metadata": {
        "colab": {
          "base_uri": "https://localhost:8080/"
        },
        "id": "iWaPU1lEi2Bz",
        "outputId": "91a45568-aa09-4e3d-cdc9-fe28ee4ff2d9"
      },
      "execution_count": null,
      "outputs": [
        {
          "output_type": "stream",
          "name": "stdout",
          "text": [
            "MURALI KRISHNA\n"
          ]
        }
      ]
    },
    {
      "cell_type": "code",
      "source": [
        "color = 'red' #@param [\"red\", \"green\", \"blue\"]\n",
        "print(color)"
      ],
      "metadata": {
        "id": "iGDJK6H2i93y"
      },
      "execution_count": null,
      "outputs": []
    },
    {
      "cell_type": "code",
      "source": [
        "#@title Date fields\n",
        "date_input = '2022-08-07' #@param {type:\"date\"}\n",
        "print(date_input)"
      ],
      "metadata": {
        "colab": {
          "base_uri": "https://localhost:8080/"
        },
        "id": "UZ8AHn-tjLw-",
        "outputId": "d8f1401f-5fd5-468a-81f9-b98d35f6ffb7"
      },
      "execution_count": null,
      "outputs": [
        {
          "output_type": "stream",
          "name": "stdout",
          "text": [
            "2022-08-07\n"
          ]
        }
      ]
    },
    {
      "cell_type": "code",
      "source": [
        "!apt-get install\n"
      ],
      "metadata": {
        "colab": {
          "base_uri": "https://localhost:8080/"
        },
        "id": "r6pQD66rjU2A",
        "outputId": "c22cca42-bf12-4f0a-8666-8bdebb3e64a0"
      },
      "execution_count": null,
      "outputs": [
        {
          "output_type": "stream",
          "name": "stdout",
          "text": [
            "Reading package lists... Done\n",
            "Building dependency tree       \n",
            "Reading state information... Done\n",
            "The following package was automatically installed and is no longer required:\n",
            "  libnvidia-common-460\n",
            "Use 'apt autoremove' to remove it.\n",
            "0 upgraded, 0 newly installed, 0 to remove and 19 not upgraded.\n"
          ]
        }
      ]
    },
    {
      "cell_type": "code",
      "source": [
        "!pip install -q keras"
      ],
      "metadata": {
        "id": "XIpp0f93jk4Q"
      },
      "execution_count": null,
      "outputs": []
    },
    {
      "cell_type": "code",
      "source": [
        "!pip3 install torch torchvision"
      ],
      "metadata": {
        "colab": {
          "base_uri": "https://localhost:8080/"
        },
        "id": "yLEQHpt_jtOl",
        "outputId": "8edd636f-0933-4f2f-9b35-03b40aa73ef0"
      },
      "execution_count": null,
      "outputs": [
        {
          "output_type": "stream",
          "name": "stdout",
          "text": [
            "Looking in indexes: https://pypi.org/simple, https://us-python.pkg.dev/colab-wheels/public/simple/\n",
            "Requirement already satisfied: torch in /usr/local/lib/python3.7/dist-packages (1.12.0+cu113)\n",
            "Requirement already satisfied: torchvision in /usr/local/lib/python3.7/dist-packages (0.13.0+cu113)\n",
            "Requirement already satisfied: typing-extensions in /usr/local/lib/python3.7/dist-packages (from torch) (4.1.1)\n",
            "Requirement already satisfied: requests in /usr/local/lib/python3.7/dist-packages (from torchvision) (2.23.0)\n",
            "Requirement already satisfied: pillow!=8.3.*,>=5.3.0 in /usr/local/lib/python3.7/dist-packages (from torchvision) (7.1.2)\n",
            "Requirement already satisfied: numpy in /usr/local/lib/python3.7/dist-packages (from torchvision) (1.21.6)\n",
            "Requirement already satisfied: certifi>=2017.4.17 in /usr/local/lib/python3.7/dist-packages (from requests->torchvision) (2022.6.15)\n",
            "Requirement already satisfied: urllib3!=1.25.0,!=1.25.1,<1.26,>=1.21.1 in /usr/local/lib/python3.7/dist-packages (from requests->torchvision) (1.24.3)\n",
            "Requirement already satisfied: chardet<4,>=3.0.2 in /usr/local/lib/python3.7/dist-packages (from requests->torchvision) (3.0.4)\n",
            "Requirement already satisfied: idna<3,>=2.5 in /usr/local/lib/python3.7/dist-packages (from requests->torchvision) (2.10)\n"
          ]
        }
      ]
    },
    {
      "cell_type": "code",
      "source": [
        "!apt install libnvrtc8.0\n",
        "!pip install mxnet-cu80\n"
      ],
      "metadata": {
        "colab": {
          "base_uri": "https://localhost:8080/"
        },
        "id": "I7dAP21gjzy6",
        "outputId": "5824be0d-ec82-4906-dbd8-ed0fb940b1bb"
      },
      "execution_count": null,
      "outputs": [
        {
          "output_type": "stream",
          "name": "stdout",
          "text": [
            "Reading package lists... Done\n",
            "Building dependency tree       \n",
            "Reading state information... Done\n",
            "E: Unable to locate package libnvrtc8.0\n",
            "E: Couldn't find any package by glob 'libnvrtc8.0'\n",
            "E: Couldn't find any package by regex 'libnvrtc8.0'\n",
            "Looking in indexes: https://pypi.org/simple, https://us-python.pkg.dev/colab-wheels/public/simple/\n",
            "Collecting mxnet-cu80\n",
            "  Downloading mxnet_cu80-1.5.0-py2.py3-none-manylinux1_x86_64.whl (372.1 MB)\n",
            "\u001b[K     |████████████████████████████████| 372.1 MB 39 kB/s \n",
            "\u001b[?25hRequirement already satisfied: numpy<2.0.0,>1.16.0 in /usr/local/lib/python3.7/dist-packages (from mxnet-cu80) (1.21.6)\n",
            "Requirement already satisfied: requests<3,>=2.20.0 in /usr/local/lib/python3.7/dist-packages (from mxnet-cu80) (2.23.0)\n",
            "Collecting graphviz<0.9.0,>=0.8.1\n",
            "  Downloading graphviz-0.8.4-py2.py3-none-any.whl (16 kB)\n",
            "Requirement already satisfied: urllib3!=1.25.0,!=1.25.1,<1.26,>=1.21.1 in /usr/local/lib/python3.7/dist-packages (from requests<3,>=2.20.0->mxnet-cu80) (1.24.3)\n",
            "Requirement already satisfied: chardet<4,>=3.0.2 in /usr/local/lib/python3.7/dist-packages (from requests<3,>=2.20.0->mxnet-cu80) (3.0.4)\n",
            "Requirement already satisfied: idna<3,>=2.5 in /usr/local/lib/python3.7/dist-packages (from requests<3,>=2.20.0->mxnet-cu80) (2.10)\n",
            "Requirement already satisfied: certifi>=2017.4.17 in /usr/local/lib/python3.7/dist-packages (from requests<3,>=2.20.0->mxnet-cu80) (2022.6.15)\n",
            "Installing collected packages: graphviz, mxnet-cu80\n",
            "  Attempting uninstall: graphviz\n",
            "    Found existing installation: graphviz 0.10.1\n",
            "    Uninstalling graphviz-0.10.1:\n",
            "      Successfully uninstalled graphviz-0.10.1\n",
            "Successfully installed graphviz-0.8.4 mxnet-cu80-1.5.0\n"
          ]
        }
      ]
    },
    {
      "cell_type": "code",
      "source": [
        "!apt-get -qq install -y libsm6 libxext6 && pip install -q -U opencv-python\n"
      ],
      "metadata": {
        "id": "AcPCWGEPkELQ"
      },
      "execution_count": null,
      "outputs": []
    },
    {
      "cell_type": "code",
      "source": [
        "!pip install -q xgboost==0.4a30"
      ],
      "metadata": {
        "colab": {
          "base_uri": "https://localhost:8080/"
        },
        "id": "D2fAcWeykLyk",
        "outputId": "cb6a3a48-376d-49df-ddd5-952d1d2072c9"
      },
      "execution_count": null,
      "outputs": [
        {
          "output_type": "stream",
          "name": "stdout",
          "text": [
            "\u001b[?25l\r\u001b[K     |▍                               | 10 kB 19.8 MB/s eta 0:00:01\r\u001b[K     |▉                               | 20 kB 5.4 MB/s eta 0:00:01\r\u001b[K     |█▎                              | 30 kB 7.6 MB/s eta 0:00:01\r\u001b[K     |█▊                              | 40 kB 5.7 MB/s eta 0:00:01\r\u001b[K     |██▏                             | 51 kB 5.8 MB/s eta 0:00:01\r\u001b[K     |██▋                             | 61 kB 6.8 MB/s eta 0:00:01\r\u001b[K     |███                             | 71 kB 7.2 MB/s eta 0:00:01\r\u001b[K     |███▌                            | 81 kB 6.6 MB/s eta 0:00:01\r\u001b[K     |████                            | 92 kB 7.3 MB/s eta 0:00:01\r\u001b[K     |████▍                           | 102 kB 7.9 MB/s eta 0:00:01\r\u001b[K     |████▉                           | 112 kB 7.9 MB/s eta 0:00:01\r\u001b[K     |█████▏                          | 122 kB 7.9 MB/s eta 0:00:01\r\u001b[K     |█████▋                          | 133 kB 7.9 MB/s eta 0:00:01\r\u001b[K     |██████                          | 143 kB 7.9 MB/s eta 0:00:01\r\u001b[K     |██████▌                         | 153 kB 7.9 MB/s eta 0:00:01\r\u001b[K     |███████                         | 163 kB 7.9 MB/s eta 0:00:01\r\u001b[K     |███████▍                        | 174 kB 7.9 MB/s eta 0:00:01\r\u001b[K     |███████▉                        | 184 kB 7.9 MB/s eta 0:00:01\r\u001b[K     |████████▎                       | 194 kB 7.9 MB/s eta 0:00:01\r\u001b[K     |████████▊                       | 204 kB 7.9 MB/s eta 0:00:01\r\u001b[K     |█████████▏                      | 215 kB 7.9 MB/s eta 0:00:01\r\u001b[K     |█████████▋                      | 225 kB 7.9 MB/s eta 0:00:01\r\u001b[K     |██████████                      | 235 kB 7.9 MB/s eta 0:00:01\r\u001b[K     |██████████▍                     | 245 kB 7.9 MB/s eta 0:00:01\r\u001b[K     |██████████▉                     | 256 kB 7.9 MB/s eta 0:00:01\r\u001b[K     |███████████▎                    | 266 kB 7.9 MB/s eta 0:00:01\r\u001b[K     |███████████▊                    | 276 kB 7.9 MB/s eta 0:00:01\r\u001b[K     |████████████▏                   | 286 kB 7.9 MB/s eta 0:00:01\r\u001b[K     |████████████▋                   | 296 kB 7.9 MB/s eta 0:00:01\r\u001b[K     |█████████████                   | 307 kB 7.9 MB/s eta 0:00:01\r\u001b[K     |█████████████▌                  | 317 kB 7.9 MB/s eta 0:00:01\r\u001b[K     |██████████████                  | 327 kB 7.9 MB/s eta 0:00:01\r\u001b[K     |██████████████▍                 | 337 kB 7.9 MB/s eta 0:00:01\r\u001b[K     |██████████████▉                 | 348 kB 7.9 MB/s eta 0:00:01\r\u001b[K     |███████████████▏                | 358 kB 7.9 MB/s eta 0:00:01\r\u001b[K     |███████████████▋                | 368 kB 7.9 MB/s eta 0:00:01\r\u001b[K     |████████████████                | 378 kB 7.9 MB/s eta 0:00:01\r\u001b[K     |████████████████▌               | 389 kB 7.9 MB/s eta 0:00:01\r\u001b[K     |█████████████████               | 399 kB 7.9 MB/s eta 0:00:01\r\u001b[K     |█████████████████▍              | 409 kB 7.9 MB/s eta 0:00:01\r\u001b[K     |█████████████████▉              | 419 kB 7.9 MB/s eta 0:00:01\r\u001b[K     |██████████████████▎             | 430 kB 7.9 MB/s eta 0:00:01\r\u001b[K     |██████████████████▊             | 440 kB 7.9 MB/s eta 0:00:01\r\u001b[K     |███████████████████▏            | 450 kB 7.9 MB/s eta 0:00:01\r\u001b[K     |███████████████████▋            | 460 kB 7.9 MB/s eta 0:00:01\r\u001b[K     |████████████████████            | 471 kB 7.9 MB/s eta 0:00:01\r\u001b[K     |████████████████████▍           | 481 kB 7.9 MB/s eta 0:00:01\r\u001b[K     |████████████████████▉           | 491 kB 7.9 MB/s eta 0:00:01\r\u001b[K     |█████████████████████▎          | 501 kB 7.9 MB/s eta 0:00:01\r\u001b[K     |█████████████████████▊          | 512 kB 7.9 MB/s eta 0:00:01\r\u001b[K     |██████████████████████▏         | 522 kB 7.9 MB/s eta 0:00:01\r\u001b[K     |██████████████████████▋         | 532 kB 7.9 MB/s eta 0:00:01\r\u001b[K     |███████████████████████         | 542 kB 7.9 MB/s eta 0:00:01\r\u001b[K     |███████████████████████▌        | 552 kB 7.9 MB/s eta 0:00:01\r\u001b[K     |████████████████████████        | 563 kB 7.9 MB/s eta 0:00:01\r\u001b[K     |████████████████████████▍       | 573 kB 7.9 MB/s eta 0:00:01\r\u001b[K     |████████████████████████▉       | 583 kB 7.9 MB/s eta 0:00:01\r\u001b[K     |█████████████████████████▏      | 593 kB 7.9 MB/s eta 0:00:01\r\u001b[K     |█████████████████████████▋      | 604 kB 7.9 MB/s eta 0:00:01\r\u001b[K     |██████████████████████████      | 614 kB 7.9 MB/s eta 0:00:01\r\u001b[K     |██████████████████████████▌     | 624 kB 7.9 MB/s eta 0:00:01\r\u001b[K     |███████████████████████████     | 634 kB 7.9 MB/s eta 0:00:01\r\u001b[K     |███████████████████████████▍    | 645 kB 7.9 MB/s eta 0:00:01\r\u001b[K     |███████████████████████████▉    | 655 kB 7.9 MB/s eta 0:00:01\r\u001b[K     |████████████████████████████▎   | 665 kB 7.9 MB/s eta 0:00:01\r\u001b[K     |████████████████████████████▊   | 675 kB 7.9 MB/s eta 0:00:01\r\u001b[K     |█████████████████████████████▏  | 686 kB 7.9 MB/s eta 0:00:01\r\u001b[K     |█████████████████████████████▋  | 696 kB 7.9 MB/s eta 0:00:01\r\u001b[K     |██████████████████████████████  | 706 kB 7.9 MB/s eta 0:00:01\r\u001b[K     |██████████████████████████████▍ | 716 kB 7.9 MB/s eta 0:00:01\r\u001b[K     |██████████████████████████████▉ | 727 kB 7.9 MB/s eta 0:00:01\r\u001b[K     |███████████████████████████████▎| 737 kB 7.9 MB/s eta 0:00:01\r\u001b[K     |███████████████████████████████▊| 747 kB 7.9 MB/s eta 0:00:01\r\u001b[K     |████████████████████████████████| 753 kB 7.9 MB/s \n",
            "\u001b[?25h  Building wheel for xgboost (setup.py) ... \u001b[?25l\u001b[?25hdone\n"
          ]
        }
      ]
    },
    {
      "cell_type": "code",
      "source": [
        "!apt-get -qq install -y graphviz && pip install -q pydot"
      ],
      "metadata": {
        "id": "NZc_6IGEkSBs"
      },
      "execution_count": null,
      "outputs": []
    },
    {
      "cell_type": "code",
      "source": [
        "!python3 \"/content/drive/My Drive/app/hello.py\""
      ],
      "metadata": {
        "colab": {
          "base_uri": "https://localhost:8080/"
        },
        "id": "BAZRuO9ck3fI",
        "outputId": "7b48af99-7ff9-4d15-b54e-fbe287a21b0c"
      },
      "execution_count": null,
      "outputs": [
        {
          "output_type": "stream",
          "name": "stdout",
          "text": [
            "python3: can't open file '/content/drive/My Drive/app/hello.py': [Errno 2] No such file or directory\n"
          ]
        }
      ]
    },
    {
      "cell_type": "code",
      "source": [
        "import tensorflow as tf\n",
        "tf.test.gpu_device_name()"
      ],
      "metadata": {
        "colab": {
          "base_uri": "https://localhost:8080/",
          "height": 36
        },
        "id": "9aF8TLwKldoH",
        "outputId": "38500a0c-65a0-4a37-8ce6-de7a0174ee17"
      },
      "execution_count": null,
      "outputs": [
        {
          "output_type": "execute_result",
          "data": {
            "text/plain": [
              "'/device:GPU:0'"
            ],
            "application/vnd.google.colaboratory.intrinsic+json": {
              "type": "string"
            }
          },
          "metadata": {},
          "execution_count": 4
        }
      ]
    },
    {
      "cell_type": "code",
      "source": [
        "from tensorflow.python.client import device_lib\n",
        "device_lib.list_local_devices()\n"
      ],
      "metadata": {
        "colab": {
          "base_uri": "https://localhost:8080/"
        },
        "id": "wPI0y_WplkUQ",
        "outputId": "6295d3b9-c96f-4250-b621-03a9a4c13061"
      },
      "execution_count": null,
      "outputs": [
        {
          "output_type": "execute_result",
          "data": {
            "text/plain": [
              "[name: \"/device:CPU:0\"\n",
              " device_type: \"CPU\"\n",
              " memory_limit: 268435456\n",
              " locality {\n",
              " }\n",
              " incarnation: 12237290320633938158\n",
              " xla_global_id: -1, name: \"/device:GPU:0\"\n",
              " device_type: \"GPU\"\n",
              " memory_limit: 14444920832\n",
              " locality {\n",
              "   bus_id: 1\n",
              "   links {\n",
              "   }\n",
              " }\n",
              " incarnation: 2050883666461534660\n",
              " physical_device_desc: \"device: 0, name: Tesla T4, pci bus id: 0000:00:04.0, compute capability: 7.5\"\n",
              " xla_global_id: 416903419]"
            ]
          },
          "metadata": {},
          "execution_count": 5
        }
      ]
    },
    {
      "cell_type": "code",
      "source": [
        "!cat /proc/meminfo"
      ],
      "metadata": {
        "colab": {
          "base_uri": "https://localhost:8080/"
        },
        "id": "IUkT9VQClrzW",
        "outputId": "fd553557-5d89-4da8-b7c8-22978f6b9bd8"
      },
      "execution_count": null,
      "outputs": [
        {
          "output_type": "stream",
          "name": "stdout",
          "text": [
            "MemTotal:       13298580 kB\n",
            "MemFree:         8891044 kB\n",
            "MemAvailable:   11494448 kB\n",
            "Buffers:          115012 kB\n",
            "Cached:          2418356 kB\n",
            "SwapCached:            0 kB\n",
            "Active:          1890180 kB\n",
            "Inactive:        2161932 kB\n",
            "Active(anon):    1241400 kB\n",
            "Inactive(anon):    10708 kB\n",
            "Active(file):     648780 kB\n",
            "Inactive(file):  2151224 kB\n",
            "Unevictable:           0 kB\n",
            "Mlocked:               0 kB\n",
            "SwapTotal:             0 kB\n",
            "SwapFree:              0 kB\n",
            "Dirty:               260 kB\n",
            "Writeback:             0 kB\n",
            "AnonPages:       1518772 kB\n",
            "Mapped:           690576 kB\n",
            "Shmem:             11448 kB\n",
            "KReclaimable:      89704 kB\n",
            "Slab:             144828 kB\n",
            "SReclaimable:      89704 kB\n",
            "SUnreclaim:        55124 kB\n",
            "KernelStack:        5280 kB\n",
            "PageTables:        16308 kB\n",
            "NFS_Unstable:          0 kB\n",
            "Bounce:                0 kB\n",
            "WritebackTmp:          0 kB\n",
            "CommitLimit:     6649288 kB\n",
            "Committed_AS:    3853376 kB\n",
            "VmallocTotal:   34359738367 kB\n",
            "VmallocUsed:       51356 kB\n",
            "VmallocChunk:          0 kB\n",
            "Percpu:             1528 kB\n",
            "AnonHugePages:         0 kB\n",
            "ShmemHugePages:        0 kB\n",
            "ShmemPmdMapped:        0 kB\n",
            "FileHugePages:         0 kB\n",
            "FilePmdMapped:         0 kB\n",
            "CmaTotal:              0 kB\n",
            "CmaFree:               0 kB\n",
            "HugePages_Total:       0\n",
            "HugePages_Free:        0\n",
            "HugePages_Rsvd:        0\n",
            "HugePages_Surp:        0\n",
            "Hugepagesize:       2048 kB\n",
            "Hugetlb:               0 kB\n",
            "DirectMap4k:      215872 kB\n",
            "DirectMap2M:     6072320 kB\n",
            "DirectMap1G:     9437184 kB\n"
          ]
        }
      ]
    },
    {
      "cell_type": "code",
      "source": [
        "w1=-1\n",
        "w2=-1\n",
        "a1=0\n",
        "a2=0\n",
        "a3=0\n",
        "a4=1\n",
        "b=0\n",
        "k=0\n",
        "for i in range (5):\n",
        "  a=[]\n",
        "  a.append((0*w1)+(0*w2)+b)\n",
        "  a.append((0*w1)+(1*w2)+b)\n",
        "  a.append((1*w1)+(0*w2)+b)\n",
        "  a.append((1*w1)+(1*w2)+b)\n",
        "  for i in range (4):\n",
        "    if a[i]>0:\n",
        "      a[i]=1\n",
        "    else:\n",
        "      a[i]=0\n",
        "  if a[0]==a1 and a[1]==a2 and a[2]==a3 and a[3]==a4:\n",
        "    k=1\n",
        "    break\n",
        "  if w1==w2:\n",
        "    w1+=1\n",
        "  else:\n",
        "    w2+=1\n",
        "  if k==1:\n",
        "    print(\"w1=\",w1)\n",
        "    print(\"w2=\",w2)"
      ],
      "metadata": {
        "id": "F8G73CV7EWWq"
      },
      "execution_count": null,
      "outputs": []
    }
  ]
}