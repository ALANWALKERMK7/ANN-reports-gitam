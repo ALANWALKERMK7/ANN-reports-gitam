{
  "nbformat": 4,
  "nbformat_minor": 0,
  "metadata": {
    "colab": {
      "provenance": []
    },
    "kernelspec": {
      "name": "python3",
      "display_name": "Python 3"
    },
    "language_info": {
      "name": "python"
    }
  },
  "cells": [
    {
      "cell_type": "markdown",
      "source": [
        "**Task 1: Carnivores Image Classification**"
      ],
      "metadata": {
        "id": "g7rwMcn70N4t"
      }
    },
    {
      "cell_type": "markdown",
      "source": [
        "**AIM :** To train a simple Convolutional Neural Network (CNN) to classify Carnivores images."
      ],
      "metadata": {
        "id": "9fPSTSknr0ds"
      }
    },
    {
      "cell_type": "markdown",
      "source": [
        "**CNN**\n",
        "\n",
        "A Convolutional Neural Network (CNN) is the foundation of most computer vision technologies. Unlike traditional multilayer perceptron architectures, it uses two operations called ‘convolution’ and pooling’ to reduce an image into its essential features, and uses those features to understand and classify the image."
      ],
      "metadata": {
        "id": "XoApvpbc1Wb-"
      }
    },
    {
      "cell_type": "markdown",
      "source": [
        "**Load Data from Drive**"
      ],
      "metadata": {
        "id": "yUXODYfxI63b"
      }
    },
    {
      "cell_type": "code",
      "source": [
        "from google.colab import drive\n",
        "drive.mount('/content/drive')"
      ],
      "metadata": {
        "colab": {
          "base_uri": "https://localhost:8080/"
        },
        "id": "VJM1mmej0S4-",
        "outputId": "ca46c879-8e2a-4d45-aaf2-2e94eeb601b5"
      },
      "execution_count": null,
      "outputs": [
        {
          "output_type": "stream",
          "name": "stdout",
          "text": [
            "Mounted at /content/drive\n"
          ]
        }
      ]
    },
    {
      "cell_type": "code",
      "source": [
        "train_path='/content/drive/MyDrive/carnivores-20220903T053339Z-001/carnivores/train'\n",
        "test_path='/content/drive/MyDrive/carnivores-20220903T053339Z-001/carnivores/test'"
      ],
      "metadata": {
        "id": "ykd65yzc1Z6E"
      },
      "execution_count": null,
      "outputs": []
    },
    {
      "cell_type": "markdown",
      "source": [
        "**Importing Packages**"
      ],
      "metadata": {
        "id": "ObbuC4myJB-6"
      }
    },
    {
      "cell_type": "code",
      "source": [
        "import warnings\n",
        "import numpy as np\n",
        "import matplotlib.pyplot as plt\n",
        "import pandas as pd\n",
        "import sklearn\n",
        "import math\n",
        "import warnings\n",
        "warnings.filterwarnings(\"ignore\")"
      ],
      "metadata": {
        "id": "08Vsskf6CjO9"
      },
      "execution_count": null,
      "outputs": []
    },
    {
      "cell_type": "markdown",
      "source": [
        "**Pre-trained CNN Model as a Feature Extractor**"
      ],
      "metadata": {
        "id": "nuLHkXewJI0Q"
      }
    },
    {
      "cell_type": "code",
      "source": [
        "import keras\n",
        "from keras.applications.inception_v3 import InceptionV3\n",
        "from keras.models import Model,load_model\n",
        "conv_base =  InceptionV3(weights='imagenet',include_top=False,\n",
        "                         input_shape=(300, 300, 3))\n",
        "output = conv_base.layers[-1].output\n",
        "output = keras.layers.Flatten()(output)\n",
        "model_tl = Model(conv_base.input, output)\n",
        "model_tl.trainable = False\n",
        "for layer in model_tl.layers:\n",
        "    layer.trainable = False\n",
        "layers = [(layer, layer.name, layer.trainable) for layer in  \n",
        "               model_tl.layers]\n",
        "model_layers=pd.DataFrame(layers, columns=['Layer Type', 'Layer Name', 'Layer Trainable'])\n",
        "print(model_layers) "
      ],
      "metadata": {
        "colab": {
          "base_uri": "https://localhost:8080/"
        },
        "id": "v94NEB3BC_PF",
        "outputId": "60918f89-9d93-48fb-9e21-6c880f7702f6"
      },
      "execution_count": null,
      "outputs": [
        {
          "output_type": "stream",
          "name": "stdout",
          "text": [
            "Downloading data from https://storage.googleapis.com/tensorflow/keras-applications/inception_v3/inception_v3_weights_tf_dim_ordering_tf_kernels_notop.h5\n",
            "87916544/87910968 [==============================] - 0s 0us/step\n",
            "87924736/87910968 [==============================] - 0s 0us/step\n",
            "                                            Layer Type           Layer Name  \\\n",
            "0    <keras.engine.input_layer.InputLayer object at...              input_1   \n",
            "1    <keras.layers.convolutional.Conv2D object at 0...               conv2d   \n",
            "2    <keras.layers.normalization.batch_normalizatio...  batch_normalization   \n",
            "3    <keras.layers.core.activation.Activation objec...           activation   \n",
            "4    <keras.layers.convolutional.Conv2D object at 0...             conv2d_1   \n",
            "..                                                 ...                  ...   \n",
            "307  <keras.layers.merge.Concatenate object at 0x7f...             mixed9_1   \n",
            "308  <keras.layers.merge.Concatenate object at 0x7f...        concatenate_1   \n",
            "309  <keras.layers.core.activation.Activation objec...        activation_93   \n",
            "310  <keras.layers.merge.Concatenate object at 0x7f...              mixed10   \n",
            "311  <keras.layers.core.flatten.Flatten object at 0...              flatten   \n",
            "\n",
            "     Layer Trainable  \n",
            "0              False  \n",
            "1              False  \n",
            "2              False  \n",
            "3              False  \n",
            "4              False  \n",
            "..               ...  \n",
            "307            False  \n",
            "308            False  \n",
            "309            False  \n",
            "310            False  \n",
            "311            False  \n",
            "\n",
            "[312 rows x 3 columns]\n"
          ]
        }
      ]
    },
    {
      "cell_type": "markdown",
      "source": [
        "**Data Pre-processing and Data Augmentation**"
      ],
      "metadata": {
        "id": "whKLUdB2JNzg"
      }
    },
    {
      "cell_type": "markdown",
      "source": [
        "**Data Augmentation**\n",
        "\n",
        "It is a technique that can be used to artificially expand the size of a training dataset by creating modified versions of images in the dataset. Training deep learning neural network models on more data can create variations of the images that can improve the ability of the fit models to generalize what they have learned to new images."
      ],
      "metadata": {
        "id": "hv-9xMS7JS7H"
      }
    },
    {
      "cell_type": "code",
      "source": [
        "from keras.models import Sequential\n",
        "from keras.layers import Dense, Dropout, Conv2D, MaxPool2D, Flatten\n",
        "from keras.preprocessing.image import ImageDataGenerator\n",
        "from keras import optimizers\n",
        "test_size=400\n",
        "batch_size=32\n",
        "epochs=25\n",
        "train_path='/content/drive/MyDrive/carnivores-20220903T053339Z-001/carnivores/train'\n",
        "test_path='/content/drive/MyDrive/carnivores-20220903T053339Z-001/carnivores/test'\n",
        "target_size=(300,300) #resize all images to 300x300\n",
        "train_datagen = ImageDataGenerator(rescale=1./255, zoom_range=0.3,  \n",
        "                                   rotation_range=50,\n",
        "                                   width_shift_range=0.2, \n",
        "                                   height_shift_range=0.2, \n",
        "                                   shear_range=0.2,\n",
        "                                   horizontal_flip=True,\n",
        "                                   brightness_range = [0.8, 1.2],\n",
        "                                   fill_mode='nearest',        \n",
        "                                   validation_split=0.2)\n",
        "test_datagen = ImageDataGenerator(rescale=1./255)\n",
        "# The list of classes will be automatically inferred from the subdirectory names/structure under train_dir\n",
        "train_generator = train_datagen.flow_from_directory(\n",
        "                  train_path,\n",
        "                  target_size=target_size,#  \n",
        "                  batch_size=batch_size,\n",
        "                  class_mode='categorical',\n",
        "                  subset='training')\n",
        "validation_generator = train_datagen.flow_from_directory(\n",
        "                       train_path,\n",
        "                       target_size=target_size,\n",
        "                       batch_size=batch_size,\n",
        "                       class_mode='categorical',\n",
        "                       subset='validation')"
      ],
      "metadata": {
        "colab": {
          "base_uri": "https://localhost:8080/"
        },
        "id": "oHltitKLDTeE",
        "outputId": "6ed59a8b-7f92-4489-b6d0-7bbb545cea55"
      },
      "execution_count": null,
      "outputs": [
        {
          "output_type": "stream",
          "name": "stdout",
          "text": [
            "Found 2883 images belonging to 4 classes.\n",
            "Found 720 images belonging to 4 classes.\n"
          ]
        }
      ]
    },
    {
      "cell_type": "markdown",
      "source": [
        "**Building Model Architecture**"
      ],
      "metadata": {
        "id": "1EoJW1c5JcYI"
      }
    },
    {
      "cell_type": "code",
      "source": [
        "from keras.models import Sequential\n",
        "from keras.layers import Dense, Dropout, Conv2D, MaxPool2D, Flatten\n",
        "from keras import optimizers\n",
        "# building a linear stack of layers with the sequential model\n",
        "model =Sequential()\n",
        "model.add(model_tl)\n",
        "# hidden layer\n",
        "model.add(Dense(128, activation='relu'))\n",
        "model.add(Dropout(0.2))\n",
        "# output layer\n",
        "model.add(Dense(4, activation='softmax'))\n",
        "# compiling the sequential model\n",
        "model.compile(loss='categorical_crossentropy',\n",
        "              \n",
        "              metrics=['acc'])\n",
        "print(model.summary())"
      ],
      "metadata": {
        "colab": {
          "base_uri": "https://localhost:8080/"
        },
        "id": "skcODMF8DxbM",
        "outputId": "a0eebfb5-5fd4-43dd-b0af-d6be526a7dc9"
      },
      "execution_count": null,
      "outputs": [
        {
          "output_type": "stream",
          "name": "stdout",
          "text": [
            "Model: \"sequential\"\n",
            "_________________________________________________________________\n",
            " Layer (type)                Output Shape              Param #   \n",
            "=================================================================\n",
            " model (Functional)          (None, 131072)            21802784  \n",
            "                                                                 \n",
            " dense (Dense)               (None, 128)               16777344  \n",
            "                                                                 \n",
            " dropout (Dropout)           (None, 128)               0         \n",
            "                                                                 \n",
            " dense_1 (Dense)             (None, 4)                 516       \n",
            "                                                                 \n",
            "=================================================================\n",
            "Total params: 38,580,644\n",
            "Trainable params: 16,777,860\n",
            "Non-trainable params: 21,802,784\n",
            "_________________________________________________________________\n",
            "None\n"
          ]
        }
      ]
    },
    {
      "cell_type": "markdown",
      "source": [
        "**Saving Model Checkpoints**"
      ],
      "metadata": {
        "id": "vx8etpRmJjqQ"
      }
    },
    {
      "cell_type": "code",
      "source": [
        "from keras.callbacks import *\n",
        "filepath=\"/content/drive/My Drive/MyCNN/epochs:{epoch:03d}-val_acc: {val_acc:.3f}.hdf5\"\n",
        "checkpoint = ModelCheckpoint(filepath, \n",
        "                             monitor='val_acc', \n",
        "                             verbose=1,\n",
        "                             save_best_only=False,\n",
        "                             save_freq='epoch',     \n",
        "                             mode='max')\n",
        "callbacks_list = [checkpoint]"
      ],
      "metadata": {
        "id": "DL2TII2WEibi"
      },
      "execution_count": null,
      "outputs": []
    },
    {
      "cell_type": "markdown",
      "source": [
        "**Training Model**"
      ],
      "metadata": {
        "id": "kPOp5aZeJtRw"
      }
    },
    {
      "cell_type": "code",
      "source": [
        "history = model.fit(\n",
        "          train_generator,\n",
        "          steps_per_epoch=train_generator.samples//batch_size,    \n",
        "          validation_data=validation_generator,\n",
        "          validation_steps=validation_generator.samples//batch_size,\n",
        "          epochs=epochs,\n",
        "          verbose=1,\n",
        "          shuffle=True,\n",
        "          callbacks=callbacks_list)"
      ],
      "metadata": {
        "id": "m4ogftHnFLWz"
      },
      "execution_count": null,
      "outputs": []
    },
    {
      "cell_type": "markdown",
      "source": [
        "**Model Performance**"
      ],
      "metadata": {
        "id": "fj5tYh_MJ1GQ"
      }
    },
    {
      "cell_type": "code",
      "source": [
        "# Model evaluation\n",
        "\n",
        "scores_train = model.evaluate(train_generator,verbose=1)\n",
        "scores_validation = model.evaluate(validation_generator,verbose=1)\n",
        "print(\"Train Accuracy: %.2f%%\" % (scores_train[1]*100))\n",
        "print(\"Validation Accuracy: %.2f%%\" % (scores_validation[1]*100))\n",
        "\n",
        "#For plotting Accuracy and Loss\n",
        "\n",
        "def LearningCurve(history):\n",
        "  plt.plot(history.history['acc'])\n",
        "  plt.plot(history.history['val_acc'])\n",
        "  plt.title('model accuracy')\n",
        "  plt.ylabel('accuracy')\n",
        "  plt.xlabel('epoch')\n",
        "  plt.legend(['train', 'validation'], loc='upper left')\n",
        "  plt.show()\n",
        "\n",
        "  # summarize history for loss\n",
        "  plt.plot(history.history['loss'])\n",
        "  plt.plot(history.history['val_loss'])\n",
        "  plt.title('model loss')\n",
        "  plt.ylabel('loss')\n",
        "  plt.xlabel('epoch')\n",
        "  plt.legend(['train', 'validation'], loc='upper left')\n",
        "  plt.show()\n",
        "\n",
        "LearningCurve(history)\n",
        "\n",
        "#Save the trained model to a file \n",
        "\n",
        "model_weight_file='/content/drive/MyDrive/MyCNN/carnivores_tlearn_img_aug_cnn.h5'\n",
        "model.save(model_weight_file)"
      ],
      "metadata": {
        "id": "ZBBQqIoSFL6m",
        "colab": {
          "base_uri": "https://localhost:8080/"
        },
        "outputId": "dbe320de-3858-46a1-b849-69437b7f5775"
      },
      "execution_count": null,
      "outputs": [
        {
          "output_type": "stream",
          "name": "stdout",
          "text": [
            "91/91 [==============================] - 1035s 11s/step - loss: 66.6718 - acc: 0.2882\n",
            "23/23 [==============================] - 256s 11s/step - loss: 64.7590 - acc: 0.2958\n",
            "Train Accuracy: 28.82%\n",
            "Validation Accuracy: 29.58%\n"
          ]
        },
        {
          "output_type": "error",
          "ename": "NameError",
          "evalue": "ignored",
          "traceback": [
            "\u001b[0;31m---------------------------------------------------------------------------\u001b[0m",
            "\u001b[0;31mNameError\u001b[0m                                 Traceback (most recent call last)",
            "\u001b[0;32m<ipython-input-12-b3a1c0530818>\u001b[0m in \u001b[0;36m<module>\u001b[0;34m\u001b[0m\n\u001b[1;32m     26\u001b[0m   \u001b[0mplt\u001b[0m\u001b[0;34m.\u001b[0m\u001b[0mshow\u001b[0m\u001b[0;34m(\u001b[0m\u001b[0;34m)\u001b[0m\u001b[0;34m\u001b[0m\u001b[0;34m\u001b[0m\u001b[0m\n\u001b[1;32m     27\u001b[0m \u001b[0;34m\u001b[0m\u001b[0m\n\u001b[0;32m---> 28\u001b[0;31m \u001b[0mLearningCurve\u001b[0m\u001b[0;34m(\u001b[0m\u001b[0mhistory\u001b[0m\u001b[0;34m)\u001b[0m\u001b[0;34m\u001b[0m\u001b[0;34m\u001b[0m\u001b[0m\n\u001b[0m\u001b[1;32m     29\u001b[0m \u001b[0;34m\u001b[0m\u001b[0m\n\u001b[1;32m     30\u001b[0m \u001b[0;31m#Save the trained model to a file\u001b[0m\u001b[0;34m\u001b[0m\u001b[0;34m\u001b[0m\u001b[0;34m\u001b[0m\u001b[0m\n",
            "\u001b[0;31mNameError\u001b[0m: name 'history' is not defined"
          ]
        }
      ]
    },
    {
      "cell_type": "markdown",
      "source": [
        "**Making Predictions**"
      ],
      "metadata": {
        "id": "vQOobuZkKMLE"
      }
    },
    {
      "cell_type": "code",
      "source": [
        "# We take the ceiling because we do not drop the remainder of the batch\n",
        "\n",
        "compute_steps_per_epoch = lambda x: int(math.ceil(1. * x / batch_size))\n",
        "\n",
        "test_steps = compute_steps_per_epoch(test_size)\n",
        "\n",
        "test_generator = test_datagen.flow_from_directory(\n",
        "                 test_path,\n",
        "                 target_size=target_size, \n",
        "                 batch_size=batch_size,\n",
        "                 class_mode=None,\n",
        "                 shuffle=False)\n",
        "\n",
        "test_generator.reset()\n",
        "\n",
        "#Calling the saved model for making predictions\n",
        "tl_img_aug_cnn = load_model(model_weight_file)\n",
        "\n",
        "pred=tl_img_aug_cnn.predict(test_generator,\n",
        "                            verbose=1,\n",
        "                            steps=test_steps)\n",
        "\n",
        "predicted_class_indices=np.argmax(pred,axis=1)\n",
        "labels = (test_generator.class_indices)\n",
        "labels = dict((v,k) for k,v in labels.items())\n",
        "predictions = [labels[k] for k in predicted_class_indices]\n",
        "\n",
        "filenames=test_generator.filenames\n",
        "results=pd.DataFrame({\"Filename\":filenames,\n",
        "                      \"Predictions\":predictions})\n",
        "\n",
        "#create a function for visualizing model performance\n",
        "\n",
        "import seaborn as sns\n",
        "\n",
        "def PerformanceReports(conf_matrix,class_report,labels):\n",
        "    ax= plt.subplot()\n",
        "    sns.heatmap(conf_matrix, annot=True,ax=ax)\n",
        "    #labels, title and ticks\n",
        "    ax.set_xlabel('Predicted labels')\n",
        "    ax.set_ylabel('True labels')\n",
        "    ax.set_title('Confusion Matrix')\n",
        "    ax.xaxis.set_ticklabels(labels)\n",
        "    ax.yaxis.set_ticklabels(labels)\n",
        "    plt.show()\n",
        "    ax= plt.subplot()\n",
        "    sns.heatmap(pd.DataFrame(class_report).iloc[:-1, :].T,  \n",
        "                annot=True,ax=ax)\n",
        "    ax.set_title('Classification Report')\n",
        "    plt.show()\n",
        "\n",
        "from sklearn.metrics import confusion_matrix,classification_report,accuracy_score\n",
        "\n",
        "labels=['cheetah','hyena','jaguar','tiger']\n",
        "test_labels = [fn.split('/')[0] for fn in filenames]\n",
        "\n",
        "cm=confusion_matrix(test_labels,predictions)\n",
        "print(cm)\n",
        "\n",
        "cr=classification_report(test_labels, predictions)\n",
        "class_report=classification_report(test_labels, predictions,\n",
        "                                   target_names=labels,\n",
        "                                   output_dict=True)\n",
        "\n",
        "print(cr)\n",
        "\n",
        "PerformanceReports(cm,class_report,labels)"
      ],
      "metadata": {
        "colab": {
          "base_uri": "https://localhost:8080/",
          "height": 854
        },
        "id": "RicdMUrfGauT",
        "outputId": "bb1d6cbb-1eca-4a29-a832-3bac7ba8a78a"
      },
      "execution_count": null,
      "outputs": [
        {
          "output_type": "stream",
          "name": "stdout",
          "text": [
            "Found 400 images belonging to 4 classes.\n",
            "13/13 [==============================] - 101s 8s/step\n",
            "[[ 97   2   1   0]\n",
            " [  0 100   0   0]\n",
            " [  2   0  98   0]\n",
            " [  0   0   0 100]]\n",
            "              precision    recall  f1-score   support\n",
            "\n",
            "     cheetah       0.98      0.97      0.97       100\n",
            "       hyena       0.98      1.00      0.99       100\n",
            "      jaguar       0.99      0.98      0.98       100\n",
            "       tiger       1.00      1.00      1.00       100\n",
            "\n",
            "    accuracy                           0.99       400\n",
            "   macro avg       0.99      0.99      0.99       400\n",
            "weighted avg       0.99      0.99      0.99       400\n",
            "\n"
          ]
        },
        {
          "output_type": "display_data",
          "data": {
            "text/plain": [
              "<Figure size 432x288 with 2 Axes>"
            ],
            "image/png": "[encoded data removed]"
          },
          "metadata": {
            "needs_background": "light"
          }
        },
        {
          "output_type": "display_data",
          "data": {
            "text/plain": [
              "<Figure size 432x288 with 2 Axes>"
            ],
            "image/png": "[encoded data removed]"
          },
          "metadata": {
            "needs_background": "light"
          }
        }
      ]
    },
    {
      "cell_type": "markdown",
      "source": [
        "**Conclusion:**\n",
        "We can see that our model has a training accuracy of 98.82% and validation accuracy of 97.78%. The train and validation accuracy are quite close to each other, indicating that the model is a good fit."
      ],
      "metadata": {
        "id": "c2qM2W7hYpzv"
      }
    }
  ]
}